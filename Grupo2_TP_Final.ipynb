{
 "cells": [
  {
   "cell_type": "markdown",
   "id": "db04cf61",
   "metadata": {},
   "source": [
    "# TP - Final\n",
    "\n",
    "<div style=\"text-align: right\"> \n",
    "Grupo 2\n",
    "</div>\n",
    "<div style=\"text-align: right\"> \n",
    "Javier Aguirre\n",
    "</div>\n",
    "<div style=\"text-align: right\">     \n",
    "Jonatan Bournissent\n",
    "</div>\n",
    "<div style=\"text-align: right\">     \n",
    "Fábio Negreiros Ribeiro\n",
    "</div>\n",
    "<div style=\"text-align: right\">     \n",
    "Jimena Olmos Asar\n",
    "</div>\n",
    "<div style=\"text-align: right\">     \n",
    "Juan Cruz Rey Alvarez\n",
    "</div>\n",
    "\n",
    "# Introducción y objetivos\n",
    "\n",
    "El dengue es una enfermedad infecciosa causada por un flavivirus del mismo nombre, la cual es transmitida por mosquitos, principalmente por el Aedes aegypti. La infección afecta a personas de todas las edades, y causa síntomas gripales, que varían entre una fiebre leve a una fiebre incapacitante, acompañado de dolor intenso de cabeza, dolor detrás de los ojos, dolor en músculos y articulaciones, y eritema. En ocasiones evoluciona hasta convertirse en un cuadro potencialmente mortal, llamado dengue grave o hemorrágico. Se presenta en las regiones de clima tropical, y en regiones de clima templado con veranos cálidos y húmedos. En los últimos años se ha convertido en un importante problema de salud pública.\n",
    "\n",
    "En la actualidad, más de la mitad de la población mundial está en riesgo de contraer la enfermedad, y es una endemia en más de 110 países. De acuerdo con la Organización Mundial de la Salud (OMS), en las últimas dos décadas aumentó 8 veces más el número de casos notificados, con una estimación de entre 284 y 528 millones de personas infectadas anualmente. \n",
    "Los cuatro serotipos de dengue (DENV-1, DENV-2, DENV-3 y DENV-4) circulan a lo largo de las Américas y en algunos casos circulan simultáneamente. La infección por un serotipo, seguida por otra infección con un serotipo diferente aumenta el riesgo de una persona de padecer dengue grave y hasta morir. \n",
    "\n",
    "En este trabajo proponemos encontrar una solución de Machine Learning para poder predecir si una persona está infectada con dengue o no, a partir de información proporcionada por el paciente (síntomas, enfermedades preexistentes), y con información geográfica, meteorológica y demográfica. El objetivo principal es poder detectar a la mayor cantidad posible de personas infectadas, dado que los casos positivos deberán cuidarse de una posible segunda infección en el futuro, evitando así el dengue hemorrágico.\n",
    "\n",
    "Los datos sanitarios fueron tomados del “Sistema de Informação de agravos de notificação”, recolectados mediante declaración de los pacientes por el Departamento de Vigilância Epidemiológica, dependiente del Ministério da saúde de Brasil. La información meteorológica fue obtenida de los datos publicados por la NASA, y la información geográfica y demográfica se obtuvo de datos públicos de Brasil.\n",
    "\n",
    "\n",
    "# Dataset: limpieza y elección de features\n",
    "\n",
    "La primera pregunta que queremos responder es, cuál es la eficiencia de un modelo de _machine learning_ para diagnosticar si un paciente tiene Dengue considerando:\n",
    "1) Solo los síntomas\n",
    "\n",
    "2) Los síntomas y su histórico de salud, como enfermedades preexistentes\n",
    "\n",
    "3) Síntomas, histórico de salud y resultados de laboratorio\n",
    "\n",
    "Comenzamos analizando cuáles son las _features_ mas relevantes para responder estas preguntas. Nuestro principal objetivo sería utilizar _features_ que puedan ser fácilmente determinadas en el momento en que el paciente llega al hospital.\n",
    "\n",
    "Empezamos cargando las bibliotecas necesarias."
   ]
  },
  {
   "cell_type": "code",
   "execution_count": 3,
   "id": "906f7d86",
   "metadata": {},
   "outputs": [],
   "source": [
    "import pandas as pd\n",
    "import numpy as np\n",
    "import seaborn as sns\n",
    "import matplotlib.pyplot as plt\n",
    "import catboost as ctb\n",
    "from xgboost.sklearn import XGBClassifier\n",
    "from sklearn.model_selection import cross_val_score, GridSearchCV, StratifiedKFold, train_test_split\n",
    "from sklearn.naive_bayes import CategoricalNB\n",
    "from sklearn.metrics import auc, accuracy_score, classification_report, confusion_matrix, f1_score, roc_auc_score, roc_curve\n",
    "from scikitplot.metrics import plot_roc\n",
    "from sklearn import tree\n",
    "from sklearn.tree import DecisionTreeClassifier\n",
    "from sklearn.ensemble import RandomForestClassifier\n",
    "import shap\n",
    "from sklearn.inspection import permutation_importance\n",
    "from sklearn.base import BaseEstimator, TransformerMixin\n",
    "import urllib.request\n",
    "from imblearn.under_sampling import RandomUnderSampler\n",
    "from xgboost.sklearn import XGBClassifier\n",
    "from tqdm import tqdm\n",
    "tqdm.pandas(desc=\"my bar!\")\n",
    "import gc \n",
    "from sklearn.pipeline import make_pipeline, make_union, Pipeline\n",
    "from sklearn.preprocessing import StandardScaler, OneHotEncoder, LabelEncoder\n",
    "from pandas import MultiIndex, Int64Index\n",
    "import pickle\n",
    "import optuna"
   ]
  },
  {
   "cell_type": "code",
   "execution_count": 6,
   "id": "cd92ecd3",
   "metadata": {},
   "outputs": [],
   "source": [
    "dtypes = {'ID_AGRAVO':str,'DT_NOTIFIC':str,'SEM_NOT':\"int8\",'NU_ANO':\"int8\",'SG_UF_NOT':\"int8\",'ID_MUNICIP':str,\n",
    "          'ID_REGIONA':str,'ID_UNIDADE':str,'DT_SIN_PRI':str,'SEM_PRI':str,'DT_NASC':str,'NU_IDADE_N':float,\n",
    "          'CS_SEXO':\"int8\",'CS_GESTANT':\"int8\",'CS_RACA':\"int8\",'CS_ESCOL_N':\"int8\",'SG_UF':\"int8\",\n",
    "          'ID_MN_RESI':\"int64\",'ID_RG_RESI':str,'ID_PAIS':\"int8\",'DT_INVEST':str,'FEBRE':\"int8\",'MIALGIA':\"int8\",\n",
    "          'CEFALEIA':\"int8\",'EXANTEMA':\"int8\",'VOMITO':\"int8\",'NAUSEA':\"int8\",'DOR_COSTAS':\"int8\",'CONJUNTVIT':\"int8\",\n",
    "          'ARTRITE':\"int8\",'ARTRALGIA':\"int8\",'PETEQUIA_N':\"int8\",'LEUCOPENIA':\"int8\",'LACO':\"int8\",'DOR_RETRO':\"int8\",\n",
    "          'DIABETES':\"int8\",'HEMATOLOG':\"int8\",'HEPATOPAT':\"int8\",'RENAL':\"int8\",'HIPERTENSA':\"int8\",'ACIDO_PEPT':\"int8\",\n",
    "          'AUTO_IMUNE':\"int8\",'RESUL_SORO':\"int8\",'RESUL_NS1':\"int8\",'RESUL_VI_N':\"int8\",'RESUL_PCR_':\"int8\",\n",
    "          'HISTOPA_N':\"int8\",'IMUNOH_N':\"int8\",'HOSPITALIZ':\"int8\",'TPAUTOCTO':\"int8\",'COUFINF':\"int8\",'COPAISINF':str,\n",
    "          'COMUNINF':str,'CLASSI_FIN':str,'EVOLUCAO':\"int8\",'DT_ENCERRA':str }"
   ]
  },
  {
   "cell_type": "code",
   "execution_count": 3,
   "id": "ce7b04a4",
   "metadata": {},
   "outputs": [],
   "source": [
    "df = pd.read_csv('data set.csv',dtype=dtypes)"
   ]
  },
  {
   "cell_type": "code",
   "execution_count": 4,
   "id": "edbdac65",
   "metadata": {},
   "outputs": [
    {
     "name": "stdout",
     "output_type": "stream",
     "text": [
      "<class 'pandas.core.frame.DataFrame'>\n",
      "RangeIndex: 6732542 entries, 0 to 6732541\n",
      "Data columns (total 56 columns):\n",
      " #   Column      Dtype  \n",
      "---  ------      -----  \n",
      " 0   ID_AGRAVO   object \n",
      " 1   DT_NOTIFIC  object \n",
      " 2   SEM_NOT     int8   \n",
      " 3   NU_ANO      int8   \n",
      " 4   SG_UF_NOT   int8   \n",
      " 5   ID_MUNICIP  object \n",
      " 6   ID_REGIONA  object \n",
      " 7   ID_UNIDADE  object \n",
      " 8   DT_SIN_PRI  object \n",
      " 9   SEM_PRI     object \n",
      " 10  DT_NASC     object \n",
      " 11  NU_IDADE_N  float64\n",
      " 12  CS_SEXO     int8   \n",
      " 13  CS_GESTANT  int8   \n",
      " 14  CS_RACA     int8   \n",
      " 15  CS_ESCOL_N  int8   \n",
      " 16  SG_UF       int8   \n",
      " 17  ID_MN_RESI  int64  \n",
      " 18  ID_RG_RESI  object \n",
      " 19  ID_PAIS     int8   \n",
      " 20  DT_INVEST   object \n",
      " 21  FEBRE       int8   \n",
      " 22  MIALGIA     int8   \n",
      " 23  CEFALEIA    int8   \n",
      " 24  EXANTEMA    int8   \n",
      " 25  VOMITO      int8   \n",
      " 26  NAUSEA      int8   \n",
      " 27  DOR_COSTAS  int8   \n",
      " 28  CONJUNTVIT  int8   \n",
      " 29  ARTRITE     int8   \n",
      " 30  ARTRALGIA   int8   \n",
      " 31  PETEQUIA_N  int8   \n",
      " 32  LEUCOPENIA  int8   \n",
      " 33  LACO        int8   \n",
      " 34  DOR_RETRO   int8   \n",
      " 35  DIABETES    int8   \n",
      " 36  HEMATOLOG   int8   \n",
      " 37  HEPATOPAT   int8   \n",
      " 38  RENAL       int8   \n",
      " 39  HIPERTENSA  int8   \n",
      " 40  ACIDO_PEPT  int8   \n",
      " 41  AUTO_IMUNE  int8   \n",
      " 42  RESUL_SORO  int8   \n",
      " 43  RESUL_NS1   int8   \n",
      " 44  RESUL_VI_N  int8   \n",
      " 45  RESUL_PCR_  int8   \n",
      " 46  HISTOPA_N   int8   \n",
      " 47  IMUNOH_N    int8   \n",
      " 48  HOSPITALIZ  int8   \n",
      " 49  TPAUTOCTO   int8   \n",
      " 50  COUFINF     int8   \n",
      " 51  COPAISINF   object \n",
      " 52  COMUNINF    object \n",
      " 53  CLASSI_FIN  object \n",
      " 54  EVOLUCAO    int8   \n",
      " 55  DT_ENCERRA  object \n",
      "dtypes: float64(1), int64(1), int8(40), object(14)\n",
      "memory usage: 1.1+ GB\n"
     ]
    }
   ],
   "source": [
    "df.info()"
   ]
  },
  {
   "cell_type": "markdown",
   "id": "d3cac615",
   "metadata": {},
   "source": [
    "Debido a que inicialmente no haremos un análisis geoespacial detallado, quitamos las columnas con información de país (solo nos enfocaremos en casos de Brasil) y estado. Solo conservaremos información del municipio, _ID_MN_RESI _.También descartaremos los códigos de los hospitales en que el paciente fue atendido ya que no creemos que aporten información de valor.\n",
    "\n",
    "Con respecto a los datos temporales, nos quedamos con la fecha del momento en que iniciaron los síntomas, _DT_SIN_PRI_, considerando también que el número de casos de dengue cambia a lo largo del año."
   ]
  },
  {
   "cell_type": "code",
   "execution_count": 5,
   "id": "ed9b7893",
   "metadata": {},
   "outputs": [],
   "source": [
    "# Features con información geoespacial no relevantes por ahora: \n",
    "df=df.drop(columns=['ID_AGRAVO', 'SEM_NOT', 'SG_UF_NOT', 'ID_MUNICIP', 'ID_REGIONA', \n",
    "                    'ID_UNIDADE', 'SEM_PRI', 'ID_RG_RESI', 'ID_PAIS', \n",
    "                    'COUFINF','COPAISINF', 'COMUNINF'])\n",
    "# Feautres con información temporal no relevantes por ahora:\n",
    "df=df.drop(columns=['DT_INVEST', 'DT_NOTIFIC', 'DT_ENCERRA', 'DT_NASC', 'NU_ANO'])"
   ]
  },
  {
   "cell_type": "markdown",
   "id": "33e8c66a",
   "metadata": {},
   "source": [
    "Descartamos además las features CS_ESCOL_N y SG_UF, que hacen referencia al grado de escolaridad y nivel socioeconómico del paciente, en principio entendemos que estos datos no deberían afectar al diagnóstico. También descartamos la información de TPAUTOCTO y HOSPITALIZ por tratarse de datos con una gran cantidad de datos no categorizados (representados por un valor \"9\" que puede ser interpretados como nulo)."
   ]
  },
  {
   "cell_type": "code",
   "execution_count": 6,
   "id": "a0cce381",
   "metadata": {},
   "outputs": [],
   "source": [
    "df=df.drop(columns=['CS_ESCOL_N','SG_UF','TPAUTOCTO','HOSPITALIZ'])"
   ]
  },
  {
   "cell_type": "markdown",
   "id": "87e7609c",
   "metadata": {
    "tags": []
   },
   "source": [
    "Nos quedamos por ahora con las siguientes _features_:\n",
    "\n",
    "\n",
    "\n",
    "_Features_ generales: NU_IDADE_N (la edad del paciente), CS_RACA (la raza del paciente), CS_GESTANT (si la persona es gestante o no, y en qué grado de gestación), EVOLUCAO (cómo evolucionó el estado del paciente).\n",
    "\n",
    "_Features_ asociadas a síntomas y enfermedades preexistentes: FEBRE, MIALGIA, CEFALEIA, EXANTEMA, VOMITO, NAUSEA, DOR_COSTAS, CONJUNTVIT, ARTRITE, ARTRALGIA, PETEQUIA_N, LEUCOPENIA, LACO, DOR_RETRO, DIABETES, HEMATOLOG, HEPATOPAT, RENAL, HIPERTENSA, ACIDO_PEPT, AUTO_IMUNE. \n",
    "\n",
    "_Features_ asociadas a testeos de laboratorio: RESUL_SORO, RESUL_NS1, RESUL_VI_N, RESUL_PCR_, HISTOPA_N, IMUNOH_N. \n",
    "\n",
    "Columna 'Target': CLASSI_FIN"
   ]
  },
  {
   "cell_type": "markdown",
   "id": "66381088",
   "metadata": {},
   "source": [
    "En este dataset, la edad del paciente está escrita en código, donde el primer número determina el orden de magnitud del valor, donde, por ejemplo, 3009 representa 9 meses y 4021 21 años (Miren el archivo \"attributes\" adjunto). En nuestro caso vamos a extraer solo la edad el paciente en años."
   ]
  },
  {
   "cell_type": "code",
   "execution_count": 7,
   "id": "30d140b7",
   "metadata": {},
   "outputs": [],
   "source": [
    "# Si el código empeza con 1, 2 o 3 (menor que 4000), el paciente tiene menos de 1 año. Si empeza con \"4\", tiene X-4000 años:\n",
    "df.NU_IDADE_N=df.NU_IDADE_N.apply(lambda x: (x - 4000) if x > 3999 else 0)"
   ]
  },
  {
   "cell_type": "code",
   "execution_count": 8,
   "id": "08f84e1d",
   "metadata": {},
   "outputs": [
    {
     "data": {
      "image/png": "[encoded data removed]",
      "text/plain": [
       "<Figure size 432x288 with 1 Axes>"
      ]
     },
     "metadata": {
      "needs_background": "light"
     },
     "output_type": "display_data"
    }
   ],
   "source": [
    "sns.histplot(df.NU_IDADE_N);"
   ]
  },
  {
   "cell_type": "markdown",
   "id": "14c98495",
   "metadata": {},
   "source": [
    "Hay algunos _outliers_, edades muy altas de más de 100 años, lo que no tiene sentido. Miremos cuántos datos descartamos considerando un corte en la edad máxima:"
   ]
  },
  {
   "cell_type": "code",
   "execution_count": 9,
   "id": "ca82888e",
   "metadata": {},
   "outputs": [
    {
     "name": "stdout",
     "output_type": "stream",
     "text": [
      "0.9095698177597704\n",
      "0.942515174803217\n",
      "0.9655608535379356\n",
      "0.9807363994164463\n",
      "0.9906853904513332\n"
     ]
    }
   ],
   "source": [
    "lenght=len(df)\n",
    "for thr in [60,65,70,75,80]:\n",
    "    print( len(df[df.NU_IDADE_N<thr] ) / lenght )"
   ]
  },
  {
   "cell_type": "markdown",
   "id": "9e04f050",
   "metadata": {},
   "source": [
    "Si cortamos en 80 años, perdemos menos de 1% de los datos. Por lo tanto lo hacemos:"
   ]
  },
  {
   "cell_type": "code",
   "execution_count": 10,
   "id": "3151a374",
   "metadata": {},
   "outputs": [],
   "source": [
    "df=df[df.NU_IDADE_N<80]"
   ]
  },
  {
   "cell_type": "markdown",
   "id": "49d0cf76",
   "metadata": {},
   "source": [
    "Analicemos ahora la columna EVOLUCAO."
   ]
  },
  {
   "cell_type": "code",
   "execution_count": 11,
   "id": "e3e4a6fb",
   "metadata": {},
   "outputs": [
    {
     "data": {
      "text/plain": [
       "1    0.906731\n",
       "9    0.092871\n",
       "3    0.000294\n",
       "2    0.000088\n",
       "4    0.000015\n",
       "Name: EVOLUCAO, dtype: float64"
      ]
     },
     "execution_count": 11,
     "metadata": {},
     "output_type": "execute_result"
    }
   ],
   "source": [
    "df.EVOLUCAO.value_counts(normalize=True)"
   ]
  },
  {
   "cell_type": "markdown",
   "id": "e7920fff",
   "metadata": {},
   "source": [
    "Vemos que no contiene muchos datos relevantes, considerando que la gran mayoría de los pacientes mejoró (1) o no hay información de su estado (9). Los códigos 2/3/4, que indican muerte por distintas razones, son menos de 0.03% de los datos. Además de lo comentado anteriormente, esta columna agrega información sobre el desnenlace final de la enfermedad y este es un dato del que por supuesto no disponemos al momento del primer análisis. Por esto descartamos esta feature."
   ]
  },
  {
   "cell_type": "code",
   "execution_count": 12,
   "id": "838d502e",
   "metadata": {},
   "outputs": [],
   "source": [
    "df=df.drop(columns=['EVOLUCAO'])"
   ]
  },
  {
   "cell_type": "markdown",
   "id": "65dc375f",
   "metadata": {
    "tags": []
   },
   "source": [
    "Analizando la columna _target_, vemos que tenemos tres diagnósticos: dengue, chikunguña y \"no concluyentes\". El inconveniente que se presenta es que cuando analizamos en profundidad los datos asociados a cada diagnóstico nos encontramos con que tenemos poco mas de 100 registros con información útil para los casos de chikunguña. Si consideramos que contamos con mas de 2 millones de datos en total, nos resulta imposible realizar un análisis de tan pocos datos. Por este motivo tuvimos que optar por descartarlos y solo realizar un análisis de los datos de dengue."
   ]
  },
  {
   "cell_type": "code",
   "execution_count": 13,
   "id": "1a140131",
   "metadata": {},
   "outputs": [
    {
     "data": {
      "text/plain": [
       "Dengue                    4268955\n",
       "Discarded/Inconclusive    2081592\n",
       "Chikungunya                319284\n",
       "Name: CLASSI_FIN, dtype: int64"
      ]
     },
     "execution_count": 13,
     "metadata": {},
     "output_type": "execute_result"
    }
   ],
   "source": [
    "df.CLASSI_FIN.value_counts()"
   ]
  },
  {
   "cell_type": "markdown",
   "id": "4f6f43ad",
   "metadata": {},
   "source": [
    "_De los casi 320000 datos de Chikungunya, poco mas de 100 registros contiene información de utilidad_"
   ]
  },
  {
   "cell_type": "code",
   "execution_count": 14,
   "id": "b754bef9",
   "metadata": {},
   "outputs": [
    {
     "name": "stdout",
     "output_type": "stream",
     "text": [
      "6669831\n",
      "6350547\n"
     ]
    }
   ],
   "source": [
    "print(len(df))\n",
    "df=df[df.CLASSI_FIN != 'Chikungunya']\n",
    "print(len(df))"
   ]
  },
  {
   "cell_type": "markdown",
   "id": "fe9f6ba4",
   "metadata": {},
   "source": [
    "Vamos a realizar entonces una classificación binaria, dengue SI/NO. Transformamos en 0/1 la columna _target_. "
   ]
  },
  {
   "cell_type": "code",
   "execution_count": 15,
   "id": "9f9da76f",
   "metadata": {},
   "outputs": [],
   "source": [
    "df.CLASSI_FIN.replace({'Dengue':1,'Discarded/Inconclusive':0},inplace=True)"
   ]
  },
  {
   "cell_type": "code",
   "execution_count": 16,
   "id": "8612f084",
   "metadata": {},
   "outputs": [
    {
     "data": {
      "text/plain": [
       "1    4268955\n",
       "0    2081592\n",
       "Name: CLASSI_FIN, dtype: int64"
      ]
     },
     "execution_count": 16,
     "metadata": {},
     "output_type": "execute_result"
    }
   ],
   "source": [
    "df.CLASSI_FIN.value_counts()"
   ]
  },
  {
   "cell_type": "markdown",
   "id": "794db4e4",
   "metadata": {},
   "source": [
    "Consideremos ahora las columnas con síntoma \"fiebre\" y raza y sexo del paciente. Hay muchos datos con el valor \"9\" que indica \"Ignored / Sin información\", es decir que son datos que no nos aportan información de importancia y por lo tanto los quitamos de nuestro dataset."
   ]
  },
  {
   "cell_type": "code",
   "execution_count": 17,
   "id": "09c993a9",
   "metadata": {},
   "outputs": [
    {
     "name": "stdout",
     "output_type": "stream",
     "text": [
      "(6350547, 34)\n",
      "(2292121, 34)\n"
     ]
    }
   ],
   "source": [
    "print(df.shape)\n",
    "df=df[df.FEBRE != 9]\n",
    "df=df[df.CS_SEXO != 9]\n",
    "df=df[df.CS_RACA != 9]\n",
    "print(df.shape)"
   ]
  },
  {
   "cell_type": "markdown",
   "id": "37d3da59",
   "metadata": {},
   "source": [
    "Todavía nos quedamos con mas de 2 millones de datos.\n",
    "\n",
    "Observamos como queda nuestro dataset actual."
   ]
  },
  {
   "cell_type": "markdown",
   "id": "44ec5ef6",
   "metadata": {},
   "source": [
    "En el caso de la fecha de comienzo de síntomas, nos interesa agrupar los datos por meses para saber si existe alguna correlación entre la época del año y los casos de dengue notificados."
   ]
  },
  {
   "cell_type": "code",
   "execution_count": 18,
   "id": "45383fb8",
   "metadata": {},
   "outputs": [
    {
     "data": {
      "text/plain": [
       "0          2018-05-06\n",
       "1          2018-02-03\n",
       "2          2018-01-05\n",
       "3          2018-05-04\n",
       "4          2018-04-02\n",
       "              ...    \n",
       "6191573    2016-04-11\n",
       "6191582    2016-04-10\n",
       "6191610    2016-02-29\n",
       "6191626    2016-08-15\n",
       "6191627    2016-01-05\n",
       "Name: DT_SIN_PRI, Length: 2292121, dtype: object"
      ]
     },
     "execution_count": 18,
     "metadata": {},
     "output_type": "execute_result"
    }
   ],
   "source": [
    "df['DT_SIN_PRI']"
   ]
  },
  {
   "cell_type": "code",
   "execution_count": 19,
   "id": "42c0fceb",
   "metadata": {},
   "outputs": [],
   "source": [
    "# Convertimos la columna a tipo datetime\n",
    "df['DT_SIN_PRI'] = pd.to_datetime(df['DT_SIN_PRI'],errors='coerce')"
   ]
  },
  {
   "cell_type": "code",
   "execution_count": 20,
   "id": "6261fa33",
   "metadata": {},
   "outputs": [
    {
     "data": {
      "text/plain": [
       "4.0     453501\n",
       "3.0     436434\n",
       "5.0     393223\n",
       "2.0     325026\n",
       "1.0     181044\n",
       "6.0     171838\n",
       "7.0      80560\n",
       "12.0     68944\n",
       "11.0     51158\n",
       "8.0      48847\n",
       "10.0     41815\n",
       "9.0      39723\n",
       "NaN          8\n",
       "Name: MES_NOT, dtype: int64"
      ]
     },
     "execution_count": 20,
     "metadata": {},
     "output_type": "execute_result"
    }
   ],
   "source": [
    "# Creamos la columna MES_NOT, con el mes en que empezaran los sintomas\n",
    "df['MES_NOT'] = pd.DatetimeIndex(df['DT_SIN_PRI']).month\n",
    "df['MES_NOT'].value_counts(dropna=False)"
   ]
  },
  {
   "cell_type": "code",
   "execution_count": 21,
   "id": "4477254a",
   "metadata": {},
   "outputs": [],
   "source": [
    "df=df.dropna() # Quitamos los 8 registros con fechas en formato incorrecto"
   ]
  },
  {
   "cell_type": "markdown",
   "id": "f8525ecd",
   "metadata": {},
   "source": [
    "Consideramos ahora el municipio de residencia del paciente. El dengue puede ser más o menos incidente en grandes centros urbanos, o también en ciudades con condiciones sanitarias precarias o con bajo nivel socioeconómico. Como no es fácil encontrar dados sociales para cada município de Brasil, pero si es fácil encontrar números geográficos cuantitativos, como población y área, vamos crear una nueva _feature_ que contiene la densidad poblacional del municipio del paciente, que potencialmente puede indicar si hay más chances de que tenga dengue o no.\n",
    "\n",
    "En nuestro dataset, los municípios son representados por su código IBGE correspondiente. La densidad poblacional de cada municipio fue obtenida del sítio web https://sidra.ibge.gov.br/tabela/1301. Además, como el código de cada municipio utilizado en esta página es del tipo IBGE-7, tuvimos que bajar un segundo dataset para obtener la relación entre los códigos IBGE / IBGE-7."
   ]
  },
  {
   "cell_type": "code",
   "execution_count": 22,
   "id": "a6b46257",
   "metadata": {},
   "outputs": [],
   "source": [
    "df_mun = pd.read_csv('Lista_Municípios_com_IBGE_Brasil_Versao_CSV.csv',low_memory=False,encoding='latin-1',sep=';')\n",
    "df_pop = pd.read_csv('tabela_Dens.csv',low_memory=False,encoding='latin-1',header=None)\n",
    "df_pop.columns=['IBGE7','Municipio','Densidad_Poblacional']"
   ]
  },
  {
   "cell_type": "markdown",
   "id": "9eea3da3",
   "metadata": {},
   "source": [
    "La idea es hacer un diccionario que relaciona los códigos IBGE-7 y IBGE, y un segundo diccionario que relaciona el código IBGE con la densidad poblacional. Después, mapeamos los dos diccionarios y creamos una nueva columna en nuestro dataset original llamada _Densidad_Mun_, o densidad poblacional del municipio del paciente."
   ]
  },
  {
   "cell_type": "code",
   "execution_count": 23,
   "id": "58ff0713",
   "metadata": {},
   "outputs": [],
   "source": [
    "ibge7_ibge=dict(zip(df_mun.IBGE7,df_mun.IBGE))\n",
    "df_pop['IBGE']=df_pop.IBGE7.map(ibge7_ibge)\n",
    "\n",
    "ibge_densidad=dict(zip(df_pop.IBGE,df_pop.Densidad_Poblacional))\n",
    "df['Densidad_Mun']=df.ID_MN_RESI.map(ibge_densidad)"
   ]
  },
  {
   "cell_type": "code",
   "execution_count": 24,
   "id": "1595efb0",
   "metadata": {},
   "outputs": [
    {
     "data": {
      "text/plain": [
       "Index(['DT_SIN_PRI', 'NU_IDADE_N', 'CS_SEXO', 'CS_GESTANT', 'CS_RACA',\n",
       "       'ID_MN_RESI', 'FEBRE', 'MIALGIA', 'CEFALEIA', 'EXANTEMA', 'VOMITO',\n",
       "       'NAUSEA', 'DOR_COSTAS', 'CONJUNTVIT', 'ARTRITE', 'ARTRALGIA',\n",
       "       'PETEQUIA_N', 'LEUCOPENIA', 'LACO', 'DOR_RETRO', 'DIABETES',\n",
       "       'HEMATOLOG', 'HEPATOPAT', 'RENAL', 'HIPERTENSA', 'ACIDO_PEPT',\n",
       "       'AUTO_IMUNE', 'RESUL_SORO', 'RESUL_NS1', 'RESUL_VI_N', 'RESUL_PCR_',\n",
       "       'HISTOPA_N', 'IMUNOH_N', 'CLASSI_FIN', 'MES_NOT', 'Densidad_Mun'],\n",
       "      dtype='object')"
      ]
     },
     "execution_count": 24,
     "metadata": {},
     "output_type": "execute_result"
    }
   ],
   "source": [
    "df.columns"
   ]
  },
  {
   "cell_type": "markdown",
   "id": "7d2ce418",
   "metadata": {},
   "source": [
    "En algunos casos no había relación entre IBGE/Densidad por lo que los descartamos"
   ]
  },
  {
   "cell_type": "code",
   "execution_count": 25,
   "id": "c85df3ab",
   "metadata": {},
   "outputs": [
    {
     "name": "stdout",
     "output_type": "stream",
     "text": [
      "2292113\n",
      "2291869\n"
     ]
    }
   ],
   "source": [
    "print(len(df))\n",
    "df=df.dropna()\n",
    "print(len(df))"
   ]
  },
  {
   "cell_type": "markdown",
   "id": "4a940a66",
   "metadata": {},
   "source": [
    "Ploteamos un histograma con la densidad poblacional para los casos positivos/negativos de Dengue:"
   ]
  },
  {
   "cell_type": "code",
   "execution_count": 26,
   "id": "588c81a5",
   "metadata": {},
   "outputs": [
    {
     "data": {
      "image/png": "[encoded data removed]",
      "text/plain": [
       "<Figure size 432x288 with 1 Axes>"
      ]
     },
     "metadata": {
      "needs_background": "light"
     },
     "output_type": "display_data"
    }
   ],
   "source": [
    "sns.histplot(data=df,x='Densidad_Mun',bins=30,hue='CLASSI_FIN',kde=True);"
   ]
  },
  {
   "cell_type": "markdown",
   "id": "08db16b4",
   "metadata": {},
   "source": [
    "Vemos que gran parte de los municipios tienen una densidad poblacional muy baja y es difícil reconocer un patrón claro. Pero sí podemos ver que la tasa de positivos/negativos para el dengue no es uniforme cuando lo miramos en función de la densidad poblacional. Entonces vamos a crear categorías para dividir en grupos los municipios. Para saber cuantas categorás crear, hagamos un análisis rápido de porcentaje de casos positivos de dengue en función de la densidad poblacional normalizada para distintos q-quartiles."
   ]
  },
  {
   "cell_type": "code",
   "execution_count": 27,
   "id": "d6f0895a",
   "metadata": {},
   "outputs": [
    {
     "data": {
      "image/png": "[encoded data removed]",
      "text/plain": [
       "<Figure size 432x288 with 1 Axes>"
      ]
     },
     "metadata": {
      "needs_background": "light"
     },
     "output_type": "display_data"
    }
   ],
   "source": [
    "xq = []\n",
    "for size_q in range(6,18): # De 6 a 18 quartiles\n",
    "    mylabels=[]\n",
    "    for i in range(1,size_q+1):\n",
    "        mylabels.append( \"q\"+str(i) )\n",
    "    df['Temp']=pd.qcut(df.Densidad_Mun, q=size_q,labels=mylabels)\n",
    "    xq_i=[]\n",
    "    for name in mylabels:\n",
    "        v=df[df.Temp == name]\n",
    "        a=v.CLASSI_FIN.value_counts(normalize=True)\n",
    "        xq_i.append(np.round(a[1],2))\n",
    "    xq.append(xq_i)\n",
    "    \n",
    "c=['darkblue','blue','lightsteelblue','lightcoral','red','darkred']\n",
    "l=['6','8','10','12','14','16']\n",
    "for max in range(6,18,2):\n",
    "    x=np.arange(0,max)/max\n",
    "    plt.plot(x,xq[max-6],color=c[int((max-6)/2)],label=l[int((max-6)/2)])\n",
    "plt.xlabel('Densidad Poblacional normalizada')\n",
    "plt.ylabel('Porcentaje de casos positivos de Dengue')\n",
    "plt.legend(ncol=2);"
   ]
  },
  {
   "cell_type": "markdown",
   "id": "5b4bb89b",
   "metadata": {},
   "source": [
    "Sabemos que considerando todo el dataset, la tasa de positivos para Dengue es 65%. La distribución en función de la densidad no es para nada uniforme, con tres picos bien marcados, principalmente en ciudades con una alta densidad poblacional. Además, vemos una convergencia de la curva a partir de 14 quartiles. Crearemos, por lo tanto, 15 grupos, de _q1_ hasta _q15_."
   ]
  },
  {
   "cell_type": "code",
   "execution_count": 28,
   "id": "a2057bc6",
   "metadata": {},
   "outputs": [],
   "source": [
    "size_q=15\n",
    "mylabels=[]\n",
    "for i in range(1,size_q+1):\n",
    "    mylabels.append( \"q\"+str(i) )\n",
    "        \n",
    "df.Densidad_Mun=pd.qcut(df.Densidad_Mun, q=size_q,labels=mylabels)"
   ]
  },
  {
   "cell_type": "markdown",
   "id": "5487386a",
   "metadata": {},
   "source": [
    "Ahora podemos eliminar las columnas originales con fechas y municipio y también la columna con datos temporales que habiamos creado."
   ]
  },
  {
   "cell_type": "code",
   "execution_count": 30,
   "id": "325ca8fd",
   "metadata": {},
   "outputs": [],
   "source": [
    "df=df.drop(columns=['DT_SIN_PRI','ID_MN_RESI','Temp'])"
   ]
  },
  {
   "cell_type": "code",
   "execution_count": 31,
   "id": "c87f4d73",
   "metadata": {},
   "outputs": [
    {
     "data": {
      "text/html": [
       "<div>\n",
       "<style scoped>\n",
       "    .dataframe tbody tr th:only-of-type {\n",
       "        vertical-align: middle;\n",
       "    }\n",
       "\n",
       "    .dataframe tbody tr th {\n",
       "        vertical-align: top;\n",
       "    }\n",
       "\n",
       "    .dataframe thead th {\n",
       "        text-align: right;\n",
       "    }\n",
       "</style>\n",
       "<table border=\"1\" class=\"dataframe\">\n",
       "  <thead>\n",
       "    <tr style=\"text-align: right;\">\n",
       "      <th></th>\n",
       "      <th>NU_IDADE_N</th>\n",
       "      <th>CS_SEXO</th>\n",
       "      <th>CS_GESTANT</th>\n",
       "      <th>CS_RACA</th>\n",
       "      <th>FEBRE</th>\n",
       "      <th>MIALGIA</th>\n",
       "      <th>CEFALEIA</th>\n",
       "      <th>EXANTEMA</th>\n",
       "      <th>VOMITO</th>\n",
       "      <th>NAUSEA</th>\n",
       "      <th>...</th>\n",
       "      <th>AUTO_IMUNE</th>\n",
       "      <th>RESUL_SORO</th>\n",
       "      <th>RESUL_NS1</th>\n",
       "      <th>RESUL_VI_N</th>\n",
       "      <th>RESUL_PCR_</th>\n",
       "      <th>HISTOPA_N</th>\n",
       "      <th>IMUNOH_N</th>\n",
       "      <th>CLASSI_FIN</th>\n",
       "      <th>MES_NOT</th>\n",
       "      <th>Densidad_Mun</th>\n",
       "    </tr>\n",
       "  </thead>\n",
       "  <tbody>\n",
       "    <tr>\n",
       "      <th>0</th>\n",
       "      <td>22.0</td>\n",
       "      <td>0</td>\n",
       "      <td>5</td>\n",
       "      <td>4</td>\n",
       "      <td>1</td>\n",
       "      <td>1</td>\n",
       "      <td>1</td>\n",
       "      <td>2</td>\n",
       "      <td>2</td>\n",
       "      <td>1</td>\n",
       "      <td>...</td>\n",
       "      <td>2</td>\n",
       "      <td>4</td>\n",
       "      <td>4</td>\n",
       "      <td>4</td>\n",
       "      <td>4</td>\n",
       "      <td>4</td>\n",
       "      <td>4</td>\n",
       "      <td>1</td>\n",
       "      <td>5.0</td>\n",
       "      <td>q4</td>\n",
       "    </tr>\n",
       "    <tr>\n",
       "      <th>1</th>\n",
       "      <td>35.0</td>\n",
       "      <td>1</td>\n",
       "      <td>6</td>\n",
       "      <td>4</td>\n",
       "      <td>1</td>\n",
       "      <td>2</td>\n",
       "      <td>1</td>\n",
       "      <td>2</td>\n",
       "      <td>1</td>\n",
       "      <td>1</td>\n",
       "      <td>...</td>\n",
       "      <td>2</td>\n",
       "      <td>4</td>\n",
       "      <td>4</td>\n",
       "      <td>4</td>\n",
       "      <td>4</td>\n",
       "      <td>4</td>\n",
       "      <td>4</td>\n",
       "      <td>1</td>\n",
       "      <td>2.0</td>\n",
       "      <td>q4</td>\n",
       "    </tr>\n",
       "    <tr>\n",
       "      <th>2</th>\n",
       "      <td>44.0</td>\n",
       "      <td>1</td>\n",
       "      <td>6</td>\n",
       "      <td>4</td>\n",
       "      <td>1</td>\n",
       "      <td>1</td>\n",
       "      <td>2</td>\n",
       "      <td>2</td>\n",
       "      <td>2</td>\n",
       "      <td>1</td>\n",
       "      <td>...</td>\n",
       "      <td>2</td>\n",
       "      <td>4</td>\n",
       "      <td>4</td>\n",
       "      <td>4</td>\n",
       "      <td>4</td>\n",
       "      <td>4</td>\n",
       "      <td>4</td>\n",
       "      <td>1</td>\n",
       "      <td>1.0</td>\n",
       "      <td>q4</td>\n",
       "    </tr>\n",
       "    <tr>\n",
       "      <th>3</th>\n",
       "      <td>3.0</td>\n",
       "      <td>1</td>\n",
       "      <td>6</td>\n",
       "      <td>1</td>\n",
       "      <td>1</td>\n",
       "      <td>2</td>\n",
       "      <td>1</td>\n",
       "      <td>2</td>\n",
       "      <td>2</td>\n",
       "      <td>2</td>\n",
       "      <td>...</td>\n",
       "      <td>2</td>\n",
       "      <td>4</td>\n",
       "      <td>4</td>\n",
       "      <td>4</td>\n",
       "      <td>4</td>\n",
       "      <td>4</td>\n",
       "      <td>4</td>\n",
       "      <td>0</td>\n",
       "      <td>5.0</td>\n",
       "      <td>q9</td>\n",
       "    </tr>\n",
       "    <tr>\n",
       "      <th>4</th>\n",
       "      <td>10.0</td>\n",
       "      <td>0</td>\n",
       "      <td>6</td>\n",
       "      <td>1</td>\n",
       "      <td>1</td>\n",
       "      <td>2</td>\n",
       "      <td>2</td>\n",
       "      <td>2</td>\n",
       "      <td>1</td>\n",
       "      <td>2</td>\n",
       "      <td>...</td>\n",
       "      <td>2</td>\n",
       "      <td>4</td>\n",
       "      <td>4</td>\n",
       "      <td>4</td>\n",
       "      <td>4</td>\n",
       "      <td>4</td>\n",
       "      <td>4</td>\n",
       "      <td>0</td>\n",
       "      <td>4.0</td>\n",
       "      <td>q9</td>\n",
       "    </tr>\n",
       "  </tbody>\n",
       "</table>\n",
       "<p>5 rows × 34 columns</p>\n",
       "</div>"
      ],
      "text/plain": [
       "   NU_IDADE_N  CS_SEXO  CS_GESTANT  CS_RACA  FEBRE  MIALGIA  CEFALEIA  \\\n",
       "0        22.0        0           5        4      1        1         1   \n",
       "1        35.0        1           6        4      1        2         1   \n",
       "2        44.0        1           6        4      1        1         2   \n",
       "3         3.0        1           6        1      1        2         1   \n",
       "4        10.0        0           6        1      1        2         2   \n",
       "\n",
       "   EXANTEMA  VOMITO  NAUSEA  ...  AUTO_IMUNE  RESUL_SORO  RESUL_NS1  \\\n",
       "0         2       2       1  ...           2           4          4   \n",
       "1         2       1       1  ...           2           4          4   \n",
       "2         2       2       1  ...           2           4          4   \n",
       "3         2       2       2  ...           2           4          4   \n",
       "4         2       1       2  ...           2           4          4   \n",
       "\n",
       "   RESUL_VI_N  RESUL_PCR_  HISTOPA_N  IMUNOH_N  CLASSI_FIN  MES_NOT  \\\n",
       "0           4           4          4         4           1      5.0   \n",
       "1           4           4          4         4           1      2.0   \n",
       "2           4           4          4         4           1      1.0   \n",
       "3           4           4          4         4           0      5.0   \n",
       "4           4           4          4         4           0      4.0   \n",
       "\n",
       "   Densidad_Mun  \n",
       "0            q4  \n",
       "1            q4  \n",
       "2            q4  \n",
       "3            q9  \n",
       "4            q9  \n",
       "\n",
       "[5 rows x 34 columns]"
      ]
     },
     "execution_count": 31,
     "metadata": {},
     "output_type": "execute_result"
    }
   ],
   "source": [
    "df.head()"
   ]
  },
  {
   "cell_type": "markdown",
   "id": "b9702251",
   "metadata": {},
   "source": [
    "Notamos que las columnas con resultados de laboratorio con testeos para analizar si la persona tiene Dengue o no son pocas en realidad. En la gran mayoría de los casos tenemos el código \"4\", que indica que no fue hecho el test. Miremos cuántos son los casos en que el resultado del testeo fue negativo o positivo:"
   ]
  },
  {
   "cell_type": "code",
   "execution_count": 32,
   "id": "831b638c",
   "metadata": {},
   "outputs": [
    {
     "name": "stdout",
     "output_type": "stream",
     "text": [
      "RESUL_SORO 37926 23027\n",
      "RESUL_NS1 91550 16219\n",
      "RESUL_VI_N 1767 113\n",
      "RESUL_PCR_ 3657 514\n",
      "HISTOPA_N 1014 287\n",
      "IMUNOH_N 1253 187\n"
     ]
    }
   ],
   "source": [
    "testeos_lab = ['RESUL_SORO', 'RESUL_NS1', 'RESUL_VI_N','RESUL_PCR_', 'HISTOPA_N','IMUNOH_N']\n",
    "for x in testeos_lab:\n",
    "    print(x,df[df[x]==2].shape[0],df[df[x]==1].shape[0])"
   ]
  },
  {
   "cell_type": "markdown",
   "id": "6bb13e5e",
   "metadata": {},
   "source": [
    "Solamente 160000 testeos aproximadamente fueran realizados, en casi 2 millones de datos. La gran mayoría de los testeos de laboratório fueron del tipo _NS1_ o _SORO_, con las otras técnicas representando menos de 5% de los casos. Además, observemos cómo está relacionado el resultado del testeo con el diagnóstico."
   ]
  },
  {
   "cell_type": "code",
   "execution_count": 33,
   "id": "181d7fe8",
   "metadata": {},
   "outputs": [
    {
     "name": "stdout",
     "output_type": "stream",
     "text": [
      "Examen - Positivo - Negativo\n",
      "RESUL_SORO 92.7 62.4\n",
      "RESUL_NS1 91.8 64.0\n",
      "RESUL_VI_N 89.4 38.3\n",
      "RESUL_PCR_ 94.4 42.7\n",
      "HISTOPA_N 89.2 51.7\n",
      "IMUNOH_N 86.6 42.5\n"
     ]
    }
   ],
   "source": [
    "print(\"Examen - Positivo - Negativo\")\n",
    "for x in testeos_lab:\n",
    "    # De los resultados de lab. positivos (df[df[x]==1]), cuántos fueron clasificados como positivos (CLASSI_FIN == 1)\n",
    "    V1 = (df[df[x]==1].CLASSI_FIN == 1).sum() \n",
    "    # De los resultados de lab. negativos (df[df[x]==2]), cuántos fueron clasificados como negativos (CLASSI_FIN == 0)\n",
    "    V2 = (df[df[x]==2].CLASSI_FIN == 0).sum() \n",
    "      \n",
    "    N1 = len(df[df[x]==1]) # Número de resultados positivos del testeo\n",
    "    N2 = len(df[df[x]==2]) # Número de resultados negativos del testeo\n",
    "        \n",
    "    print(x,np.round(100*V1/N1,1),np.round(100*V2/N2,1))"
   ]
  },
  {
   "cell_type": "markdown",
   "id": "5afa5231",
   "metadata": {},
   "source": [
    "Por lo tanto, aún cuando el resultado del testeo fue positivo para el virus del Dengue, el diagnóstico final fue positivo en aproximadamente el 92% de los casos. De manera similar, cuando el resultado del testeo fue negativo, aproximadamente el 63% de los casos fueron finalmente clasificados como negativos. Es deciir, tenemos una divergencia entre los resultados de testeos de laboratorio y el diagnóstico final. En este trabajo, vamos considerar como \"verdad\" el diagnóstico final del médico, suponiendo que es el correcto y que los tests de laboratorio son solamente una _feature_ más. Hay que tener en cuenta por lo tanto que, si miramos solamente los testeos de laboratorio, tenemos una precisión en torno al 75%.\n",
    "\n",
    "Vamos a categorizar la columna con los testeos:"
   ]
  },
  {
   "cell_type": "code",
   "execution_count": 34,
   "id": "df5ff0f4",
   "metadata": {},
   "outputs": [],
   "source": [
    "for x in df[testeos_lab].columns:\n",
    "    df[x]=df[x].replace({1:'Positivo',2:'Negativo',3:'Inconcl.',4:'Ausente'})"
   ]
  },
  {
   "cell_type": "markdown",
   "id": "d8ad0d64",
   "metadata": {},
   "source": [
    "La columna con información sobre el período de gestación de las mujeres embarazadas, puede ser simplificada transformándola en una feature binaria: si la persona está embarazada o no."
   ]
  },
  {
   "cell_type": "code",
   "execution_count": 35,
   "id": "f18b8e02",
   "metadata": {},
   "outputs": [
    {
     "data": {
      "text/plain": [
       "6    1302828\n",
       "5     852739\n",
       "9     111872\n",
       "2       8047\n",
       "3       6728\n",
       "1       6251\n",
       "4       3404\n",
       "Name: CS_GESTANT, dtype: int64"
      ]
     },
     "execution_count": 35,
     "metadata": {},
     "output_type": "execute_result"
    }
   ],
   "source": [
    "df.CS_GESTANT.value_counts()"
   ]
  },
  {
   "cell_type": "code",
   "execution_count": 36,
   "id": "ec93854e",
   "metadata": {},
   "outputs": [],
   "source": [
    "df.CS_GESTANT=df.CS_GESTANT.replace({1:1,2:1,3:1,4:0,5:0,6:0,9:0})"
   ]
  },
  {
   "cell_type": "code",
   "execution_count": 37,
   "id": "774db694",
   "metadata": {},
   "outputs": [
    {
     "data": {
      "text/plain": [
       "0    2270843\n",
       "1      21026\n",
       "Name: CS_GESTANT, dtype: int64"
      ]
     },
     "execution_count": 37,
     "metadata": {},
     "output_type": "execute_result"
    }
   ],
   "source": [
    "df.CS_GESTANT.value_counts()"
   ]
  },
  {
   "cell_type": "markdown",
   "id": "7572b759",
   "metadata": {},
   "source": [
    "Tenemos las siguientes columnas:"
   ]
  },
  {
   "cell_type": "code",
   "execution_count": 38,
   "id": "afb7b221",
   "metadata": {},
   "outputs": [
    {
     "data": {
      "text/plain": [
       "Index(['NU_IDADE_N', 'CS_SEXO', 'CS_GESTANT', 'CS_RACA', 'FEBRE', 'MIALGIA',\n",
       "       'CEFALEIA', 'EXANTEMA', 'VOMITO', 'NAUSEA', 'DOR_COSTAS', 'CONJUNTVIT',\n",
       "       'ARTRITE', 'ARTRALGIA', 'PETEQUIA_N', 'LEUCOPENIA', 'LACO', 'DOR_RETRO',\n",
       "       'DIABETES', 'HEMATOLOG', 'HEPATOPAT', 'RENAL', 'HIPERTENSA',\n",
       "       'ACIDO_PEPT', 'AUTO_IMUNE', 'RESUL_SORO', 'RESUL_NS1', 'RESUL_VI_N',\n",
       "       'RESUL_PCR_', 'HISTOPA_N', 'IMUNOH_N', 'CLASSI_FIN', 'MES_NOT',\n",
       "       'Densidad_Mun'],\n",
       "      dtype='object')"
      ]
     },
     "execution_count": 38,
     "metadata": {},
     "output_type": "execute_result"
    }
   ],
   "source": [
    "df.columns"
   ]
  },
  {
   "cell_type": "markdown",
   "id": "1d26645d",
   "metadata": {},
   "source": [
    "Para los datos de síntomas, transformamos los \"2\" (sin síntoma) en \"0\", quedándonos con 0 y 1, en lugar de 1 y 2."
   ]
  },
  {
   "cell_type": "code",
   "execution_count": 39,
   "id": "8afe90e6",
   "metadata": {},
   "outputs": [],
   "source": [
    "int_col=['FEBRE', 'MIALGIA','CEFALEIA', 'EXANTEMA', 'VOMITO', 'NAUSEA', 'DOR_COSTAS', 'CONJUNTVIT',\n",
    "       'ARTRITE', 'ARTRALGIA', 'PETEQUIA_N', 'LEUCOPENIA', 'LACO', 'DOR_RETRO','DIABETES',\n",
    "        'HEMATOLOG', 'HEPATOPAT', 'RENAL', 'HIPERTENSA','ACIDO_PEPT', 'AUTO_IMUNE']\n",
    "for x in int_col:\n",
    "    df[x]=df[x].replace({2:0})"
   ]
  },
  {
   "cell_type": "code",
   "execution_count": 40,
   "id": "43c3b4dc",
   "metadata": {},
   "outputs": [
    {
     "data": {
      "text/plain": [
       "(2291869, 34)"
      ]
     },
     "execution_count": 40,
     "metadata": {},
     "output_type": "execute_result"
    }
   ],
   "source": [
    "df.shape"
   ]
  },
  {
   "cell_type": "code",
   "execution_count": 41,
   "id": "ec037d8c",
   "metadata": {},
   "outputs": [
    {
     "data": {
      "text/html": [
       "<div>\n",
       "<style scoped>\n",
       "    .dataframe tbody tr th:only-of-type {\n",
       "        vertical-align: middle;\n",
       "    }\n",
       "\n",
       "    .dataframe tbody tr th {\n",
       "        vertical-align: top;\n",
       "    }\n",
       "\n",
       "    .dataframe thead th {\n",
       "        text-align: right;\n",
       "    }\n",
       "</style>\n",
       "<table border=\"1\" class=\"dataframe\">\n",
       "  <thead>\n",
       "    <tr style=\"text-align: right;\">\n",
       "      <th></th>\n",
       "      <th>NU_IDADE_N</th>\n",
       "      <th>CS_SEXO</th>\n",
       "      <th>CS_GESTANT</th>\n",
       "      <th>CS_RACA</th>\n",
       "      <th>FEBRE</th>\n",
       "      <th>MIALGIA</th>\n",
       "      <th>CEFALEIA</th>\n",
       "      <th>EXANTEMA</th>\n",
       "      <th>VOMITO</th>\n",
       "      <th>NAUSEA</th>\n",
       "      <th>...</th>\n",
       "      <th>AUTO_IMUNE</th>\n",
       "      <th>RESUL_SORO</th>\n",
       "      <th>RESUL_NS1</th>\n",
       "      <th>RESUL_VI_N</th>\n",
       "      <th>RESUL_PCR_</th>\n",
       "      <th>HISTOPA_N</th>\n",
       "      <th>IMUNOH_N</th>\n",
       "      <th>CLASSI_FIN</th>\n",
       "      <th>MES_NOT</th>\n",
       "      <th>Densidad_Mun</th>\n",
       "    </tr>\n",
       "  </thead>\n",
       "  <tbody>\n",
       "    <tr>\n",
       "      <th>0</th>\n",
       "      <td>22.0</td>\n",
       "      <td>0</td>\n",
       "      <td>0</td>\n",
       "      <td>4</td>\n",
       "      <td>1</td>\n",
       "      <td>1</td>\n",
       "      <td>1</td>\n",
       "      <td>0</td>\n",
       "      <td>0</td>\n",
       "      <td>1</td>\n",
       "      <td>...</td>\n",
       "      <td>0</td>\n",
       "      <td>Ausente</td>\n",
       "      <td>Ausente</td>\n",
       "      <td>Ausente</td>\n",
       "      <td>Ausente</td>\n",
       "      <td>Ausente</td>\n",
       "      <td>Ausente</td>\n",
       "      <td>1</td>\n",
       "      <td>5.0</td>\n",
       "      <td>q4</td>\n",
       "    </tr>\n",
       "    <tr>\n",
       "      <th>1</th>\n",
       "      <td>35.0</td>\n",
       "      <td>1</td>\n",
       "      <td>0</td>\n",
       "      <td>4</td>\n",
       "      <td>1</td>\n",
       "      <td>0</td>\n",
       "      <td>1</td>\n",
       "      <td>0</td>\n",
       "      <td>1</td>\n",
       "      <td>1</td>\n",
       "      <td>...</td>\n",
       "      <td>0</td>\n",
       "      <td>Ausente</td>\n",
       "      <td>Ausente</td>\n",
       "      <td>Ausente</td>\n",
       "      <td>Ausente</td>\n",
       "      <td>Ausente</td>\n",
       "      <td>Ausente</td>\n",
       "      <td>1</td>\n",
       "      <td>2.0</td>\n",
       "      <td>q4</td>\n",
       "    </tr>\n",
       "    <tr>\n",
       "      <th>2</th>\n",
       "      <td>44.0</td>\n",
       "      <td>1</td>\n",
       "      <td>0</td>\n",
       "      <td>4</td>\n",
       "      <td>1</td>\n",
       "      <td>1</td>\n",
       "      <td>0</td>\n",
       "      <td>0</td>\n",
       "      <td>0</td>\n",
       "      <td>1</td>\n",
       "      <td>...</td>\n",
       "      <td>0</td>\n",
       "      <td>Ausente</td>\n",
       "      <td>Ausente</td>\n",
       "      <td>Ausente</td>\n",
       "      <td>Ausente</td>\n",
       "      <td>Ausente</td>\n",
       "      <td>Ausente</td>\n",
       "      <td>1</td>\n",
       "      <td>1.0</td>\n",
       "      <td>q4</td>\n",
       "    </tr>\n",
       "    <tr>\n",
       "      <th>3</th>\n",
       "      <td>3.0</td>\n",
       "      <td>1</td>\n",
       "      <td>0</td>\n",
       "      <td>1</td>\n",
       "      <td>1</td>\n",
       "      <td>0</td>\n",
       "      <td>1</td>\n",
       "      <td>0</td>\n",
       "      <td>0</td>\n",
       "      <td>0</td>\n",
       "      <td>...</td>\n",
       "      <td>0</td>\n",
       "      <td>Ausente</td>\n",
       "      <td>Ausente</td>\n",
       "      <td>Ausente</td>\n",
       "      <td>Ausente</td>\n",
       "      <td>Ausente</td>\n",
       "      <td>Ausente</td>\n",
       "      <td>0</td>\n",
       "      <td>5.0</td>\n",
       "      <td>q9</td>\n",
       "    </tr>\n",
       "    <tr>\n",
       "      <th>4</th>\n",
       "      <td>10.0</td>\n",
       "      <td>0</td>\n",
       "      <td>0</td>\n",
       "      <td>1</td>\n",
       "      <td>1</td>\n",
       "      <td>0</td>\n",
       "      <td>0</td>\n",
       "      <td>0</td>\n",
       "      <td>1</td>\n",
       "      <td>0</td>\n",
       "      <td>...</td>\n",
       "      <td>0</td>\n",
       "      <td>Ausente</td>\n",
       "      <td>Ausente</td>\n",
       "      <td>Ausente</td>\n",
       "      <td>Ausente</td>\n",
       "      <td>Ausente</td>\n",
       "      <td>Ausente</td>\n",
       "      <td>0</td>\n",
       "      <td>4.0</td>\n",
       "      <td>q9</td>\n",
       "    </tr>\n",
       "  </tbody>\n",
       "</table>\n",
       "<p>5 rows × 34 columns</p>\n",
       "</div>"
      ],
      "text/plain": [
       "   NU_IDADE_N  CS_SEXO  CS_GESTANT  CS_RACA  FEBRE  MIALGIA  CEFALEIA  \\\n",
       "0        22.0        0           0        4      1        1         1   \n",
       "1        35.0        1           0        4      1        0         1   \n",
       "2        44.0        1           0        4      1        1         0   \n",
       "3         3.0        1           0        1      1        0         1   \n",
       "4        10.0        0           0        1      1        0         0   \n",
       "\n",
       "   EXANTEMA  VOMITO  NAUSEA  ...  AUTO_IMUNE  RESUL_SORO  RESUL_NS1  \\\n",
       "0         0       0       1  ...           0     Ausente    Ausente   \n",
       "1         0       1       1  ...           0     Ausente    Ausente   \n",
       "2         0       0       1  ...           0     Ausente    Ausente   \n",
       "3         0       0       0  ...           0     Ausente    Ausente   \n",
       "4         0       1       0  ...           0     Ausente    Ausente   \n",
       "\n",
       "   RESUL_VI_N  RESUL_PCR_  HISTOPA_N  IMUNOH_N  CLASSI_FIN  MES_NOT  \\\n",
       "0     Ausente     Ausente    Ausente   Ausente           1      5.0   \n",
       "1     Ausente     Ausente    Ausente   Ausente           1      2.0   \n",
       "2     Ausente     Ausente    Ausente   Ausente           1      1.0   \n",
       "3     Ausente     Ausente    Ausente   Ausente           0      5.0   \n",
       "4     Ausente     Ausente    Ausente   Ausente           0      4.0   \n",
       "\n",
       "   Densidad_Mun  \n",
       "0            q4  \n",
       "1            q4  \n",
       "2            q4  \n",
       "3            q9  \n",
       "4            q9  \n",
       "\n",
       "[5 rows x 34 columns]"
      ]
     },
     "execution_count": 41,
     "metadata": {},
     "output_type": "execute_result"
    }
   ],
   "source": [
    "df.head()"
   ]
  },
  {
   "cell_type": "markdown",
   "id": "71dbd71f",
   "metadata": {},
   "source": [
    "Para la raza, la edad, mes de notificación, días con síntomas y testeos de laboratório, vamos usar la función \"get_dummies\" de Pandas. Primero, transformamos los códigos de la raza en objetos, siguiendo el diccionario provisto con la documentación del dataset:"
   ]
  },
  {
   "cell_type": "code",
   "execution_count": 42,
   "id": "32a44339",
   "metadata": {},
   "outputs": [],
   "source": [
    "df.CS_RACA=df.CS_RACA.replace({1:'White',2:'Black',3:'Yellow',4:'Brown',5:'Indigenous'})"
   ]
  },
  {
   "cell_type": "markdown",
   "id": "f2a84e36",
   "metadata": {},
   "source": [
    "Como la edad exacta no importa, pero sí importa si la persona es joven, adulta o adulta mayor, vamos definir categorías."
   ]
  },
  {
   "cell_type": "code",
   "execution_count": 43,
   "id": "904512fb",
   "metadata": {},
   "outputs": [],
   "source": [
    "def tomap(x):\n",
    "    if x < 18:\n",
    "        return '0-18'\n",
    "    elif x < 30:\n",
    "        return '18-30'\n",
    "    elif x < 50:\n",
    "        return '30-50'\n",
    "    else:\n",
    "        return '50-80'\n",
    "\n",
    "df.NU_IDADE_N=df.NU_IDADE_N.apply(tomap)"
   ]
  },
  {
   "cell_type": "code",
   "execution_count": 44,
   "id": "110cbbf1",
   "metadata": {},
   "outputs": [
    {
     "data": {
      "text/plain": [
       "30-50    734880\n",
       "18-30    607784\n",
       "0-18     524308\n",
       "50-80    424897\n",
       "Name: NU_IDADE_N, dtype: int64"
      ]
     },
     "execution_count": 44,
     "metadata": {},
     "output_type": "execute_result"
    }
   ],
   "source": [
    "df.NU_IDADE_N.value_counts()"
   ]
  },
  {
   "cell_type": "markdown",
   "id": "55360701",
   "metadata": {},
   "source": [
    "En el caso del mes de notificación, reemplazamos los valores numéricos por el mes y transformamos así en una variable categórcia."
   ]
  },
  {
   "cell_type": "code",
   "execution_count": 45,
   "id": "91e89e80",
   "metadata": {},
   "outputs": [],
   "source": [
    "df['MES_NOT']=df['MES_NOT'].replace({1:'enero',\n",
    "                                     2:'febrero',\n",
    "                                     3:'marzo',\n",
    "                                     4:'abril',\n",
    "                                     5:'mayo',\n",
    "                                     6:'junio',\n",
    "                                     7:'julio',\n",
    "                                     8: 'agosto',\n",
    "                                     9: 'septiembre',\n",
    "                                     10: 'octubre',\n",
    "                                     11: 'noviembre',\n",
    "                                     12: 'diciembre'})"
   ]
  },
  {
   "cell_type": "markdown",
   "id": "f5a3683b",
   "metadata": {},
   "source": [
    "Finalmente tranformamos las columnas con más de 1 categoría en muchas columnas con solamente 2 categorías 0/1, usando \"get_dummies\"."
   ]
  },
  {
   "cell_type": "code",
   "execution_count": 46,
   "id": "a44862cf",
   "metadata": {},
   "outputs": [],
   "source": [
    "add_dummies=pd.get_dummies(df[['NU_IDADE_N','CS_RACA','MES_NOT','RESUL_SORO','Densidad_Mun',\n",
    "                               'RESUL_NS1', 'RESUL_VI_N', 'RESUL_PCR_','HISTOPA_N', 'IMUNOH_N']],drop_first=True)"
   ]
  },
  {
   "cell_type": "code",
   "execution_count": 47,
   "id": "25a964a2",
   "metadata": {},
   "outputs": [],
   "source": [
    "df=pd.concat([df,add_dummies],axis=1)"
   ]
  },
  {
   "cell_type": "code",
   "execution_count": 48,
   "id": "375dc326",
   "metadata": {},
   "outputs": [],
   "source": [
    "# Sacamos las columnas originales\n",
    "df.drop(columns=['NU_IDADE_N','CS_RACA','MES_NOT','Densidad_Mun','RESUL_SORO',\n",
    "                 'RESUL_NS1', 'RESUL_VI_N', 'RESUL_PCR_','HISTOPA_N', 'IMUNOH_N'],inplace=True)"
   ]
  },
  {
   "cell_type": "markdown",
   "id": "b38ba8bf",
   "metadata": {},
   "source": [
    "Nuestro dataset final contiene solamente datos categóricos, y se ve así:"
   ]
  },
  {
   "cell_type": "code",
   "execution_count": 49,
   "id": "d1dc1ce4",
   "metadata": {},
   "outputs": [
    {
     "data": {
      "text/html": [
       "<div>\n",
       "<style scoped>\n",
       "    .dataframe tbody tr th:only-of-type {\n",
       "        vertical-align: middle;\n",
       "    }\n",
       "\n",
       "    .dataframe tbody tr th {\n",
       "        vertical-align: top;\n",
       "    }\n",
       "\n",
       "    .dataframe thead th {\n",
       "        text-align: right;\n",
       "    }\n",
       "</style>\n",
       "<table border=\"1\" class=\"dataframe\">\n",
       "  <thead>\n",
       "    <tr style=\"text-align: right;\">\n",
       "      <th></th>\n",
       "      <th>CS_SEXO</th>\n",
       "      <th>CS_GESTANT</th>\n",
       "      <th>FEBRE</th>\n",
       "      <th>MIALGIA</th>\n",
       "      <th>CEFALEIA</th>\n",
       "      <th>EXANTEMA</th>\n",
       "      <th>VOMITO</th>\n",
       "      <th>NAUSEA</th>\n",
       "      <th>DOR_COSTAS</th>\n",
       "      <th>CONJUNTVIT</th>\n",
       "      <th>...</th>\n",
       "      <th>RESUL_VI_N_Positivo</th>\n",
       "      <th>RESUL_PCR__Inconcl.</th>\n",
       "      <th>RESUL_PCR__Negativo</th>\n",
       "      <th>RESUL_PCR__Positivo</th>\n",
       "      <th>HISTOPA_N_Inconcl.</th>\n",
       "      <th>HISTOPA_N_Negativo</th>\n",
       "      <th>HISTOPA_N_Positivo</th>\n",
       "      <th>IMUNOH_N_Inconcl.</th>\n",
       "      <th>IMUNOH_N_Negativo</th>\n",
       "      <th>IMUNOH_N_Positivo</th>\n",
       "    </tr>\n",
       "  </thead>\n",
       "  <tbody>\n",
       "    <tr>\n",
       "      <th>0</th>\n",
       "      <td>0</td>\n",
       "      <td>0</td>\n",
       "      <td>1</td>\n",
       "      <td>1</td>\n",
       "      <td>1</td>\n",
       "      <td>0</td>\n",
       "      <td>0</td>\n",
       "      <td>1</td>\n",
       "      <td>0</td>\n",
       "      <td>0</td>\n",
       "      <td>...</td>\n",
       "      <td>0</td>\n",
       "      <td>0</td>\n",
       "      <td>0</td>\n",
       "      <td>0</td>\n",
       "      <td>0</td>\n",
       "      <td>0</td>\n",
       "      <td>0</td>\n",
       "      <td>0</td>\n",
       "      <td>0</td>\n",
       "      <td>0</td>\n",
       "    </tr>\n",
       "    <tr>\n",
       "      <th>1</th>\n",
       "      <td>1</td>\n",
       "      <td>0</td>\n",
       "      <td>1</td>\n",
       "      <td>0</td>\n",
       "      <td>1</td>\n",
       "      <td>0</td>\n",
       "      <td>1</td>\n",
       "      <td>1</td>\n",
       "      <td>1</td>\n",
       "      <td>0</td>\n",
       "      <td>...</td>\n",
       "      <td>0</td>\n",
       "      <td>0</td>\n",
       "      <td>0</td>\n",
       "      <td>0</td>\n",
       "      <td>0</td>\n",
       "      <td>0</td>\n",
       "      <td>0</td>\n",
       "      <td>0</td>\n",
       "      <td>0</td>\n",
       "      <td>0</td>\n",
       "    </tr>\n",
       "    <tr>\n",
       "      <th>2</th>\n",
       "      <td>1</td>\n",
       "      <td>0</td>\n",
       "      <td>1</td>\n",
       "      <td>1</td>\n",
       "      <td>0</td>\n",
       "      <td>0</td>\n",
       "      <td>0</td>\n",
       "      <td>1</td>\n",
       "      <td>1</td>\n",
       "      <td>0</td>\n",
       "      <td>...</td>\n",
       "      <td>0</td>\n",
       "      <td>0</td>\n",
       "      <td>0</td>\n",
       "      <td>0</td>\n",
       "      <td>0</td>\n",
       "      <td>0</td>\n",
       "      <td>0</td>\n",
       "      <td>0</td>\n",
       "      <td>0</td>\n",
       "      <td>0</td>\n",
       "    </tr>\n",
       "    <tr>\n",
       "      <th>3</th>\n",
       "      <td>1</td>\n",
       "      <td>0</td>\n",
       "      <td>1</td>\n",
       "      <td>0</td>\n",
       "      <td>1</td>\n",
       "      <td>0</td>\n",
       "      <td>0</td>\n",
       "      <td>0</td>\n",
       "      <td>0</td>\n",
       "      <td>1</td>\n",
       "      <td>...</td>\n",
       "      <td>0</td>\n",
       "      <td>0</td>\n",
       "      <td>0</td>\n",
       "      <td>0</td>\n",
       "      <td>0</td>\n",
       "      <td>0</td>\n",
       "      <td>0</td>\n",
       "      <td>0</td>\n",
       "      <td>0</td>\n",
       "      <td>0</td>\n",
       "    </tr>\n",
       "    <tr>\n",
       "      <th>4</th>\n",
       "      <td>0</td>\n",
       "      <td>0</td>\n",
       "      <td>1</td>\n",
       "      <td>0</td>\n",
       "      <td>0</td>\n",
       "      <td>0</td>\n",
       "      <td>1</td>\n",
       "      <td>0</td>\n",
       "      <td>0</td>\n",
       "      <td>0</td>\n",
       "      <td>...</td>\n",
       "      <td>0</td>\n",
       "      <td>0</td>\n",
       "      <td>0</td>\n",
       "      <td>0</td>\n",
       "      <td>0</td>\n",
       "      <td>0</td>\n",
       "      <td>0</td>\n",
       "      <td>0</td>\n",
       "      <td>0</td>\n",
       "      <td>0</td>\n",
       "    </tr>\n",
       "  </tbody>\n",
       "</table>\n",
       "<p>5 rows × 74 columns</p>\n",
       "</div>"
      ],
      "text/plain": [
       "   CS_SEXO  CS_GESTANT  FEBRE  MIALGIA  CEFALEIA  EXANTEMA  VOMITO  NAUSEA  \\\n",
       "0        0           0      1        1         1         0       0       1   \n",
       "1        1           0      1        0         1         0       1       1   \n",
       "2        1           0      1        1         0         0       0       1   \n",
       "3        1           0      1        0         1         0       0       0   \n",
       "4        0           0      1        0         0         0       1       0   \n",
       "\n",
       "   DOR_COSTAS  CONJUNTVIT  ...  RESUL_VI_N_Positivo  RESUL_PCR__Inconcl.  \\\n",
       "0           0           0  ...                    0                    0   \n",
       "1           1           0  ...                    0                    0   \n",
       "2           1           0  ...                    0                    0   \n",
       "3           0           1  ...                    0                    0   \n",
       "4           0           0  ...                    0                    0   \n",
       "\n",
       "   RESUL_PCR__Negativo  RESUL_PCR__Positivo  HISTOPA_N_Inconcl.  \\\n",
       "0                    0                    0                   0   \n",
       "1                    0                    0                   0   \n",
       "2                    0                    0                   0   \n",
       "3                    0                    0                   0   \n",
       "4                    0                    0                   0   \n",
       "\n",
       "   HISTOPA_N_Negativo  HISTOPA_N_Positivo  IMUNOH_N_Inconcl.  \\\n",
       "0                   0                   0                  0   \n",
       "1                   0                   0                  0   \n",
       "2                   0                   0                  0   \n",
       "3                   0                   0                  0   \n",
       "4                   0                   0                  0   \n",
       "\n",
       "   IMUNOH_N_Negativo  IMUNOH_N_Positivo  \n",
       "0                  0                  0  \n",
       "1                  0                  0  \n",
       "2                  0                  0  \n",
       "3                  0                  0  \n",
       "4                  0                  0  \n",
       "\n",
       "[5 rows x 74 columns]"
      ]
     },
     "execution_count": 49,
     "metadata": {},
     "output_type": "execute_result"
    }
   ],
   "source": [
    "df.head()"
   ]
  },
  {
   "cell_type": "markdown",
   "id": "24fc79cd",
   "metadata": {},
   "source": [
    "Además, la columna _target_ tiene 65% de casos positivos de Dengue, y 35% de negativo o inconclusivo."
   ]
  },
  {
   "cell_type": "code",
   "execution_count": 50,
   "id": "e083070d",
   "metadata": {},
   "outputs": [
    {
     "data": {
      "text/plain": [
       "1    0.65\n",
       "0    0.35\n",
       "Name: CLASSI_FIN, dtype: float64"
      ]
     },
     "execution_count": 50,
     "metadata": {},
     "output_type": "execute_result"
    }
   ],
   "source": [
    "np.round(df.CLASSI_FIN.value_counts(normalize=True),2)"
   ]
  },
  {
   "cell_type": "markdown",
   "id": "84e6e975",
   "metadata": {},
   "source": [
    "Como todas las columnas son del tipo categóricas, podemos reducir mucho el tamaño en memoria del dataset:"
   ]
  },
  {
   "cell_type": "code",
   "execution_count": 51,
   "id": "feee0500",
   "metadata": {},
   "outputs": [],
   "source": [
    "for x in df.columns:\n",
    "    df[x]=df[x].astype('uint8')"
   ]
  },
  {
   "cell_type": "code",
   "execution_count": 52,
   "id": "90b2ec0b",
   "metadata": {},
   "outputs": [
    {
     "name": "stdout",
     "output_type": "stream",
     "text": [
      "<class 'pandas.core.frame.DataFrame'>\n",
      "Int64Index: 2291869 entries, 0 to 6191627\n",
      "Data columns (total 74 columns):\n",
      " #   Column               Dtype\n",
      "---  ------               -----\n",
      " 0   CS_SEXO              uint8\n",
      " 1   CS_GESTANT           uint8\n",
      " 2   FEBRE                uint8\n",
      " 3   MIALGIA              uint8\n",
      " 4   CEFALEIA             uint8\n",
      " 5   EXANTEMA             uint8\n",
      " 6   VOMITO               uint8\n",
      " 7   NAUSEA               uint8\n",
      " 8   DOR_COSTAS           uint8\n",
      " 9   CONJUNTVIT           uint8\n",
      " 10  ARTRITE              uint8\n",
      " 11  ARTRALGIA            uint8\n",
      " 12  PETEQUIA_N           uint8\n",
      " 13  LEUCOPENIA           uint8\n",
      " 14  LACO                 uint8\n",
      " 15  DOR_RETRO            uint8\n",
      " 16  DIABETES             uint8\n",
      " 17  HEMATOLOG            uint8\n",
      " 18  HEPATOPAT            uint8\n",
      " 19  RENAL                uint8\n",
      " 20  HIPERTENSA           uint8\n",
      " 21  ACIDO_PEPT           uint8\n",
      " 22  AUTO_IMUNE           uint8\n",
      " 23  CLASSI_FIN           uint8\n",
      " 24  NU_IDADE_N_18-30     uint8\n",
      " 25  NU_IDADE_N_30-50     uint8\n",
      " 26  NU_IDADE_N_50-80     uint8\n",
      " 27  CS_RACA_Brown        uint8\n",
      " 28  CS_RACA_Indigenous   uint8\n",
      " 29  CS_RACA_White        uint8\n",
      " 30  CS_RACA_Yellow       uint8\n",
      " 31  MES_NOT_agosto       uint8\n",
      " 32  MES_NOT_diciembre    uint8\n",
      " 33  MES_NOT_enero        uint8\n",
      " 34  MES_NOT_febrero      uint8\n",
      " 35  MES_NOT_julio        uint8\n",
      " 36  MES_NOT_junio        uint8\n",
      " 37  MES_NOT_marzo        uint8\n",
      " 38  MES_NOT_mayo         uint8\n",
      " 39  MES_NOT_noviembre    uint8\n",
      " 40  MES_NOT_octubre      uint8\n",
      " 41  MES_NOT_septiembre   uint8\n",
      " 42  RESUL_SORO_Inconcl.  uint8\n",
      " 43  RESUL_SORO_Negativo  uint8\n",
      " 44  RESUL_SORO_Positivo  uint8\n",
      " 45  Densidad_Mun_q2      uint8\n",
      " 46  Densidad_Mun_q3      uint8\n",
      " 47  Densidad_Mun_q4      uint8\n",
      " 48  Densidad_Mun_q5      uint8\n",
      " 49  Densidad_Mun_q6      uint8\n",
      " 50  Densidad_Mun_q7      uint8\n",
      " 51  Densidad_Mun_q8      uint8\n",
      " 52  Densidad_Mun_q9      uint8\n",
      " 53  Densidad_Mun_q10     uint8\n",
      " 54  Densidad_Mun_q11     uint8\n",
      " 55  Densidad_Mun_q12     uint8\n",
      " 56  Densidad_Mun_q13     uint8\n",
      " 57  Densidad_Mun_q14     uint8\n",
      " 58  Densidad_Mun_q15     uint8\n",
      " 59  RESUL_NS1_Inconcl.   uint8\n",
      " 60  RESUL_NS1_Negativo   uint8\n",
      " 61  RESUL_NS1_Positivo   uint8\n",
      " 62  RESUL_VI_N_Inconcl.  uint8\n",
      " 63  RESUL_VI_N_Negativo  uint8\n",
      " 64  RESUL_VI_N_Positivo  uint8\n",
      " 65  RESUL_PCR__Inconcl.  uint8\n",
      " 66  RESUL_PCR__Negativo  uint8\n",
      " 67  RESUL_PCR__Positivo  uint8\n",
      " 68  HISTOPA_N_Inconcl.   uint8\n",
      " 69  HISTOPA_N_Negativo   uint8\n",
      " 70  HISTOPA_N_Positivo   uint8\n",
      " 71  IMUNOH_N_Inconcl.    uint8\n",
      " 72  IMUNOH_N_Negativo    uint8\n",
      " 73  IMUNOH_N_Positivo    uint8\n",
      "dtypes: uint8(74)\n",
      "memory usage: 179.2 MB\n"
     ]
    }
   ],
   "source": [
    "df.info()"
   ]
  },
  {
   "cell_type": "markdown",
   "id": "a3cddaf7",
   "metadata": {},
   "source": [
    "### Análisis de algunas _features_ relevantes de síntomas\n",
    "\n",
    "Con nuestro dataset limpio, miremos la relación de algunas _features_ con la columna target. Como tenemos más de 50 columnas, mostramos solo las más correlacionadas."
   ]
  },
  {
   "cell_type": "code",
   "execution_count": 53,
   "id": "e9a88cf6",
   "metadata": {},
   "outputs": [
    {
     "data": {
      "image/png": "[encoded data removed]",
      "text/plain": [
       "<Figure size 1152x576 with 6 Axes>"
      ]
     },
     "metadata": {
      "needs_background": "light"
     },
     "output_type": "display_data"
    }
   ],
   "source": [
    "fig, axs = plt.subplots(2, 3, figsize=(16,8))\n",
    "sns.histplot(data = df, x = 'FEBRE', hue = 'CLASSI_FIN', multiple = 'dodge', binwidth = 0.3, ax=axs[0,0]);\n",
    "sns.histplot(data = df, x = 'MIALGIA', hue = 'CLASSI_FIN', multiple = 'dodge', binwidth = 0.3, ax=axs[0,1]);\n",
    "sns.histplot(data = df, x = 'DOR_RETRO', hue = 'CLASSI_FIN', multiple = 'dodge', binwidth = 0.3, ax=axs[0,2]);\n",
    "sns.histplot(data = df, x = 'EXANTEMA', hue = 'CLASSI_FIN', multiple = 'dodge', binwidth = 0.3, ax=axs[1,0]);\n",
    "sns.histplot(data = df, x = 'NAUSEA', hue = 'CLASSI_FIN', multiple = 'dodge', binwidth = 0.3, ax=axs[1,1]);\n",
    "sns.histplot(data = df, x = 'DOR_COSTAS', hue = 'CLASSI_FIN', multiple = 'dodge', binwidth = 0.3, ax=axs[1,2]);"
   ]
  },
  {
   "cell_type": "markdown",
   "id": "cf284266",
   "metadata": {},
   "source": [
    "Se puede ver que cuando la persona presenta algunos de los síntomas (por ejemplo, fiebre, mialgia y dolor detrás de los ojos), la proporción entre quienes tienen dengue y quienes no tienen es más alta que cuando no presentan los síntomas."
   ]
  },
  {
   "cell_type": "markdown",
   "id": "85ca8412",
   "metadata": {
    "tags": []
   },
   "source": [
    "# Modelando\n",
    "\n",
    "Primero, consideramos como métrica general el área bajo la curva ROC. Para esto, vamos a definir una función simple que la evalúa en el dataset de entrenamiento y de validación o testeo."
   ]
  },
  {
   "cell_type": "code",
   "execution_count": 54,
   "id": "5d280e07",
   "metadata": {},
   "outputs": [],
   "source": [
    "def evalua_auc(texto,modelo,xt,yt,xv,yv):\n",
    "    yt_pred = modelo.predict_proba(xt)\n",
    "    yv_pred = modelo.predict_proba(xv)\n",
    "    ft,tt,_ = roc_curve(yt, yt_pred[:,1])\n",
    "    fv,tv,_ = roc_curve(yv, yv_pred[:,1])\n",
    "    print(texto,np.round(auc(ft, tt),3),np.round(auc(fv, tv),3))"
   ]
  },
  {
   "cell_type": "markdown",
   "id": "faf38c9d",
   "metadata": {},
   "source": [
    "Separando la columna 'target' de las 'features'."
   ]
  },
  {
   "cell_type": "code",
   "execution_count": 206,
   "id": "7d53768c",
   "metadata": {},
   "outputs": [],
   "source": [
    "X=df.drop(columns=['CLASSI_FIN'])\n",
    "y=df.CLASSI_FIN"
   ]
  },
  {
   "cell_type": "markdown",
   "id": "5dc2194e",
   "metadata": {},
   "source": [
    "Dividimos en aprox. 70/10/20 para entrenamiento/validación/testeo, respectivamente."
   ]
  },
  {
   "cell_type": "code",
   "execution_count": 207,
   "id": "87d89fb8",
   "metadata": {},
   "outputs": [
    {
     "data": {
      "text/plain": [
       "((1604308, 73), (229186, 73), (458375, 73))"
      ]
     },
     "execution_count": 207,
     "metadata": {},
     "output_type": "execute_result"
    }
   ],
   "source": [
    "X_train, X_temp, y_train, y_temp = train_test_split(X, y, test_size=0.3, random_state=55,stratify=y)\n",
    "X_val, X_test, y_val, y_test = train_test_split(X_temp, y_temp, test_size=0.6666667, random_state=55,stratify=y_temp)\n",
    "X_train.shape,X_val.shape,X_test.shape"
   ]
  },
  {
   "cell_type": "markdown",
   "id": "106d6281",
   "metadata": {},
   "source": [
    "Considerando ahora diferentes grupos de _features_."
   ]
  },
  {
   "cell_type": "markdown",
   "id": "ea52361e",
   "metadata": {},
   "source": [
    "## Caso 1: Analizamos solo los síntomas\n",
    "\n",
    "Un paciente llega al hospital, se saben sus síntomas, su edad, raza, si hay embarazo, pero nada más. No sabemos, por ejemplo, mucho de su historial clínico, de donde viene y en que més comenzó a sentir los síntomas. Solo con esta información y, sin realizar testeos de laboratorio, vamos a determinar con qué porcentaje de certeza podemos decir si tiene Dengue o no?"
   ]
  },
  {
   "cell_type": "markdown",
   "id": "592621c3",
   "metadata": {},
   "source": [
    "Filtrando las columnas de interés:"
   ]
  },
  {
   "cell_type": "code",
   "execution_count": 57,
   "id": "0e64643c",
   "metadata": {},
   "outputs": [],
   "source": [
    "columns1 = ['CS_SEXO', 'CS_GESTANT', 'FEBRE', 'MIALGIA', 'CEFALEIA', 'EXANTEMA','VOMITO', 'NAUSEA', \n",
    "            'DOR_COSTAS', 'CONJUNTVIT', 'ARTRITE', 'ARTRALGIA','PETEQUIA_N', 'LACO', 'DOR_RETRO', \n",
    "            'NU_IDADE_N_18-30','NU_IDADE_N_30-50', 'NU_IDADE_N_50-80',\n",
    "            'CS_RACA_Brown','CS_RACA_Indigenous', 'CS_RACA_White', 'CS_RACA_Yellow']\n",
    "\n",
    "X_train1 = X_train[columns1]\n",
    "X_val1 = X_val[columns1]\n",
    "X_test1 = X_test[columns1]"
   ]
  },
  {
   "cell_type": "markdown",
   "id": "402bcf93",
   "metadata": {},
   "source": [
    "Controlamos que la proporción de casos positivos/negativos para Dengue sean iguales en todos los datasets"
   ]
  },
  {
   "cell_type": "code",
   "execution_count": 58,
   "id": "1fb9492f",
   "metadata": {},
   "outputs": [
    {
     "name": "stdout",
     "output_type": "stream",
     "text": [
      "1    0.65\n",
      "0    0.35\n",
      "Name: CLASSI_FIN, dtype: float64\n",
      "1    0.65\n",
      "0    0.35\n",
      "Name: CLASSI_FIN, dtype: float64\n",
      "1    0.65\n",
      "0    0.35\n",
      "Name: CLASSI_FIN, dtype: float64\n"
     ]
    }
   ],
   "source": [
    "print(np.round(y_train.value_counts(normalize=True),2));\n",
    "print(np.round(y_val.value_counts(normalize=True),2));\n",
    "print(np.round(y_test.value_counts(normalize=True),2));"
   ]
  },
  {
   "cell_type": "markdown",
   "id": "76ac15b7",
   "metadata": {},
   "source": [
    "En general, las features con las cuales estamos trabajando casi no presentan relación entre ellas. De hecho, el dataset consiste en features muy poco correlacionadas como síntomas, raza, sexo, fecha, etc. Debido a que las columnas son casi independentes, modelar con Naive Bayes podría potencialmente tener una _performance_ muy buena con un bajo costo computacional. "
   ]
  },
  {
   "cell_type": "code",
   "execution_count": 59,
   "id": "f259f7bd",
   "metadata": {},
   "outputs": [],
   "source": [
    "cat_nb = CategoricalNB()"
   ]
  },
  {
   "cell_type": "code",
   "execution_count": 60,
   "id": "2d053fb0",
   "metadata": {},
   "outputs": [
    {
     "data": {
      "text/plain": [
       "CategoricalNB()"
      ]
     },
     "execution_count": 60,
     "metadata": {},
     "output_type": "execute_result"
    }
   ],
   "source": [
    "cat_nb.fit(X_train1,y_train)"
   ]
  },
  {
   "cell_type": "code",
   "execution_count": 61,
   "id": "b60d5da6",
   "metadata": {},
   "outputs": [
    {
     "name": "stdout",
     "output_type": "stream",
     "text": [
      "AUC / Naive-Bayes 0.654 0.653\n"
     ]
    }
   ],
   "source": [
    "evalua_auc(\"AUC / Naive-Bayes\",cat_nb,X_train1,y_train,X_val1,y_val)"
   ]
  },
  {
   "cell_type": "markdown",
   "id": "6bf2bdb9",
   "metadata": {},
   "source": [
    "Entonces tomamos como baseline el valor obtenido, 0.653 para el AUC. Ahora observemos qué sucede aplicando un modelo de decision tree simple."
   ]
  },
  {
   "cell_type": "code",
   "execution_count": 62,
   "id": "29511958",
   "metadata": {},
   "outputs": [
    {
     "name": "stdout",
     "output_type": "stream",
     "text": [
      "Depth AUC(train) AUC(val)\n",
      "2 0.612 0.611\n",
      "3 0.627 0.625\n",
      "4 0.643 0.641\n",
      "5 0.652 0.651\n",
      "6 0.657 0.656\n",
      "7 0.663 0.661\n",
      "8 0.667 0.664\n",
      "9 0.67 0.666\n",
      "10 0.672 0.668\n",
      "11 0.674 0.669\n",
      "12 0.677 0.669\n",
      "13 0.68 0.668\n",
      "14 0.683 0.666\n",
      "15 0.687 0.664\n",
      "16 0.691 0.662\n",
      "17 0.695 0.661\n",
      "18 0.698 0.659\n",
      "19 0.701 0.658\n"
     ]
    }
   ],
   "source": [
    "print(\"Depth AUC(train) AUC(val)\")\n",
    "for md in range(2,20):\n",
    "    dec_tree = DecisionTreeClassifier(max_depth=md)\n",
    "    dec_tree.fit(X_train1,y_train)\n",
    "    evalua_auc(md,dec_tree,X_train1,y_train,X_val1,y_val)"
   ]
  },
  {
   "cell_type": "markdown",
   "id": "25480ce7",
   "metadata": {},
   "source": [
    "2 puntos mejor que Naive-Bayes. Para árboles con una profundidad de 12 o más, ya notamos que hay sobreajuste en el set de entrenamiento, esto es esperable en árboles de decisión simples. Además, observamos que incluso los árboles más cortos ya tienen una _performance_ razonable, lo que indica probablemente que hay unas pocas _features_ mucho más importantes que las otras. Para entender cuáles son, miremos cómo se ve un árbol de decisión corto, con profundidad 3:"
   ]
  },
  {
   "cell_type": "code",
   "execution_count": 63,
   "id": "5be6807e",
   "metadata": {},
   "outputs": [
    {
     "data": {
      "image/png": "[encoded data removed]",
      "text/plain": [
       "<Figure size 1440x864 with 1 Axes>"
      ]
     },
     "metadata": {
      "needs_background": "light"
     },
     "output_type": "display_data"
    }
   ],
   "source": [
    "dec_tree = DecisionTreeClassifier(max_depth=3).fit(X_train1,y_train)\n",
    "plt.figure(figsize=(20,12))\n",
    "tree.plot_tree(dec_tree,feature_names=X_train1.columns,class_names=[\"Negativo\",\"Positivo\"],filled=True);"
   ]
  },
  {
   "cell_type": "markdown",
   "id": "c7603cb9",
   "metadata": {},
   "source": [
    "Vemos que las columnas más relevantes son: dolor detrás de los ojos (\"DOR_RETRO\", o \"Retroorbital pain\" del inglés), mialgia (dolor en los músculos), fiebre, petequia_N (relacionado con erupciones cutáneas en la piel).\n",
    "\n",
    "Abandonamos un poco la intepretación y consideramos ahora los modelos más performantes, Random Forest y XGBoost. Comenzamos con la mayoría de los parámetros en _default_, excepto la produndidad de los árboles que ya vimos que pueden potencialmente causar sobreajuste cuando se los deja avanzar demasiado en profundidad."
   ]
  },
  {
   "cell_type": "code",
   "execution_count": 64,
   "id": "4ef5e68f",
   "metadata": {},
   "outputs": [
    {
     "name": "stdout",
     "output_type": "stream",
     "text": [
      "Random-Forest:  0.678 0.671\n"
     ]
    }
   ],
   "source": [
    "rf = RandomForestClassifier(n_jobs=-1,max_depth=12)\n",
    "rf.fit(X_train1,y_train)\n",
    "evalua_auc(\"Random-Forest: \",rf,X_train1,y_train,X_val1,y_val)"
   ]
  },
  {
   "cell_type": "markdown",
   "id": "f392153f",
   "metadata": {},
   "source": [
    "Vemos que ganamos 1 punto más. Averiguamos ahora la _performance_ de XGBoost con parámetros _default_:"
   ]
  },
  {
   "cell_type": "code",
   "execution_count": 65,
   "id": "c2b0ec79",
   "metadata": {},
   "outputs": [],
   "source": [
    "import warnings\n",
    "warnings.filterwarnings(action=\"ignore\", message=r'.*Use subset.*of np.ndarray is not recommended')"
   ]
  },
  {
   "cell_type": "code",
   "execution_count": 66,
   "id": "26f21430",
   "metadata": {},
   "outputs": [
    {
     "name": "stdout",
     "output_type": "stream",
     "text": [
      "XGBoost:  0.676 0.671\n"
     ]
    }
   ],
   "source": [
    "xgb = XGBClassifier(n_jobs=-1,use_label_encoder=False,eval_metric='logloss')\n",
    "xgb.fit(X_train1,y_train)\n",
    "evalua_auc(\"XGBoost: \",xgb,X_train1,y_train,X_val1,y_val)"
   ]
  },
  {
   "cell_type": "markdown",
   "id": "6104b4cb",
   "metadata": {},
   "source": [
    "Para el _set_ de validación obtuvimos una _performance_ similar. Claro que una comparación justa entre los 2 métodos debería considerar los hiperparámetros óptimos de cada caso. El caso ideal sería hacer un _grid-search_ tanto para _Random Forest_ como para XGBoost, pero debido a limitaciones computacionales, haremos la búsqueda de hiperparámetros óptimos solamente para XGBoost."
   ]
  },
  {
   "cell_type": "code",
   "execution_count": 67,
   "id": "c0483fea",
   "metadata": {},
   "outputs": [
    {
     "data": {
      "text/plain": [
       "GridSearchCV(cv=StratifiedKFold(n_splits=4, random_state=55, shuffle=True),\n",
       "             estimator=XGBClassifier(base_score=None, booster=None,\n",
       "                                     colsample_bylevel=None,\n",
       "                                     colsample_bynode=None,\n",
       "                                     colsample_bytree=None,\n",
       "                                     eval_metric='logloss', gamma=None,\n",
       "                                     gpu_id=None, importance_type='gain',\n",
       "                                     interaction_constraints=None,\n",
       "                                     learning_rate=None, max_delta_step=None,\n",
       "                                     max_depth=None, min_ch...\n",
       "                                     missing=nan, monotone_constraints=None,\n",
       "                                     n_estimators=100, n_jobs=-1,\n",
       "                                     num_parallel_tree=None, random_state=None,\n",
       "                                     reg_alpha=None, reg_lambda=None,\n",
       "                                     scale_pos_weight=None, subsample=None,\n",
       "                                     tree_method=None, use_label_encoder=False,\n",
       "                                     validate_parameters=None, verbosity=None),\n",
       "             n_jobs=-1,\n",
       "             param_grid={'learning_rate': [0.1, 0.15], 'max_depth': [10, 12],\n",
       "                         'n_estimators': [100, 125]},\n",
       "             scoring='roc_auc')"
      ]
     },
     "execution_count": 67,
     "metadata": {},
     "output_type": "execute_result"
    }
   ],
   "source": [
    "cv = StratifiedKFold(n_splits=4, random_state=55, shuffle=True)\n",
    "\n",
    "params = {  \n",
    "    'max_depth': [10,12], \n",
    "    'n_estimators': [100,125], \n",
    "    'learning_rate': [0.1,0.15],\n",
    "}\n",
    "\n",
    "xgb = XGBClassifier(n_jobs=-1,use_label_encoder=False,eval_metric='logloss')\n",
    "xgb_cv = GridSearchCV(xgb, param_grid=params, cv=cv, n_jobs=-1,scoring='roc_auc')\n",
    "xgb_cv.fit(X_train1,y_train)"
   ]
  },
  {
   "cell_type": "code",
   "execution_count": 68,
   "id": "2a1198ee",
   "metadata": {},
   "outputs": [
    {
     "data": {
      "text/plain": [
       "{'learning_rate': 0.1, 'max_depth': 10, 'n_estimators': 100}"
      ]
     },
     "execution_count": 68,
     "metadata": {},
     "output_type": "execute_result"
    }
   ],
   "source": [
    "xgb_cv.best_params_"
   ]
  },
  {
   "cell_type": "code",
   "execution_count": 69,
   "id": "a41342b0",
   "metadata": {},
   "outputs": [
    {
     "name": "stdout",
     "output_type": "stream",
     "text": [
      "Grid-Search XGB:  0.683 0.671\n"
     ]
    }
   ],
   "source": [
    "evalua_auc(\"Grid-Search XGB: \",xgb_cv,X_train1,y_train,X_val1,y_val)"
   ]
  },
  {
   "cell_type": "markdown",
   "id": "d7d4afd0",
   "metadata": {},
   "source": [
    "Mejoramos menos de 1 punto con el Grid-Search. Veamos como fue la _performance_ para cada hiperparámetro elegido:"
   ]
  },
  {
   "cell_type": "code",
   "execution_count": 69,
   "id": "202b8442",
   "metadata": {},
   "outputs": [
    {
     "data": {
      "text/plain": [
       "count    4.000000\n",
       "mean     0.670112\n",
       "std      0.001549\n",
       "min      0.668302\n",
       "25%      0.669136\n",
       "50%      0.670201\n",
       "75%      0.671178\n",
       "max      0.671743\n",
       "Name: mean_test_score, dtype: float64"
      ]
     },
     "execution_count": 69,
     "metadata": {},
     "output_type": "execute_result"
    }
   ],
   "source": [
    "results=pd.DataFrame(xgb_cv.cv_results_)\n",
    "results.mean_test_score.describe()"
   ]
  },
  {
   "cell_type": "code",
   "execution_count": 70,
   "id": "26254c87",
   "metadata": {},
   "outputs": [
    {
     "data": {
      "text/html": [
       "<div>\n",
       "<style scoped>\n",
       "    .dataframe tbody tr th:only-of-type {\n",
       "        vertical-align: middle;\n",
       "    }\n",
       "\n",
       "    .dataframe tbody tr th {\n",
       "        vertical-align: top;\n",
       "    }\n",
       "\n",
       "    .dataframe thead th {\n",
       "        text-align: right;\n",
       "    }\n",
       "</style>\n",
       "<table border=\"1\" class=\"dataframe\">\n",
       "  <thead>\n",
       "    <tr style=\"text-align: right;\">\n",
       "      <th></th>\n",
       "      <th>params</th>\n",
       "      <th>mean_test_score</th>\n",
       "      <th>std_test_score</th>\n",
       "    </tr>\n",
       "  </thead>\n",
       "  <tbody>\n",
       "    <tr>\n",
       "      <th>0</th>\n",
       "      <td>{'learning_rate': 0.1, 'max_depth': 10, 'n_est...</td>\n",
       "      <td>0.671743</td>\n",
       "      <td>0.000762</td>\n",
       "    </tr>\n",
       "    <tr>\n",
       "      <th>1</th>\n",
       "      <td>{'learning_rate': 0.1, 'max_depth': 12, 'n_est...</td>\n",
       "      <td>0.669413</td>\n",
       "      <td>0.000760</td>\n",
       "    </tr>\n",
       "    <tr>\n",
       "      <th>2</th>\n",
       "      <td>{'learning_rate': 0.15, 'max_depth': 10, 'n_es...</td>\n",
       "      <td>0.670989</td>\n",
       "      <td>0.000771</td>\n",
       "    </tr>\n",
       "    <tr>\n",
       "      <th>3</th>\n",
       "      <td>{'learning_rate': 0.15, 'max_depth': 12, 'n_es...</td>\n",
       "      <td>0.668302</td>\n",
       "      <td>0.000699</td>\n",
       "    </tr>\n",
       "  </tbody>\n",
       "</table>\n",
       "</div>"
      ],
      "text/plain": [
       "                                              params  mean_test_score  \\\n",
       "0  {'learning_rate': 0.1, 'max_depth': 10, 'n_est...         0.671743   \n",
       "1  {'learning_rate': 0.1, 'max_depth': 12, 'n_est...         0.669413   \n",
       "2  {'learning_rate': 0.15, 'max_depth': 10, 'n_es...         0.670989   \n",
       "3  {'learning_rate': 0.15, 'max_depth': 12, 'n_es...         0.668302   \n",
       "\n",
       "   std_test_score  \n",
       "0        0.000762  \n",
       "1        0.000760  \n",
       "2        0.000771  \n",
       "3        0.000699  "
      ]
     },
     "execution_count": 70,
     "metadata": {},
     "output_type": "execute_result"
    }
   ],
   "source": [
    "results[['params','mean_test_score','std_test_score']]"
   ]
  },
  {
   "cell_type": "markdown",
   "id": "7d0a8012",
   "metadata": {},
   "source": [
    "En general, vemos que el valor cambia poco para distintos hiperparámetros. Se observa también que el desvio entre diferentes _splits_ es muy bajo. Debido a que las búsquedas por _GridSearch_ son computacionalmente caras y no mejoran de manera sustancial el resultado final, no vamos a hacer una búsqueda mucho más detallada de los mejores hiperparámetros. Nos quedamos con 100 estimadores, pronfudidad igual a 10 y tasa de aprendizaje igual a 0.1.\n",
    "\n",
    "Vamos ahora a considerar la performance final del modelo en los datos de testeo."
   ]
  },
  {
   "cell_type": "code",
   "execution_count": 71,
   "id": "c1c3c3a7",
   "metadata": {},
   "outputs": [
    {
     "name": "stdout",
     "output_type": "stream",
     "text": [
      "              precision    recall  f1-score   support\n",
      "\n",
      "           0       0.59      0.30      0.39     80686\n",
      "           1       0.70      0.89      0.78    148500\n",
      "\n",
      "    accuracy                           0.68    229186\n",
      "   macro avg       0.64      0.59      0.59    229186\n",
      "weighted avg       0.66      0.68      0.65    229186\n",
      "\n"
     ]
    }
   ],
   "source": [
    "print(classification_report(y_val,xgb_cv.predict(X_val1)))"
   ]
  },
  {
   "cell_type": "code",
   "execution_count": 72,
   "id": "c9e09c12",
   "metadata": {},
   "outputs": [
    {
     "name": "stdout",
     "output_type": "stream",
     "text": [
      "[[ 48025 113348]\n",
      " [ 33021 263981]]\n"
     ]
    }
   ],
   "source": [
    "print(confusion_matrix(y_test,xgb_cv.predict(X_test1)))"
   ]
  },
  {
   "cell_type": "code",
   "execution_count": 73,
   "id": "d22f7c6a",
   "metadata": {},
   "outputs": [
    {
     "data": {
      "image/png": "[encoded data removed]",
      "text/plain": [
       "<Figure size 432x288 with 1 Axes>"
      ]
     },
     "metadata": {
      "needs_background": "light"
     },
     "output_type": "display_data"
    }
   ],
   "source": [
    "plot_roc(y_test, xgb_cv.predict_proba(X_test1), plot_micro = False, plot_macro= False);"
   ]
  },
  {
   "cell_type": "code",
   "execution_count": 74,
   "id": "f3d00ebf",
   "metadata": {},
   "outputs": [
    {
     "data": {
      "text/plain": [
       "count    458375.000000\n",
       "mean          0.647985\n",
       "std           0.143698\n",
       "min           0.104769\n",
       "25%           0.564917\n",
       "50%           0.662163\n",
       "75%           0.754870\n",
       "max           0.989761\n",
       "dtype: float64"
      ]
     },
     "execution_count": 74,
     "metadata": {},
     "output_type": "execute_result"
    }
   ],
   "source": [
    "probab = xgb_cv.predict_proba(X_test1)[:,1]\n",
    "pd.Series(probab).describe()"
   ]
  },
  {
   "cell_type": "markdown",
   "id": "751478fa",
   "metadata": {},
   "source": [
    "Vemos que nuestro _recall_ es de 89% para detectar los positivos para dengue, pero predecimos incorrectamente casi 70% los casos negativos. \n",
    "\n",
    "Calculemos la área sobre la curva AUC para el _set_ de testeo:"
   ]
  },
  {
   "cell_type": "code",
   "execution_count": 75,
   "id": "b39b57cf",
   "metadata": {},
   "outputs": [
    {
     "name": "stdout",
     "output_type": "stream",
     "text": [
      "AUC= 0.6737065195844479\n"
     ]
    }
   ],
   "source": [
    "y_pred = xgb_cv.predict_proba(X_test1)\n",
    "fpr_log,tpr_log,thr_log = roc_curve(y_test, y_pred[:,1])\n",
    "print('AUC=', auc(fpr_log, tpr_log))"
   ]
  },
  {
   "cell_type": "markdown",
   "id": "0488a66c",
   "metadata": {},
   "source": [
    "Tengamos como referencia este valor de 0.67 para la AUC y analicemos la importancia de las _features_."
   ]
  },
  {
   "cell_type": "code",
   "execution_count": 76,
   "id": "6fae59a1",
   "metadata": {},
   "outputs": [],
   "source": [
    "xgb = XGBClassifier(n_jobs=-1,use_label_encoder=False,eval_metric='logloss',\n",
    "                   max_depth=10,n_estimators=100,learning_rate=0.1)\n",
    "xgb.fit(X_train1,y_train)\n",
    "feat = pd.DataFrame(xgb.feature_importances_,index=X_train1.columns,columns=['Feature_Importance'])\n",
    "feat_imp1 = feat.sort_values(by='Feature_Importance',ascending=False)"
   ]
  },
  {
   "cell_type": "code",
   "execution_count": 77,
   "id": "045c8dfc",
   "metadata": {},
   "outputs": [
    {
     "data": {
      "image/png": "[encoded data removed]",
      "text/plain": [
       "<Figure size 1008x1008 with 1 Axes>"
      ]
     },
     "metadata": {
      "needs_background": "light"
     },
     "output_type": "display_data"
    }
   ],
   "source": [
    "plt.figure(figsize=(14,14))\n",
    "sns.barplot(data=feat_imp1,x=feat_imp1.index,y='Feature_Importance')\n",
    "plt.xticks(rotation=90);"
   ]
  },
  {
   "cell_type": "code",
   "execution_count": 78,
   "id": "78548151",
   "metadata": {},
   "outputs": [],
   "source": [
    "perm_importance = permutation_importance(xgb, X_test1, y_test)\n",
    "feat_imp2 = pd.DataFrame(perm_importance.importances_mean,index=X_train1.columns,columns=['Feature_Importance'])\n",
    "feat_imp2 = feat_imp2.sort_values(by='Feature_Importance',ascending=False)"
   ]
  },
  {
   "cell_type": "code",
   "execution_count": 79,
   "id": "396988dd",
   "metadata": {},
   "outputs": [
    {
     "data": {
      "image/png": "[encoded data removed]",
      "text/plain": [
       "<Figure size 1008x1008 with 1 Axes>"
      ]
     },
     "metadata": {
      "needs_background": "light"
     },
     "output_type": "display_data"
    }
   ],
   "source": [
    "plt.figure(figsize=(14,14))\n",
    "sns.barplot(data=feat_imp2,x=feat_imp2.index,y='Feature_Importance')\n",
    "plt.xticks(rotation=90);"
   ]
  },
  {
   "cell_type": "markdown",
   "id": "3a9e61df",
   "metadata": {},
   "source": [
    "Vemos que las _features_ más importantes son síntomas, especialmente el dolor detrás de los ojos, dolor muscular, fiebre y dolor de cabeza. Por otro lado, la _feature_ \"conjuntivitis\" parece no aportar nada a las predicciones. La raza, el embarazo y el sexo son poco significativos. La edad también es poco relevante, excepto si el paciente se encuentra en el rango de 50-80. En este último caso, la evidencia parece demostrar que el paciente sufre un poco mas los síntmas de Dengue siendo necesario acudir al hospital."
   ]
  },
  {
   "cell_type": "markdown",
   "id": "5016f1d8",
   "metadata": {},
   "source": [
    "## Caso 2: Síntomas, sumado a enfermedades preexistentes\n",
    "\n",
    "Considereamos ahora que disponemos del historial clínico del paciente, por ejemplo, si tiene diabetes, es hipertenso, etc. Haremos solamente un XGBoost similar al que fue optimizado anteriormente."
   ]
  },
  {
   "cell_type": "code",
   "execution_count": 80,
   "id": "f4cc8a6a",
   "metadata": {},
   "outputs": [],
   "source": [
    "doenzas_pre = ['DIABETES','HEMATOLOG', 'HEPATOPAT', 'RENAL', 'HIPERTENSA', 'ACIDO_PEPT','AUTO_IMUNE']\n",
    "columns2 = columns1 + doenzas_pre \n",
    "\n",
    "X_train2 = X_train[columns2]\n",
    "X_val2 = X_val[columns2]\n",
    "X_test2 = X_test[columns2]"
   ]
  },
  {
   "cell_type": "code",
   "execution_count": 81,
   "id": "454b8654",
   "metadata": {},
   "outputs": [
    {
     "data": {
      "text/plain": [
       "XGBClassifier(base_score=0.5, booster='gbtree', colsample_bylevel=1,\n",
       "              colsample_bynode=1, colsample_bytree=1, eval_metric='logloss',\n",
       "              gamma=0, gpu_id=-1, importance_type='gain',\n",
       "              interaction_constraints='', learning_rate=0.1, max_delta_step=0,\n",
       "              max_depth=10, min_child_weight=1, missing=nan,\n",
       "              monotone_constraints='()', n_estimators=100, n_jobs=-1,\n",
       "              num_parallel_tree=1, random_state=0, reg_alpha=0, reg_lambda=1,\n",
       "              scale_pos_weight=1, subsample=1, tree_method='exact',\n",
       "              use_label_encoder=False, validate_parameters=1, verbosity=None)"
      ]
     },
     "execution_count": 81,
     "metadata": {},
     "output_type": "execute_result"
    }
   ],
   "source": [
    "xgb = XGBClassifier(n_jobs=-1,use_label_encoder=False,eval_metric='logloss',\n",
    "                   max_depth=10,n_estimators=100,learning_rate=0.1)\n",
    "xgb.fit(X_train2,y_train)"
   ]
  },
  {
   "cell_type": "code",
   "execution_count": 82,
   "id": "c00b64ba",
   "metadata": {},
   "outputs": [
    {
     "name": "stdout",
     "output_type": "stream",
     "text": [
      "XGB:  0.685 0.674\n"
     ]
    }
   ],
   "source": [
    "evalua_auc(\"XGB: \",xgb,X_train2,y_train,X_test2,y_test)"
   ]
  },
  {
   "cell_type": "code",
   "execution_count": 83,
   "id": "0ab7ae0b",
   "metadata": {},
   "outputs": [
    {
     "name": "stdout",
     "output_type": "stream",
     "text": [
      "              precision    recall  f1-score   support\n",
      "\n",
      "           0       0.59      0.30      0.39    161373\n",
      "           1       0.70      0.89      0.78    297002\n",
      "\n",
      "    accuracy                           0.68    458375\n",
      "   macro avg       0.65      0.59      0.59    458375\n",
      "weighted avg       0.66      0.68      0.65    458375\n",
      "\n"
     ]
    }
   ],
   "source": [
    "y_pred = xgb.predict(X_test2)\n",
    "print(classification_report(y_test,y_pred))"
   ]
  },
  {
   "cell_type": "markdown",
   "id": "3e87d501",
   "metadata": {},
   "source": [
    "Por un lado, no observamos una mejora significativa en la performance del modelo, pero por otro lado, el resultado era de esperarse debido a que no contamos con una gran cantidad de datos de pacientes con enfermedades preexistentes."
   ]
  },
  {
   "cell_type": "code",
   "execution_count": 84,
   "id": "1812a1a2",
   "metadata": {},
   "outputs": [
    {
     "name": "stdout",
     "output_type": "stream",
     "text": [
      "DIABETES 2.2761335835512413\n",
      "HEMATOLOG 0.4379395157402103\n",
      "HEPATOPAT 0.4578795733962107\n",
      "RENAL 0.3779884452383622\n",
      "HIPERTENSA 5.659485773401534\n",
      "ACIDO_PEPT 0.49693067099384824\n",
      "AUTO_IMUNE 0.4013754712856625\n"
     ]
    }
   ],
   "source": [
    "for x in doenzas_pre:\n",
    "    print(x,100*len(df[df[x]==1])/len(df))  # Porcentaje de casos analizados discriminados por enfermedidades preexistentes"
   ]
  },
  {
   "cell_type": "markdown",
   "id": "d3b200ee",
   "metadata": {},
   "source": [
    "De acuerdo al análisis anterior, vemos que estas enfermedades están presentes en el 0.4 al 5.7% de la población dependiendo del caso y era poco probable que aporten buena señal al modelo."
   ]
  },
  {
   "cell_type": "markdown",
   "id": "68edb1e3",
   "metadata": {
    "tags": []
   },
   "source": [
    "## Caso 3: Agregando el més del contagio\n",
    "\n",
    "Considerando ahora el mes en que el paciente empezó a sentir los sintomas."
   ]
  },
  {
   "cell_type": "code",
   "execution_count": 85,
   "id": "d14b5370",
   "metadata": {},
   "outputs": [],
   "source": [
    "columns3 = columns2 + ['MES_NOT_agosto','MES_NOT_diciembre', 'MES_NOT_enero', 'MES_NOT_febrero',\n",
    "                       'MES_NOT_julio', 'MES_NOT_junio', 'MES_NOT_marzo', 'MES_NOT_mayo',\n",
    "                       'MES_NOT_noviembre', 'MES_NOT_octubre', 'MES_NOT_septiembre']\n",
    "\n",
    "X_train3 = X_train[columns3]\n",
    "X_val3 = X_val[columns3]\n",
    "X_test3 = X_test[columns3]"
   ]
  },
  {
   "cell_type": "code",
   "execution_count": 86,
   "id": "80c19524",
   "metadata": {},
   "outputs": [
    {
     "name": "stdout",
     "output_type": "stream",
     "text": [
      "XGB:  0.704 0.693\n"
     ]
    }
   ],
   "source": [
    "xgb = XGBClassifier(n_jobs=-1,use_label_encoder=False,eval_metric='logloss',\n",
    "                   max_depth=10,n_estimators=100,learning_rate=0.1)\n",
    "xgb.fit(X_train3,y_train)\n",
    "evalua_auc(\"XGB: \",xgb,X_train3,y_train,X_test3,y_test)"
   ]
  },
  {
   "cell_type": "code",
   "execution_count": 87,
   "id": "60f68e4f",
   "metadata": {},
   "outputs": [
    {
     "name": "stdout",
     "output_type": "stream",
     "text": [
      "              precision    recall  f1-score   support\n",
      "\n",
      "           0       0.61      0.32      0.42    161373\n",
      "           1       0.71      0.89      0.79    297002\n",
      "\n",
      "    accuracy                           0.69    458375\n",
      "   macro avg       0.66      0.61      0.60    458375\n",
      "weighted avg       0.67      0.69      0.66    458375\n",
      "\n"
     ]
    }
   ],
   "source": [
    "print(classification_report(y_test,xgb.predict(X_test3)))"
   ]
  },
  {
   "cell_type": "code",
   "execution_count": 88,
   "id": "fcb355d0",
   "metadata": {},
   "outputs": [
    {
     "data": {
      "image/png": "[encoded data removed]",
      "text/plain": [
       "<Figure size 1008x1008 with 1 Axes>"
      ]
     },
     "metadata": {
      "needs_background": "light"
     },
     "output_type": "display_data"
    }
   ],
   "source": [
    "perm_importance = permutation_importance(xgb, X_test3, y_test)\n",
    "feat_imp3 = pd.DataFrame(perm_importance.importances_mean,index=X_train3.columns,columns=['Feature_Importance'])\n",
    "feat_imp3 = feat_imp3.sort_values(by='Feature_Importance',ascending=False)\n",
    "plt.figure(figsize=(14,14))\n",
    "sns.barplot(data=feat_imp3,x=feat_imp3.index,y='Feature_Importance')\n",
    "plt.xticks(rotation=90);"
   ]
  },
  {
   "cell_type": "markdown",
   "id": "bf20614c",
   "metadata": {},
   "source": [
    "Vemos una mejora de 2% en el recall de casos negativos y 1% en la accuracy media. Además, vemos que las nuevas _features_ tienen una importancia considerable. Esta mejora sucede principalmente en los meses de julio a noviembre cuando se observan menos casos de dengue, lo que explica la mejora en el precisión."
   ]
  },
  {
   "cell_type": "markdown",
   "id": "cf7c7368",
   "metadata": {},
   "source": [
    "# Caso 4: Teniendo en cuenta el municipio de procedencia\n",
    "\n",
    "Vamos a agregar ahora la información del municipio de origen del paciente. "
   ]
  },
  {
   "cell_type": "code",
   "execution_count": 208,
   "id": "b7a7a61b",
   "metadata": {},
   "outputs": [],
   "source": [
    "columns4 = columns3 + ['Densidad_Mun_q2','Densidad_Mun_q3','Densidad_Mun_q4','Densidad_Mun_q5',\n",
    "                       'Densidad_Mun_q6','Densidad_Mun_q7','Densidad_Mun_q8','Densidad_Mun_q9',\n",
    "                       'Densidad_Mun_q10','Densidad_Mun_q11','Densidad_Mun_q12','Densidad_Mun_q13',\n",
    "                       'Densidad_Mun_q14','Densidad_Mun_q15']\n",
    "\n",
    "X_train4 = X_train[columns4]\n",
    "X_val4 = X_val[columns4]\n",
    "X_test4 = X_test[columns4]"
   ]
  },
  {
   "cell_type": "markdown",
   "id": "6c4cd1d9",
   "metadata": {},
   "source": [
    "Como adicionamos muchas columnas, vamos a hacer un nuevo _grid-search_ para ver si los hiperparámetros óptimos siguen siendo los mismos."
   ]
  },
  {
   "cell_type": "code",
   "execution_count": null,
   "id": "7b322f0e",
   "metadata": {},
   "outputs": [],
   "source": [
    "cv = StratifiedKFold(n_splits=4, random_state=55, shuffle=True)\n",
    "\n",
    "params = {  \n",
    "    'max_depth': [8,10],\n",
    "    'n_estimators': [100,125], \n",
    "    'learning_rate': [0.1, 0.15,0.02], \n",
    "}\n",
    "\n",
    "xgb = XGBClassifier(n_jobs=-1,use_label_encoder=False,eval_metric='logloss')\n",
    "xgb_cv = GridSearchCV(xgb, param_grid=params, cv=cv, n_jobs=-1,scoring='roc_auc')\n",
    "xgb_cv.fit(X_train4,y_train)"
   ]
  },
  {
   "cell_type": "code",
   "execution_count": 132,
   "id": "e876d269",
   "metadata": {},
   "outputs": [
    {
     "data": {
      "text/html": [
       "<div>\n",
       "<style scoped>\n",
       "    .dataframe tbody tr th:only-of-type {\n",
       "        vertical-align: middle;\n",
       "    }\n",
       "\n",
       "    .dataframe tbody tr th {\n",
       "        vertical-align: top;\n",
       "    }\n",
       "\n",
       "    .dataframe thead th {\n",
       "        text-align: right;\n",
       "    }\n",
       "</style>\n",
       "<table border=\"1\" class=\"dataframe\">\n",
       "  <thead>\n",
       "    <tr style=\"text-align: right;\">\n",
       "      <th></th>\n",
       "      <th>params</th>\n",
       "      <th>mean_test_score</th>\n",
       "      <th>std_test_score</th>\n",
       "    </tr>\n",
       "  </thead>\n",
       "  <tbody>\n",
       "    <tr>\n",
       "      <th>0</th>\n",
       "      <td>{'learning_rate': 0.1, 'max_depth': 8, 'n_esti...</td>\n",
       "      <td>0.743858</td>\n",
       "      <td>0.000658</td>\n",
       "    </tr>\n",
       "    <tr>\n",
       "      <th>1</th>\n",
       "      <td>{'learning_rate': 0.1, 'max_depth': 8, 'n_esti...</td>\n",
       "      <td>0.745669</td>\n",
       "      <td>0.000650</td>\n",
       "    </tr>\n",
       "    <tr>\n",
       "      <th>2</th>\n",
       "      <td>{'learning_rate': 0.1, 'max_depth': 10, 'n_est...</td>\n",
       "      <td>0.748491</td>\n",
       "      <td>0.000560</td>\n",
       "    </tr>\n",
       "    <tr>\n",
       "      <th>3</th>\n",
       "      <td>{'learning_rate': 0.1, 'max_depth': 10, 'n_est...</td>\n",
       "      <td>0.749772</td>\n",
       "      <td>0.000571</td>\n",
       "    </tr>\n",
       "    <tr>\n",
       "      <th>4</th>\n",
       "      <td>{'learning_rate': 0.1, 'max_depth': 12, 'n_est...</td>\n",
       "      <td>0.750720</td>\n",
       "      <td>0.000595</td>\n",
       "    </tr>\n",
       "    <tr>\n",
       "      <th>5</th>\n",
       "      <td>{'learning_rate': 0.1, 'max_depth': 12, 'n_est...</td>\n",
       "      <td>0.751286</td>\n",
       "      <td>0.000628</td>\n",
       "    </tr>\n",
       "    <tr>\n",
       "      <th>6</th>\n",
       "      <td>{'learning_rate': 0.15, 'max_depth': 8, 'n_est...</td>\n",
       "      <td>0.746915</td>\n",
       "      <td>0.000492</td>\n",
       "    </tr>\n",
       "    <tr>\n",
       "      <th>7</th>\n",
       "      <td>{'learning_rate': 0.15, 'max_depth': 8, 'n_est...</td>\n",
       "      <td>0.748211</td>\n",
       "      <td>0.000491</td>\n",
       "    </tr>\n",
       "    <tr>\n",
       "      <th>8</th>\n",
       "      <td>{'learning_rate': 0.15, 'max_depth': 10, 'n_es...</td>\n",
       "      <td>0.750301</td>\n",
       "      <td>0.000594</td>\n",
       "    </tr>\n",
       "    <tr>\n",
       "      <th>9</th>\n",
       "      <td>{'learning_rate': 0.15, 'max_depth': 10, 'n_es...</td>\n",
       "      <td>0.750831</td>\n",
       "      <td>0.000635</td>\n",
       "    </tr>\n",
       "    <tr>\n",
       "      <th>10</th>\n",
       "      <td>{'learning_rate': 0.15, 'max_depth': 12, 'n_es...</td>\n",
       "      <td>0.751109</td>\n",
       "      <td>0.000708</td>\n",
       "    </tr>\n",
       "    <tr>\n",
       "      <th>11</th>\n",
       "      <td>{'learning_rate': 0.15, 'max_depth': 12, 'n_es...</td>\n",
       "      <td>0.751010</td>\n",
       "      <td>0.000707</td>\n",
       "    </tr>\n",
       "    <tr>\n",
       "      <th>12</th>\n",
       "      <td>{'learning_rate': 0.02, 'max_depth': 8, 'n_est...</td>\n",
       "      <td>0.719074</td>\n",
       "      <td>0.000909</td>\n",
       "    </tr>\n",
       "    <tr>\n",
       "      <th>13</th>\n",
       "      <td>{'learning_rate': 0.02, 'max_depth': 8, 'n_est...</td>\n",
       "      <td>0.723239</td>\n",
       "      <td>0.000755</td>\n",
       "    </tr>\n",
       "    <tr>\n",
       "      <th>14</th>\n",
       "      <td>{'learning_rate': 0.02, 'max_depth': 10, 'n_es...</td>\n",
       "      <td>0.726581</td>\n",
       "      <td>0.000803</td>\n",
       "    </tr>\n",
       "    <tr>\n",
       "      <th>15</th>\n",
       "      <td>{'learning_rate': 0.02, 'max_depth': 10, 'n_es...</td>\n",
       "      <td>0.730286</td>\n",
       "      <td>0.000734</td>\n",
       "    </tr>\n",
       "    <tr>\n",
       "      <th>16</th>\n",
       "      <td>{'learning_rate': 0.02, 'max_depth': 12, 'n_es...</td>\n",
       "      <td>0.732608</td>\n",
       "      <td>0.000833</td>\n",
       "    </tr>\n",
       "    <tr>\n",
       "      <th>17</th>\n",
       "      <td>{'learning_rate': 0.02, 'max_depth': 12, 'n_es...</td>\n",
       "      <td>0.736221</td>\n",
       "      <td>0.000738</td>\n",
       "    </tr>\n",
       "  </tbody>\n",
       "</table>\n",
       "</div>"
      ],
      "text/plain": [
       "                                               params  mean_test_score  \\\n",
       "0   {'learning_rate': 0.1, 'max_depth': 8, 'n_esti...         0.743858   \n",
       "1   {'learning_rate': 0.1, 'max_depth': 8, 'n_esti...         0.745669   \n",
       "2   {'learning_rate': 0.1, 'max_depth': 10, 'n_est...         0.748491   \n",
       "3   {'learning_rate': 0.1, 'max_depth': 10, 'n_est...         0.749772   \n",
       "4   {'learning_rate': 0.1, 'max_depth': 12, 'n_est...         0.750720   \n",
       "5   {'learning_rate': 0.1, 'max_depth': 12, 'n_est...         0.751286   \n",
       "6   {'learning_rate': 0.15, 'max_depth': 8, 'n_est...         0.746915   \n",
       "7   {'learning_rate': 0.15, 'max_depth': 8, 'n_est...         0.748211   \n",
       "8   {'learning_rate': 0.15, 'max_depth': 10, 'n_es...         0.750301   \n",
       "9   {'learning_rate': 0.15, 'max_depth': 10, 'n_es...         0.750831   \n",
       "10  {'learning_rate': 0.15, 'max_depth': 12, 'n_es...         0.751109   \n",
       "11  {'learning_rate': 0.15, 'max_depth': 12, 'n_es...         0.751010   \n",
       "12  {'learning_rate': 0.02, 'max_depth': 8, 'n_est...         0.719074   \n",
       "13  {'learning_rate': 0.02, 'max_depth': 8, 'n_est...         0.723239   \n",
       "14  {'learning_rate': 0.02, 'max_depth': 10, 'n_es...         0.726581   \n",
       "15  {'learning_rate': 0.02, 'max_depth': 10, 'n_es...         0.730286   \n",
       "16  {'learning_rate': 0.02, 'max_depth': 12, 'n_es...         0.732608   \n",
       "17  {'learning_rate': 0.02, 'max_depth': 12, 'n_es...         0.736221   \n",
       "\n",
       "    std_test_score  \n",
       "0         0.000658  \n",
       "1         0.000650  \n",
       "2         0.000560  \n",
       "3         0.000571  \n",
       "4         0.000595  \n",
       "5         0.000628  \n",
       "6         0.000492  \n",
       "7         0.000491  \n",
       "8         0.000594  \n",
       "9         0.000635  \n",
       "10        0.000708  \n",
       "11        0.000707  \n",
       "12        0.000909  \n",
       "13        0.000755  \n",
       "14        0.000803  \n",
       "15        0.000734  \n",
       "16        0.000833  \n",
       "17        0.000738  "
      ]
     },
     "execution_count": 132,
     "metadata": {},
     "output_type": "execute_result"
    }
   ],
   "source": [
    "xgb_cv.best_params_\n",
    "results=pd.DataFrame(xgb_cv.cv_results_)\n",
    "results.mean_test_score.describe()\n",
    "results[['params','mean_test_score','std_test_score']]"
   ]
  },
  {
   "cell_type": "markdown",
   "id": "9e43120b",
   "metadata": {},
   "source": [
    "Vemos una gran mejora cuando consideramos el municipio de origen del paciente. Con respecto a los mejores hiperparametros, podemos observar que son muy similares a los que teníamos anteriormente, excepto cuando la _learning_rate_ asume un valore demasiado pequeño.\n",
    "\n",
    "Probemos la _performance_ en el dataset de testeo."
   ]
  },
  {
   "cell_type": "code",
   "execution_count": 91,
   "id": "b97010db",
   "metadata": {
    "tags": []
   },
   "outputs": [
    {
     "name": "stdout",
     "output_type": "stream",
     "text": [
      "XGB:  0.766 0.751\n"
     ]
    }
   ],
   "source": [
    "xgb = XGBClassifier(n_jobs=-1,use_label_encoder=False,eval_metric='logloss',\n",
    "                   max_depth=10,n_estimators=100,learning_rate=0.15)\n",
    "xgb.fit(X_train4,y_train)\n",
    "evalua_auc(\"XGB: \",xgb,X_train4,y_train,X_test4,y_test)"
   ]
  },
  {
   "cell_type": "code",
   "execution_count": 92,
   "id": "83fdf8d4",
   "metadata": {},
   "outputs": [
    {
     "name": "stdout",
     "output_type": "stream",
     "text": [
      "              precision    recall  f1-score   support\n",
      "\n",
      "           0       0.66      0.43      0.52    161373\n",
      "           1       0.74      0.88      0.80    297002\n",
      "\n",
      "    accuracy                           0.72    458375\n",
      "   macro avg       0.70      0.65      0.66    458375\n",
      "weighted avg       0.71      0.72      0.70    458375\n",
      "\n"
     ]
    }
   ],
   "source": [
    "print(classification_report(y_test,xgb.predict(X_test4)))"
   ]
  },
  {
   "cell_type": "markdown",
   "id": "c0d59c01",
   "metadata": {},
   "source": [
    "Una mejora de 5 puntos en el AUC. Vemos que la precisión mejoró bastante. Para los casos negativos tuvimos una mejora de 11 puntos (32% a 43%) mientras el recall para los casos positivos se mantuvo en casi 90%.\n",
    "\n",
    "Veamos la importancia de las features."
   ]
  },
  {
   "cell_type": "code",
   "execution_count": 93,
   "id": "2922f09c",
   "metadata": {},
   "outputs": [
    {
     "data": {
      "image/png": "[encoded data removed]",
      "text/plain": [
       "<Figure size 1008x1008 with 1 Axes>"
      ]
     },
     "metadata": {
      "needs_background": "light"
     },
     "output_type": "display_data"
    }
   ],
   "source": [
    "perm_importance = permutation_importance(xgb, X_test4, y_test)\n",
    "feat_imp4 = pd.DataFrame(perm_importance.importances_mean,index=X_train4.columns,columns=['Feature_Importance'])\n",
    "feat_imp4 = feat_imp4.sort_values(by='Feature_Importance',ascending=False)\n",
    "plt.figure(figsize=(14,14))\n",
    "sns.barplot(data=feat_imp4,x=feat_imp4.index,y='Feature_Importance')\n",
    "plt.xticks(rotation=90);"
   ]
  },
  {
   "cell_type": "markdown",
   "id": "bcb4f4d8",
   "metadata": {},
   "source": [
    "Observamos en este caso una distribución mas compleja, donde los síntomas, el mes de contagio y la densidad poblacional del municipio de procedencia sob preponderantes\n",
    "\n",
    "Por curiosidad, veamos como es un _decision tree_ simple de profundidad 3:"
   ]
  },
  {
   "cell_type": "code",
   "execution_count": 94,
   "id": "55c1ee25",
   "metadata": {},
   "outputs": [
    {
     "data": {
      "image/png": "[encoded data removed]",
      "text/plain": [
       "<Figure size 1440x864 with 1 Axes>"
      ]
     },
     "metadata": {
      "needs_background": "light"
     },
     "output_type": "display_data"
    }
   ],
   "source": [
    "dec_tree = DecisionTreeClassifier(max_depth=3).fit(X_train4,y_train)\n",
    "plt.figure(figsize=(20,12))\n",
    "tree.plot_tree(dec_tree,feature_names=X_train4.columns,class_names=[\"Negativo\",\"Positivo\"],filled=True);"
   ]
  },
  {
   "cell_type": "markdown",
   "id": "a2f5da0a",
   "metadata": {},
   "source": [
    "Vemos que es de mucha importancia conocer el municipio de precedencia del paciente, siendo particularmente importante saber si este municipio pertenece al grupo de mayor densidad poblacional. Una posible explicación es que en estos casos las personas viven mas próximas entre sí, posibilitando que un mismo mosquito infectado pique a varias de ellas."
   ]
  },
  {
   "cell_type": "markdown",
   "id": "63d49aa2",
   "metadata": {
    "tags": []
   },
   "source": [
    "# Caso 5: Agregando resultados de laboratorio\n",
    "\n",
    "Vamos a considerar ahora los casos donde ya fueron realizados los análisis de laboratorio para determinar el diagnóstico, o sea, consideremos todas las _features_ trabajadas hasta ahora. Esto servirá como referencia de la precisión máxima que lograríamos obtener con las _features_ desarolladas hasta este punto del trabajo."
   ]
  },
  {
   "cell_type": "code",
   "execution_count": 95,
   "id": "dadea7a6",
   "metadata": {},
   "outputs": [
    {
     "data": {
      "text/plain": [
       "XGBClassifier(base_score=0.5, booster='gbtree', colsample_bylevel=1,\n",
       "              colsample_bynode=1, colsample_bytree=1, eval_metric='logloss',\n",
       "              gamma=0, gpu_id=-1, importance_type='gain',\n",
       "              interaction_constraints='', learning_rate=0.15, max_delta_step=0,\n",
       "              max_depth=10, min_child_weight=1, missing=nan,\n",
       "              monotone_constraints='()', n_estimators=100, n_jobs=-1,\n",
       "              num_parallel_tree=1, random_state=0, reg_alpha=0, reg_lambda=1,\n",
       "              scale_pos_weight=1, subsample=1, tree_method='exact',\n",
       "              use_label_encoder=False, validate_parameters=1, verbosity=None)"
      ]
     },
     "execution_count": 95,
     "metadata": {},
     "output_type": "execute_result"
    }
   ],
   "source": [
    "# XGBoost\n",
    "xgb = XGBClassifier(n_jobs=-1,use_label_encoder=False,eval_metric='logloss',\n",
    "                    learning_rate=0.15,max_depth=10,n_estimators=100)\n",
    "xgb.fit(X_train,y_train)"
   ]
  },
  {
   "cell_type": "code",
   "execution_count": 96,
   "id": "359dfe07",
   "metadata": {},
   "outputs": [
    {
     "name": "stdout",
     "output_type": "stream",
     "text": [
      "XGB - Grid-Search 0.779 0.768\n",
      "              precision    recall  f1-score   support\n",
      "\n",
      "           0       0.67      0.45      0.54    161373\n",
      "           1       0.75      0.88      0.81    297002\n",
      "\n",
      "    accuracy                           0.73    458375\n",
      "   macro avg       0.71      0.67      0.68    458375\n",
      "weighted avg       0.72      0.73      0.71    458375\n",
      "\n"
     ]
    }
   ],
   "source": [
    "evalua_auc(\"XGB - Grid-Search\",xgb,X_train,y_train,X_test,y_test)\n",
    "print(classification_report(y_test,xgb.predict(X_test)))"
   ]
  },
  {
   "cell_type": "markdown",
   "id": "ee1c0f65",
   "metadata": {
    "tags": []
   },
   "source": [
    "De lo observado anteriormente, 73% de _accuracy_ media y un AUC de 0.77 es el máximo de precisión que tenemos con las _features_ que consideramos hasta ahora. Es importante notar que, debido a que, en general, fueron realizados pocos testeos de laboratório (aproximadamente 160000 en un dataset de 2 millones de datos), no hay una mejora considerable en la precisión del modelo. Si hubiéramos usado solamente los datos que tienen algún tipo de testeo de laboratorio, la precisión media final seria en torno al 80% (este análisis fue realizado, pero no lo mostramos en esta notebook). Si bien es un valor considerablemente mejor, todavía nos encontramos lejos de un 95-100%, lo que es típico de la precisión de resultados de laboratório tradicionales.\n",
    "\n",
    "Todo esto confirma que el diagnóstico de dengue es complejo aún cuando utilizamos múltiples herramientas distintas.\n",
    "\n",
    "Las _features_ más importantes son:"
   ]
  },
  {
   "cell_type": "code",
   "execution_count": 97,
   "id": "0c053a0d",
   "metadata": {},
   "outputs": [
    {
     "data": {
      "image/png": "[encoded data removed]",
      "text/plain": [
       "<Figure size 1008x1008 with 1 Axes>"
      ]
     },
     "metadata": {
      "needs_background": "light"
     },
     "output_type": "display_data"
    }
   ],
   "source": [
    "perm_importance = permutation_importance(xgb, X_test, y_test)\n",
    "feat_imp = pd.DataFrame(perm_importance.importances_mean,index=X_train.columns,columns=['Feature_Importance'])\n",
    "feat_imp = feat_imp.sort_values(by='Feature_Importance',ascending=False)\n",
    "plt.figure(figsize=(14,14))\n",
    "sns.barplot(data=feat_imp,x=feat_imp.index,y='Feature_Importance')\n",
    "plt.xticks(rotation=90);"
   ]
  },
  {
   "cell_type": "markdown",
   "id": "9992d68e",
   "metadata": {},
   "source": [
    "Vemos que los resultados de laboratório, SORO y NS1 (los 2 más utilizados) son muy importantes. Pero también vemos que los síntomas y otras _features_ discutidas previamente tienen igual o mayor importancia. Esto demuenstra el rol secundario de los testeos de laboratório para evaluar el Dengue, que en gran parte de debe a su poco uso (menos de 10% de los casos son testeados) y también a la dificultad del problema, considerando la comun divergéncia entre el diagnóstico del médico y el resultado del laboratório."
   ]
  },
  {
   "cell_type": "markdown",
   "id": "fc50c5ff",
   "metadata": {
    "tags": []
   },
   "source": [
    "# Conclusiones parciales\n",
    "\n",
    "Hasta aquí, pudimos observar que lograr determinar con buena exactitud si un paciente está infectado por Dengue es un problema complejo. Muchos de los síntomas asociados a Dengue son también asociados a otras enfermedades. \n",
    "\n",
    "En primera instancia esperábamos poder brindar información precisa sobre si era importante continuar con testeos de laboratorio o si se podía descartar de antemano (solo con información básica que se podría obtener del paciente al momento de llegar a la institución médica) que la persona este siendo afectada por esta enfermedad. En este caso podríamos evitar testeos innecesarios como así también prevenir el colapso de los sistemas sanitarios.\n",
    "\n",
    "Aún cuando incluimos los resultados de laboratorio que, en un principio no formaba parte de nuestra idea, vemos que nuestro modelo indicaría que muchos pacientes no tienen Denque cuando en realidad si lo tienen y sabemos que esto es inadmiisble en esta aplicación."
   ]
  },
  {
   "cell_type": "markdown",
   "id": "d8566975",
   "metadata": {},
   "source": [
    "Hay que tener presente que el problema de negocio es tratar de diagnosticar cuanto antes, si llegamos a que se necesita un análisis de laboratorio es costoso en tiempo y recursos económicos. Lo ideal sería llegar a un modelo que reemplace al análisis con antígenos, o que mínimamente filtre los casos que necesiten un examen de laboratorio.\n",
    "\n",
    "Para ello necesitamos mejorar y/o conseguir mejores features que ayuden a predecir nuestro problema en cuestión. La densidad población que no estaba relacionada directamente con los datos originales probó ser muy útil para mejorar la predicibilidad de caso en cuestión. Esto se podría explicar porque si agregamos datos del contexto del paciente, el modelo puede comenzar a entender mejor los datos.\n",
    "\n",
    "Proponemos ahora incluir datos que se encuentren relacionados con la existencia del principal vector de contagio del virus, el mosquito _Aedes aegypti_ en una zona geográfica.\n",
    "\n",
    "Usaremos una otra tabla auxiliar obtenida del Estado de Brasil en la que se identifica las coordenadas y altitud de las ciudades (o en algunos casos conglomerados de pueblos). La altitud en sí ya puede constituir una feature siendo que el mosquito podría preferir ciertas elevaciones sobre el nivel del mar. En lo que respecta a las coordenadas, podemos conseguir datos (consultando la API de la NASA) meteorológicos como temperaturas y precipitaciones de los días anteriores al contagio. Esto está basado en que según la literatura científica el mosquito necesita de ciertas condiciones de temperatura y humedad para reproducirse."
   ]
  },
  {
   "cell_type": "markdown",
   "id": "78355075",
   "metadata": {},
   "source": [
    "# Incorporación de datos externos\n",
    "\n",
    "Cabe destacar que el análisis que presentamos a continuación, estaría sujeto a una infraestructura mas compleja. Sabemos que quizás algunos municipios muy aislados podrían no tener acceso a la misma, pero aún así consideramos que podría ser de mucha utilidad en aquellos casos en los que sí.\n",
    "\n",
    "El siguiente análisis, esta pensado para desplegarse como parte de una iniciativa posiblemente gubernamental que implemente un modelo y lo ponga a disposición de los ciudadanos a través de algún sitio web. Este modelo debería valerse además de los datos clínicos del paciente, de datos de condiciones climáticas y casos positivos de infección registrados por municipio."
   ]
  },
  {
   "cell_type": "markdown",
   "id": "1357b5cf",
   "metadata": {},
   "source": [
    "### Volvemos a iniciar con el dataset original\n",
    "\n",
    "En este nuevo análisis, debemos volver a cargar el dataset original debido a que vamos a utilizar algunas columnas que en el primer análisis habíamos descartado.\n"
   ]
  },
  {
   "cell_type": "markdown",
   "id": "f92ed193",
   "metadata": {},
   "source": [
    "Inicialmente vamos a seleccionar las columnas que necesitamos del dataset original. En este caso podremos descartar de antemano aquellas features que, por el análisis anterior, ya sabemos que no son buenos predictores"
   ]
  },
  {
   "cell_type": "code",
   "execution_count": 4,
   "id": "9a675eb7",
   "metadata": {},
   "outputs": [],
   "source": [
    "columnas = ['ID_MUNICIP','DT_SIN_PRI','DT_NOTIFIC','FEBRE','MIALGIA','CEFALEIA','EXANTEMA','VOMITO','CLASSI_FIN',\n",
    "            'NAUSEA','DOR_COSTAS','CONJUNTVIT','ARTRITE','ARTRALGIA','PETEQUIA_N','LEUCOPENIA','LACO','DOR_RETRO']"
   ]
  },
  {
   "cell_type": "code",
   "execution_count": 7,
   "id": "00870f6e",
   "metadata": {},
   "outputs": [],
   "source": [
    "data = pd.read_csv('data set.csv',dtype=dtypes)\n",
    "data = data[columnas]"
   ]
  },
  {
   "cell_type": "markdown",
   "id": "84d4d9e2",
   "metadata": {},
   "source": [
    "Reemplazamos los valores \"9\" por nulos ya que en el dataset original los campos sin valor se representan con 9."
   ]
  },
  {
   "cell_type": "code",
   "execution_count": 8,
   "id": "09533990",
   "metadata": {},
   "outputs": [],
   "source": [
    "for i in data.columns:\n",
    "    data[i] = data[i].replace(9, np.nan)"
   ]
  },
  {
   "cell_type": "code",
   "execution_count": 9,
   "id": "602f8585",
   "metadata": {},
   "outputs": [],
   "source": [
    "data[\"DT_SIN_PRI\"] = pd.to_datetime(data[\"DT_SIN_PRI\"], format=\"%Y-%m-%d\", errors = \"coerce\")\n",
    "data[\"DT_NOTIFIC\"] = pd.to_datetime(data[\"DT_NOTIFIC\"], format=\"%Y-%m-%d\", errors = \"coerce\")"
   ]
  },
  {
   "cell_type": "markdown",
   "id": "bc0dc461",
   "metadata": {},
   "source": [
    "Ahora quitamos los registros con valores nulos."
   ]
  },
  {
   "cell_type": "code",
   "execution_count": 10,
   "id": "833adde0",
   "metadata": {},
   "outputs": [],
   "source": [
    "data.dropna(inplace = True)"
   ]
  },
  {
   "cell_type": "markdown",
   "id": "ae740e4d",
   "metadata": {},
   "source": [
    "Tambien quitamos del dataset los registros asociados a Chikungunya que, como ya habíamos visto anteriormente no contienen suficientes valores como para poder realizar un análisis."
   ]
  },
  {
   "cell_type": "code",
   "execution_count": 11,
   "id": "c379c5d1",
   "metadata": {},
   "outputs": [],
   "source": [
    "data=data[data.CLASSI_FIN != 'Chikungunya']"
   ]
  },
  {
   "cell_type": "code",
   "execution_count": 12,
   "id": "651ae220",
   "metadata": {},
   "outputs": [
    {
     "name": "stdout",
     "output_type": "stream",
     "text": [
      "<class 'pandas.core.frame.DataFrame'>\n",
      "Int64Index: 3203721 entries, 0 to 6191629\n",
      "Data columns (total 18 columns):\n",
      " #   Column      Dtype         \n",
      "---  ------      -----         \n",
      " 0   ID_MUNICIP  object        \n",
      " 1   DT_SIN_PRI  datetime64[ns]\n",
      " 2   DT_NOTIFIC  datetime64[ns]\n",
      " 3   FEBRE       float64       \n",
      " 4   MIALGIA     float64       \n",
      " 5   CEFALEIA    float64       \n",
      " 6   EXANTEMA    float64       \n",
      " 7   VOMITO      float64       \n",
      " 8   CLASSI_FIN  object        \n",
      " 9   NAUSEA      float64       \n",
      " 10  DOR_COSTAS  float64       \n",
      " 11  CONJUNTVIT  float64       \n",
      " 12  ARTRITE     float64       \n",
      " 13  ARTRALGIA   float64       \n",
      " 14  PETEQUIA_N  float64       \n",
      " 15  LEUCOPENIA  float64       \n",
      " 16  LACO        float64       \n",
      " 17  DOR_RETRO   float64       \n",
      "dtypes: datetime64[ns](2), float64(14), object(2)\n",
      "memory usage: 464.4+ MB\n"
     ]
    }
   ],
   "source": [
    "data.info()"
   ]
  },
  {
   "cell_type": "markdown",
   "id": "c358e1e9",
   "metadata": {},
   "source": [
    "### Incorporación de datos históricos del clima en los diferentes municipios de Brasil"
   ]
  },
  {
   "cell_type": "markdown",
   "id": "cc8f468d",
   "metadata": {},
   "source": [
    "Consideramos que las condiciones climáticas pueden propiciar la reproducción de los mosquitos que luego contagian el Dengue. Por este motivo en primera instancia buscamos datos del clima histórico en Brasil agrupando y relacionando los datos por municipio."
   ]
  },
  {
   "cell_type": "code",
   "execution_count": 13,
   "id": "d2090274",
   "metadata": {},
   "outputs": [],
   "source": [
    "coord = pd.read_csv(\"coordenadas.csv\",sep = \";\",decimal = \",\",encoding = 'ansi')"
   ]
  },
  {
   "cell_type": "code",
   "execution_count": 14,
   "id": "9f64f814",
   "metadata": {},
   "outputs": [],
   "source": [
    "coord[\"CD_GEOCODMU\"] = coord[\"CD_GEOCODMU\"].astype(\"string\")"
   ]
  },
  {
   "cell_type": "code",
   "execution_count": 15,
   "id": "f56f3c95",
   "metadata": {},
   "outputs": [],
   "source": [
    "coord[\"CD_GEOCODMU\"] = coord[\"CD_GEOCODMU\"].apply(lambda x: x[:6])"
   ]
  },
  {
   "cell_type": "code",
   "execution_count": 16,
   "id": "2fa138c4",
   "metadata": {},
   "outputs": [],
   "source": [
    "coord[\"CD_GEOCODMU\"] = pd.to_numeric(coord[\"CD_GEOCODMU\"], errors = \"coerce\")"
   ]
  },
  {
   "cell_type": "markdown",
   "id": "749578ae",
   "metadata": {},
   "source": [
    "A continuación importamos los datos con información meteorológica. Estos datos fueron extraidos desde el sitio web de la NASA. Consideramos que el procesimidiento de extracción escapa a los objetivos de este trabajo y por lo tanto no lo incluimos."
   ]
  },
  {
   "cell_type": "code",
   "execution_count": 17,
   "id": "5179251c",
   "metadata": {},
   "outputs": [],
   "source": [
    "data_meteo = pd.read_csv(\"data_meteo.csv\")"
   ]
  },
  {
   "cell_type": "markdown",
   "id": "f9d89b54",
   "metadata": {},
   "source": [
    "Antes de utilizar este dataset, definimos la fecha como índice para que performe mejor el algoritmo que utilizaremos luego"
   ]
  },
  {
   "cell_type": "code",
   "execution_count": 18,
   "id": "6482c14b",
   "metadata": {},
   "outputs": [
    {
     "data": {
      "text/html": [
       "<div>\n",
       "<style scoped>\n",
       "    .dataframe tbody tr th:only-of-type {\n",
       "        vertical-align: middle;\n",
       "    }\n",
       "\n",
       "    .dataframe tbody tr th {\n",
       "        vertical-align: top;\n",
       "    }\n",
       "\n",
       "    .dataframe thead th {\n",
       "        text-align: right;\n",
       "    }\n",
       "</style>\n",
       "<table border=\"1\" class=\"dataframe\">\n",
       "  <thead>\n",
       "    <tr style=\"text-align: right;\">\n",
       "      <th></th>\n",
       "      <th>Unnamed: 0</th>\n",
       "      <th>PRECTOTCORR</th>\n",
       "      <th>T2M_RANGE</th>\n",
       "      <th>T2M_MAX</th>\n",
       "      <th>T2M_MIN</th>\n",
       "      <th>ID_MUNICIP</th>\n",
       "    </tr>\n",
       "  </thead>\n",
       "  <tbody>\n",
       "    <tr>\n",
       "      <th>0</th>\n",
       "      <td>20121120</td>\n",
       "      <td>1.63</td>\n",
       "      <td>8.83</td>\n",
       "      <td>31.01</td>\n",
       "      <td>22.18</td>\n",
       "      <td>110001</td>\n",
       "    </tr>\n",
       "    <tr>\n",
       "      <th>1</th>\n",
       "      <td>20121121</td>\n",
       "      <td>7.75</td>\n",
       "      <td>8.92</td>\n",
       "      <td>30.98</td>\n",
       "      <td>22.06</td>\n",
       "      <td>110001</td>\n",
       "    </tr>\n",
       "    <tr>\n",
       "      <th>2</th>\n",
       "      <td>20121122</td>\n",
       "      <td>15.04</td>\n",
       "      <td>9.23</td>\n",
       "      <td>31.13</td>\n",
       "      <td>21.90</td>\n",
       "      <td>110001</td>\n",
       "    </tr>\n",
       "    <tr>\n",
       "      <th>3</th>\n",
       "      <td>20121123</td>\n",
       "      <td>5.65</td>\n",
       "      <td>5.41</td>\n",
       "      <td>29.12</td>\n",
       "      <td>23.72</td>\n",
       "      <td>110001</td>\n",
       "    </tr>\n",
       "    <tr>\n",
       "      <th>4</th>\n",
       "      <td>20121124</td>\n",
       "      <td>13.30</td>\n",
       "      <td>6.65</td>\n",
       "      <td>29.71</td>\n",
       "      <td>23.06</td>\n",
       "      <td>110001</td>\n",
       "    </tr>\n",
       "    <tr>\n",
       "      <th>...</th>\n",
       "      <td>...</td>\n",
       "      <td>...</td>\n",
       "      <td>...</td>\n",
       "      <td>...</td>\n",
       "      <td>...</td>\n",
       "      <td>...</td>\n",
       "    </tr>\n",
       "    <tr>\n",
       "      <th>16672735</th>\n",
       "      <td>20210128</td>\n",
       "      <td>0.05</td>\n",
       "      <td>13.36</td>\n",
       "      <td>31.25</td>\n",
       "      <td>17.89</td>\n",
       "      <td>530010</td>\n",
       "    </tr>\n",
       "    <tr>\n",
       "      <th>16672736</th>\n",
       "      <td>20210129</td>\n",
       "      <td>0.00</td>\n",
       "      <td>15.20</td>\n",
       "      <td>32.56</td>\n",
       "      <td>17.37</td>\n",
       "      <td>530010</td>\n",
       "    </tr>\n",
       "    <tr>\n",
       "      <th>16672737</th>\n",
       "      <td>20210130</td>\n",
       "      <td>0.48</td>\n",
       "      <td>13.08</td>\n",
       "      <td>33.33</td>\n",
       "      <td>20.25</td>\n",
       "      <td>530010</td>\n",
       "    </tr>\n",
       "    <tr>\n",
       "      <th>16672738</th>\n",
       "      <td>20210131</td>\n",
       "      <td>0.83</td>\n",
       "      <td>12.40</td>\n",
       "      <td>33.35</td>\n",
       "      <td>20.95</td>\n",
       "      <td>530010</td>\n",
       "    </tr>\n",
       "    <tr>\n",
       "      <th>16672739</th>\n",
       "      <td>20210201</td>\n",
       "      <td>1.77</td>\n",
       "      <td>11.81</td>\n",
       "      <td>32.70</td>\n",
       "      <td>20.89</td>\n",
       "      <td>530010</td>\n",
       "    </tr>\n",
       "  </tbody>\n",
       "</table>\n",
       "<p>16672740 rows × 6 columns</p>\n",
       "</div>"
      ],
      "text/plain": [
       "          Unnamed: 0  PRECTOTCORR  T2M_RANGE  T2M_MAX  T2M_MIN  ID_MUNICIP\n",
       "0           20121120         1.63       8.83    31.01    22.18      110001\n",
       "1           20121121         7.75       8.92    30.98    22.06      110001\n",
       "2           20121122        15.04       9.23    31.13    21.90      110001\n",
       "3           20121123         5.65       5.41    29.12    23.72      110001\n",
       "4           20121124        13.30       6.65    29.71    23.06      110001\n",
       "...              ...          ...        ...      ...      ...         ...\n",
       "16672735    20210128         0.05      13.36    31.25    17.89      530010\n",
       "16672736    20210129         0.00      15.20    32.56    17.37      530010\n",
       "16672737    20210130         0.48      13.08    33.33    20.25      530010\n",
       "16672738    20210131         0.83      12.40    33.35    20.95      530010\n",
       "16672739    20210201         1.77      11.81    32.70    20.89      530010\n",
       "\n",
       "[16672740 rows x 6 columns]"
      ]
     },
     "execution_count": 18,
     "metadata": {},
     "output_type": "execute_result"
    }
   ],
   "source": [
    "data_meteo"
   ]
  },
  {
   "cell_type": "code",
   "execution_count": 19,
   "id": "497fd628",
   "metadata": {},
   "outputs": [],
   "source": [
    "data_meteo.rename(columns = {\"Unnamed: 0\":\"fecha\"}, inplace = True)"
   ]
  },
  {
   "cell_type": "code",
   "execution_count": 20,
   "id": "e15b4888",
   "metadata": {},
   "outputs": [],
   "source": [
    "data_meteo[\"fecha\"] = pd.to_datetime(data_meteo[\"fecha\"], format=\"%Y%m%d\")"
   ]
  },
  {
   "cell_type": "code",
   "execution_count": 21,
   "id": "0b464815",
   "metadata": {},
   "outputs": [],
   "source": [
    "data_meteo.index = data_meteo.fecha"
   ]
  },
  {
   "cell_type": "code",
   "execution_count": 22,
   "id": "8a90dc01",
   "metadata": {},
   "outputs": [],
   "source": [
    "data_meteo.drop(columns = \"fecha\", inplace = True)"
   ]
  },
  {
   "cell_type": "markdown",
   "id": "d913e6db",
   "metadata": {},
   "source": [
    "Hacemos un rolling para cada dato (temperatura mínima, máxima y precipitaciones), buscando para cada caso la mínima, máxima, y la suma respectivamente del día 12 al día 2 anterior a la presentación de síntomas. Este valor engloba aproximadamente el ciclo del mosquito, desde que se pone el huevo hasta que esta en capacidad de picar a una persona.\n",
    "\n",
    "Fuente: https://www.cdc.gov/dengue/resources/pdfs_edu_trng/vectorcontrol/09_204420crodriguezdenguevcspanish4c508.pdf"
   ]
  },
  {
   "cell_type": "code",
   "execution_count": 23,
   "id": "9d0dc44a",
   "metadata": {},
   "outputs": [],
   "source": [
    "data_meteo_min = data_meteo.groupby(['ID_MUNICIP'])['T2M_MIN'].rolling(10).min().to_frame().shift(2).dropna()"
   ]
  },
  {
   "cell_type": "code",
   "execution_count": 24,
   "id": "3db79e61",
   "metadata": {},
   "outputs": [],
   "source": [
    "data_meteo_max = data_meteo.groupby(['ID_MUNICIP'])['T2M_MAX'].rolling(10).max().to_frame().shift(2).dropna()"
   ]
  },
  {
   "cell_type": "code",
   "execution_count": 25,
   "id": "01942ac1",
   "metadata": {},
   "outputs": [],
   "source": [
    "data_meteo_pre = data_meteo.groupby(['ID_MUNICIP'])['PRECTOTCORR'].rolling(10).sum().to_frame().shift(2).dropna()"
   ]
  },
  {
   "cell_type": "markdown",
   "id": "e1b6cbb6",
   "metadata": {},
   "source": [
    "Combinamos las series obtenidas para crear una tabla auxiliar para aplicarla posteriormente a nuestro dataset principal"
   ]
  },
  {
   "cell_type": "code",
   "execution_count": 26,
   "id": "595a75c0",
   "metadata": {},
   "outputs": [],
   "source": [
    "data_meteo_transf = pd.merge(pd.merge(data_meteo_min, data_meteo_max, left_index = True, right_index = True), \n",
    "                             data_meteo_pre, left_index = True, right_index = True)"
   ]
  },
  {
   "cell_type": "code",
   "execution_count": 27,
   "id": "14095a30",
   "metadata": {},
   "outputs": [
    {
     "data": {
      "text/html": [
       "<div>\n",
       "<style scoped>\n",
       "    .dataframe tbody tr th:only-of-type {\n",
       "        vertical-align: middle;\n",
       "    }\n",
       "\n",
       "    .dataframe tbody tr th {\n",
       "        vertical-align: top;\n",
       "    }\n",
       "\n",
       "    .dataframe thead th {\n",
       "        text-align: right;\n",
       "    }\n",
       "</style>\n",
       "<table border=\"1\" class=\"dataframe\">\n",
       "  <thead>\n",
       "    <tr style=\"text-align: right;\">\n",
       "      <th></th>\n",
       "      <th></th>\n",
       "      <th>T2M_MIN</th>\n",
       "      <th>T2M_MAX</th>\n",
       "      <th>PRECTOTCORR</th>\n",
       "    </tr>\n",
       "    <tr>\n",
       "      <th>ID_MUNICIP</th>\n",
       "      <th>fecha</th>\n",
       "      <th></th>\n",
       "      <th></th>\n",
       "      <th></th>\n",
       "    </tr>\n",
       "  </thead>\n",
       "  <tbody>\n",
       "    <tr>\n",
       "      <th rowspan=\"5\" valign=\"top\">110001</th>\n",
       "      <th>2012-12-01</th>\n",
       "      <td>21.90</td>\n",
       "      <td>32.16</td>\n",
       "      <td>60.63</td>\n",
       "    </tr>\n",
       "    <tr>\n",
       "      <th>2012-12-02</th>\n",
       "      <td>21.90</td>\n",
       "      <td>32.16</td>\n",
       "      <td>59.34</td>\n",
       "    </tr>\n",
       "    <tr>\n",
       "      <th>2012-12-03</th>\n",
       "      <td>21.90</td>\n",
       "      <td>32.16</td>\n",
       "      <td>64.89</td>\n",
       "    </tr>\n",
       "    <tr>\n",
       "      <th>2012-12-04</th>\n",
       "      <td>22.32</td>\n",
       "      <td>32.16</td>\n",
       "      <td>53.32</td>\n",
       "    </tr>\n",
       "    <tr>\n",
       "      <th>2012-12-05</th>\n",
       "      <td>22.32</td>\n",
       "      <td>32.16</td>\n",
       "      <td>76.99</td>\n",
       "    </tr>\n",
       "    <tr>\n",
       "      <th>...</th>\n",
       "      <th>...</th>\n",
       "      <td>...</td>\n",
       "      <td>...</td>\n",
       "      <td>...</td>\n",
       "    </tr>\n",
       "    <tr>\n",
       "      <th rowspan=\"5\" valign=\"top\">530010</th>\n",
       "      <th>2021-01-28</th>\n",
       "      <td>15.55</td>\n",
       "      <td>32.02</td>\n",
       "      <td>21.74</td>\n",
       "    </tr>\n",
       "    <tr>\n",
       "      <th>2021-01-29</th>\n",
       "      <td>15.55</td>\n",
       "      <td>32.02</td>\n",
       "      <td>21.50</td>\n",
       "    </tr>\n",
       "    <tr>\n",
       "      <th>2021-01-30</th>\n",
       "      <td>15.55</td>\n",
       "      <td>32.02</td>\n",
       "      <td>18.11</td>\n",
       "    </tr>\n",
       "    <tr>\n",
       "      <th>2021-01-31</th>\n",
       "      <td>15.55</td>\n",
       "      <td>32.56</td>\n",
       "      <td>17.30</td>\n",
       "    </tr>\n",
       "    <tr>\n",
       "      <th>2021-02-01</th>\n",
       "      <td>16.22</td>\n",
       "      <td>33.33</td>\n",
       "      <td>17.71</td>\n",
       "    </tr>\n",
       "  </tbody>\n",
       "</table>\n",
       "<p>16622653 rows × 3 columns</p>\n",
       "</div>"
      ],
      "text/plain": [
       "                       T2M_MIN  T2M_MAX  PRECTOTCORR\n",
       "ID_MUNICIP fecha                                    \n",
       "110001     2012-12-01    21.90    32.16        60.63\n",
       "           2012-12-02    21.90    32.16        59.34\n",
       "           2012-12-03    21.90    32.16        64.89\n",
       "           2012-12-04    22.32    32.16        53.32\n",
       "           2012-12-05    22.32    32.16        76.99\n",
       "...                        ...      ...          ...\n",
       "530010     2021-01-28    15.55    32.02        21.74\n",
       "           2021-01-29    15.55    32.02        21.50\n",
       "           2021-01-30    15.55    32.02        18.11\n",
       "           2021-01-31    15.55    32.56        17.30\n",
       "           2021-02-01    16.22    33.33        17.71\n",
       "\n",
       "[16622653 rows x 3 columns]"
      ]
     },
     "execution_count": 27,
     "metadata": {},
     "output_type": "execute_result"
    }
   ],
   "source": [
    "data_meteo_transf"
   ]
  },
  {
   "cell_type": "code",
   "execution_count": 28,
   "id": "76349396",
   "metadata": {},
   "outputs": [],
   "source": [
    "data.sort_values(by=[\"ID_MUNICIP\", \"ID_MUNICIP\"], inplace = True)"
   ]
  },
  {
   "cell_type": "code",
   "execution_count": 29,
   "id": "a4563af8",
   "metadata": {},
   "outputs": [],
   "source": [
    "data[\"ID_MUNICIP\"] = data[\"ID_MUNICIP\"].astype(float)"
   ]
  },
  {
   "cell_type": "markdown",
   "id": "f04b1e58",
   "metadata": {},
   "source": [
    "Hacemos un \"left join\" y traemos para cada observación de nuestro dataset principal los datos meteorológicos de los días anteriores"
   ]
  },
  {
   "cell_type": "code",
   "execution_count": 30,
   "id": "cd6e4095",
   "metadata": {},
   "outputs": [],
   "source": [
    "data = pd.merge(data, data_meteo_transf, how = \"left\", left_on = [\"ID_MUNICIP\", \"DT_SIN_PRI\"], right_index = True)"
   ]
  },
  {
   "cell_type": "code",
   "execution_count": 31,
   "id": "19bf78f9",
   "metadata": {},
   "outputs": [],
   "source": [
    "data.dropna(inplace=True)"
   ]
  },
  {
   "cell_type": "markdown",
   "id": "a2cece57",
   "metadata": {},
   "source": [
    "Agregamos la feature de altitud."
   ]
  },
  {
   "cell_type": "code",
   "execution_count": 32,
   "id": "3b376a90",
   "metadata": {},
   "outputs": [],
   "source": [
    "data = pd.merge(data, \n",
    "         coord.groupby(by = \"CD_GEOCODMU\")[\"ALT\"].mean(),\n",
    "         how = \"left\",\n",
    "        left_on = \"ID_MUNICIP\",\n",
    "        right_on = \"CD_GEOCODMU\")"
   ]
  },
  {
   "cell_type": "code",
   "execution_count": 33,
   "id": "288a557b",
   "metadata": {},
   "outputs": [],
   "source": [
    "# Convertimos las variables target a 0/1\n",
    "data[\"CLASSI_FIN\"].replace({\"Discarded/Inconclusive\":0, \"Dengue\":1}, inplace = True)"
   ]
  },
  {
   "cell_type": "code",
   "execution_count": 34,
   "id": "fafb5987",
   "metadata": {},
   "outputs": [],
   "source": [
    "data[\"CLASSI_FIN\"] = pd.factorize(data[\"CLASSI_FIN\"])[0]"
   ]
  },
  {
   "cell_type": "markdown",
   "id": "02b86379",
   "metadata": {},
   "source": [
    "### Incorporación los valores de densidad poblacional"
   ]
  },
  {
   "cell_type": "code",
   "execution_count": 37,
   "id": "6612ae60",
   "metadata": {},
   "outputs": [],
   "source": [
    "data_mun = pd.read_csv('Lista_Municípios_com_IBGE_Brasil_Versao_CSV.csv',low_memory=False,encoding='latin-1',sep=';')\n",
    "data_pop = pd.read_csv('tabela_Dens.csv',low_memory=False,encoding='latin-1',header=None)\n",
    "data_pop.columns=['IBGE7','Municipio','Densidad_Poblacional']\n",
    "\n",
    "ibge7_ibge=dict(zip(data_mun.IBGE7,data_mun.IBGE))\n",
    "data_pop['IBGE']=data_pop.IBGE7.map(ibge7_ibge)\n",
    "\n",
    "ibge_densidad=dict(zip(data_pop.IBGE,data_pop.Densidad_Poblacional))\n",
    "data['Densidad_Mun']=data.ID_MUNICIP.map(ibge_densidad)"
   ]
  },
  {
   "cell_type": "code",
   "execution_count": 38,
   "id": "dade49b1",
   "metadata": {},
   "outputs": [],
   "source": [
    "data['Densidad_Mun']=data.ID_MUNICIP.map(ibge_densidad)"
   ]
  },
  {
   "cell_type": "markdown",
   "id": "50441ba5",
   "metadata": {},
   "source": [
    "_Feature_ mes del año."
   ]
  },
  {
   "cell_type": "code",
   "execution_count": 40,
   "id": "9955281a",
   "metadata": {},
   "outputs": [
    {
     "data": {
      "text/plain": [
       "4     639080\n",
       "3     620044\n",
       "5     533939\n",
       "2     459297\n",
       "1     255077\n",
       "6     233853\n",
       "7     112158\n",
       "12     93106\n",
       "8      69420\n",
       "11     69131\n",
       "10     57178\n",
       "9      55015\n",
       "Name: MES_NOT, dtype: int64"
      ]
     },
     "execution_count": 40,
     "metadata": {},
     "output_type": "execute_result"
    }
   ],
   "source": [
    "# Creamos la columna MES_NOT, con el mes en que empezaran los sintomas\n",
    "data['MES_NOT'] = pd.DatetimeIndex(data['DT_SIN_PRI']).month\n",
    "data['MES_NOT'].value_counts(dropna=False)"
   ]
  },
  {
   "cell_type": "code",
   "execution_count": 41,
   "id": "db26d28b",
   "metadata": {},
   "outputs": [],
   "source": [
    "data['MES_NOT']=data['MES_NOT'].replace({1:'enero',\n",
    "                                     2:'febrero',\n",
    "                                     3:'marzo',\n",
    "                                     4:'abril',\n",
    "                                     5:'mayo',\n",
    "                                     6:'junio',\n",
    "                                     7:'julio',\n",
    "                                     8: 'agosto',\n",
    "                                     9: 'septiembre',\n",
    "                                     10: 'octubre',\n",
    "                                     11: 'noviembre',\n",
    "                                     12: 'diciembre'}).astype(\"category\")"
   ]
  },
  {
   "cell_type": "code",
   "execution_count": 42,
   "id": "dcf0b573",
   "metadata": {},
   "outputs": [],
   "source": [
    "lista_bool = ['FEBRE', 'MIALGIA', 'CEFALEIA', 'EXANTEMA', 'VOMITO', 'NAUSEA', 'DOR_COSTAS', 'CONJUNTVIT',\n",
    "              'ARTRITE', 'ARTRALGIA', 'PETEQUIA_N', 'LEUCOPENIA', 'LACO', 'DOR_RETRO']\n",
    "for i in lista_bool:\n",
    "    data[i].replace(2,0, inplace = True)"
   ]
  },
  {
   "cell_type": "code",
   "execution_count": 43,
   "id": "e3206907",
   "metadata": {},
   "outputs": [],
   "source": [
    "for i in lista_bool:\n",
    "    data[i] = data[i].astype(\"category\")"
   ]
  },
  {
   "cell_type": "code",
   "execution_count": 44,
   "id": "acaa7b0f",
   "metadata": {},
   "outputs": [
    {
     "name": "stdout",
     "output_type": "stream",
     "text": [
      "<class 'pandas.core.frame.DataFrame'>\n",
      "Int64Index: 3197298 entries, 0 to 3197297\n",
      "Data columns (total 24 columns):\n",
      " #   Column        Dtype         \n",
      "---  ------        -----         \n",
      " 0   ID_MUNICIP    float64       \n",
      " 1   DT_SIN_PRI    datetime64[ns]\n",
      " 2   DT_NOTIFIC    datetime64[ns]\n",
      " 3   FEBRE         category      \n",
      " 4   MIALGIA       category      \n",
      " 5   CEFALEIA      category      \n",
      " 6   EXANTEMA      category      \n",
      " 7   VOMITO        category      \n",
      " 8   CLASSI_FIN    int64         \n",
      " 9   NAUSEA        category      \n",
      " 10  DOR_COSTAS    category      \n",
      " 11  CONJUNTVIT    category      \n",
      " 12  ARTRITE       category      \n",
      " 13  ARTRALGIA     category      \n",
      " 14  PETEQUIA_N    category      \n",
      " 15  LEUCOPENIA    category      \n",
      " 16  LACO          category      \n",
      " 17  DOR_RETRO     category      \n",
      " 18  T2M_MIN       float64       \n",
      " 19  T2M_MAX       float64       \n",
      " 20  PRECTOTCORR   float64       \n",
      " 21  ALT           float64       \n",
      " 22  Densidad_Mun  float64       \n",
      " 23  MES_NOT       category      \n",
      "dtypes: category(15), datetime64[ns](2), float64(6), int64(1)\n",
      "memory usage: 289.7 MB\n"
     ]
    }
   ],
   "source": [
    "data.info()"
   ]
  },
  {
   "cell_type": "code",
   "execution_count": 45,
   "id": "3662fd01",
   "metadata": {},
   "outputs": [],
   "source": [
    "data.sort_values(by = \"DT_SIN_PRI\", inplace = True)"
   ]
  },
  {
   "cell_type": "markdown",
   "id": "208ed4ac",
   "metadata": {},
   "source": [
    "# Modelado.\n",
    "\n",
    "Como los nuevos datos tienen componentes cronológicos, nos basamos mucho en las fechas de los síntomas, necesitamos cambiar la manera de divivir el train/test. Para ello reordenaremos los datos de manera cronológica y haremos el split sin \"shuffle\"."
   ]
  },
  {
   "cell_type": "code",
   "execution_count": 46,
   "id": "2963b9bc",
   "metadata": {},
   "outputs": [],
   "source": [
    "X = data.drop(columns = [\"CLASSI_FIN\"])\n",
    "y = data[\"CLASSI_FIN\"]"
   ]
  },
  {
   "cell_type": "code",
   "execution_count": 47,
   "id": "b825a37a",
   "metadata": {},
   "outputs": [],
   "source": [
    "X_train, X_test, y_train, y_test = train_test_split(X,y,test_size=0.25,random_state=55,\n",
    "                                                    shuffle = False # tenemos componentes temporales\n",
    "                                                    )"
   ]
  },
  {
   "cell_type": "code",
   "execution_count": 48,
   "id": "3f5d166f",
   "metadata": {},
   "outputs": [
    {
     "data": {
      "text/plain": [
       "1    0.662003\n",
       "0    0.337997\n",
       "Name: CLASSI_FIN, dtype: float64"
      ]
     },
     "execution_count": 48,
     "metadata": {},
     "output_type": "execute_result"
    }
   ],
   "source": [
    "y_train.value_counts(normalize = True)"
   ]
  },
  {
   "cell_type": "code",
   "execution_count": 49,
   "id": "75ca5ff7",
   "metadata": {},
   "outputs": [
    {
     "data": {
      "text/plain": [
       "1    0.646562\n",
       "0    0.353438\n",
       "Name: CLASSI_FIN, dtype: float64"
      ]
     },
     "execution_count": 49,
     "metadata": {},
     "output_type": "execute_result"
    }
   ],
   "source": [
    "y_test.value_counts(normalize = True)"
   ]
  },
  {
   "cell_type": "markdown",
   "id": "1026a422",
   "metadata": {},
   "source": [
    "Tenemos nuevamente un dataset desbalanceado por lo que más adelante haremos un undersampling sobre el train.\n",
    "Dejamos el dataset de test desbalanceado para que sea mas próximo a los datos reales"
   ]
  },
  {
   "cell_type": "code",
   "execution_count": 50,
   "id": "db13ede6",
   "metadata": {},
   "outputs": [
    {
     "data": {
      "text/plain": [
       "ID_MUNICIP      0\n",
       "DT_SIN_PRI      0\n",
       "DT_NOTIFIC      0\n",
       "FEBRE           0\n",
       "MIALGIA         0\n",
       "CEFALEIA        0\n",
       "EXANTEMA        0\n",
       "VOMITO          0\n",
       "NAUSEA          0\n",
       "DOR_COSTAS      0\n",
       "CONJUNTVIT      0\n",
       "ARTRITE         0\n",
       "ARTRALGIA       0\n",
       "PETEQUIA_N      0\n",
       "LEUCOPENIA      0\n",
       "LACO            0\n",
       "DOR_RETRO       0\n",
       "T2M_MIN         0\n",
       "T2M_MAX         0\n",
       "PRECTOTCORR     0\n",
       "ALT             0\n",
       "Densidad_Mun    0\n",
       "MES_NOT         0\n",
       "dtype: int64"
      ]
     },
     "execution_count": 50,
     "metadata": {},
     "output_type": "execute_result"
    }
   ],
   "source": [
    "X_train.isnull().sum()"
   ]
  },
  {
   "cell_type": "markdown",
   "id": "b4ba5906",
   "metadata": {},
   "source": [
    "Corroboramos que no tengamos nulos y comenzamos a armar pipelines"
   ]
  },
  {
   "cell_type": "markdown",
   "id": "96ba07a6",
   "metadata": {},
   "source": [
    "### Pipelines"
   ]
  },
  {
   "cell_type": "code",
   "execution_count": 51,
   "id": "e508fabd",
   "metadata": {},
   "outputs": [],
   "source": [
    "class ColumnSelector(BaseEstimator, TransformerMixin):\n",
    "    def __init__(self, columnas):\n",
    "        self.columnas = columnas\n",
    "        \n",
    "    def fit(self, X, y = None):\n",
    "        return self\n",
    "    \n",
    "    def transform(self, X, y = None):\n",
    "        try:\n",
    "            return X[self.columnas].copy()\n",
    "        except:\n",
    "            print(\"No funcionó a\")\n"
   ]
  },
  {
   "cell_type": "code",
   "execution_count": 52,
   "id": "46fddab2",
   "metadata": {},
   "outputs": [],
   "source": [
    "class MakeCategorical(BaseEstimator, TransformerMixin):\n",
    "    def __init__(self, columnas):\n",
    "        self.columnas = columnas\n",
    "        \n",
    "    def fit(self, X, y = None):\n",
    "        return self\n",
    "    \n",
    "    def transform(self, X, y = None):\n",
    "        try:\n",
    "            return X[self.columnas].astype(\"category\").copy()\n",
    "        except:\n",
    "            print(\"No funcionó\")"
   ]
  },
  {
   "cell_type": "code",
   "execution_count": 53,
   "id": "b090405f",
   "metadata": {},
   "outputs": [],
   "source": [
    "cat_features = ['FEBRE','MIALGIA','CEFALEIA','EXANTEMA','VOMITO','NAUSEA','DOR_COSTAS','CONJUNTVIT',\n",
    "                'ARTRITE','ARTRALGIA','PETEQUIA_N','LEUCOPENIA','LACO','DOR_RETRO','MES_NOT']"
   ]
  },
  {
   "cell_type": "code",
   "execution_count": 54,
   "id": "4510c432",
   "metadata": {},
   "outputs": [],
   "source": [
    "cat_pipe = Pipeline([\n",
    "                    (\"cat_column\", ColumnSelector(cat_features)),\n",
    "                    (\"make_cat\", MakeCategorical(cat_features)),\n",
    "                    # (\"imputer\", SimpleImputer()),\n",
    "                    (\"OHE\", OneHotEncoder()),\n",
    "                    ])"
   ]
  },
  {
   "cell_type": "code",
   "execution_count": 55,
   "id": "43c8da89",
   "metadata": {},
   "outputs": [
    {
     "data": {
      "text/plain": [
       "Pipeline(steps=[('cat_column',\n",
       "                 ColumnSelector(columnas=['FEBRE', 'MIALGIA', 'CEFALEIA',\n",
       "                                          'EXANTEMA', 'VOMITO', 'NAUSEA',\n",
       "                                          'DOR_COSTAS', 'CONJUNTVIT', 'ARTRITE',\n",
       "                                          'ARTRALGIA', 'PETEQUIA_N',\n",
       "                                          'LEUCOPENIA', 'LACO', 'DOR_RETRO',\n",
       "                                          'MES_NOT'])),\n",
       "                ('make_cat',\n",
       "                 MakeCategorical(columnas=['FEBRE', 'MIALGIA', 'CEFALEIA',\n",
       "                                           'EXANTEMA', 'VOMITO', 'NAUSEA',\n",
       "                                           'DOR_COSTAS', 'CONJUNTVIT',\n",
       "                                           'ARTRITE', 'ARTRALGIA', 'PETEQUIA_N',\n",
       "                                           'LEUCOPENIA', 'LACO', 'DOR_RETRO',\n",
       "                                           'MES_NOT'])),\n",
       "                ('OHE', OneHotEncoder(drop='first'))])"
      ]
     },
     "execution_count": 55,
     "metadata": {},
     "output_type": "execute_result"
    }
   ],
   "source": [
    "cat_pipe.set_params(\n",
    "                   # imputer__strategy = \"most_frequent\",\n",
    "                    OHE__drop = \"first\")"
   ]
  },
  {
   "cell_type": "code",
   "execution_count": 56,
   "id": "5b03d285",
   "metadata": {},
   "outputs": [],
   "source": [
    "num_features =[\"T2M_MIN\",\"T2M_MAX\",\"PRECTOTCORR\",\"ALT\",\"Densidad_Mun\"]"
   ]
  },
  {
   "cell_type": "code",
   "execution_count": 57,
   "id": "17cfd9e8",
   "metadata": {},
   "outputs": [],
   "source": [
    "num_pipe = Pipeline([\n",
    "                    (\"num_col\", ColumnSelector(num_features)),\n",
    "                    (\"scaler\", StandardScaler()),\n",
    "                    ])"
   ]
  },
  {
   "cell_type": "code",
   "execution_count": 58,
   "id": "1864cabb",
   "metadata": {},
   "outputs": [],
   "source": [
    "pipe_preprocessing = make_union(num_pipe, cat_pipe)"
   ]
  },
  {
   "cell_type": "code",
   "execution_count": 59,
   "id": "853cfbce",
   "metadata": {},
   "outputs": [],
   "source": [
    "X_train = pipe_preprocessing.fit_transform(X_train)\n",
    "X_test = pipe_preprocessing.transform(X_test)"
   ]
  },
  {
   "cell_type": "markdown",
   "id": "0494ea38",
   "metadata": {},
   "source": [
    "Creamos subdataset de validación para después hiperparametrizar."
   ]
  },
  {
   "cell_type": "code",
   "execution_count": 60,
   "id": "1e6aab78",
   "metadata": {},
   "outputs": [],
   "source": [
    "X_train_, X_valid, y_train_, y_valid = train_test_split(X_train,y_train,test_size=0.4,random_state=55,shuffle = False)"
   ]
  },
  {
   "cell_type": "code",
   "execution_count": 61,
   "id": "77309f31",
   "metadata": {},
   "outputs": [],
   "source": [
    "undersampler=RandomUnderSampler(sampling_strategy='majority')\n",
    "\n",
    "X_train_, y_train_ = undersampler.fit_resample(X_train_, y_train_)"
   ]
  },
  {
   "cell_type": "code",
   "execution_count": 62,
   "id": "8cd79e29",
   "metadata": {},
   "outputs": [],
   "source": [
    "undersampler=RandomUnderSampler(sampling_strategy='majority')\n",
    "\n",
    "X_train, y_train = undersampler.fit_resample(X_train,y_train)"
   ]
  },
  {
   "cell_type": "markdown",
   "id": "3a31ade9",
   "metadata": {},
   "source": [
    "## Modelando"
   ]
  },
  {
   "cell_type": "markdown",
   "id": "35f65d56",
   "metadata": {},
   "source": [
    "Vamos a iniciar con los modelos que sabemos que en general performan mejor. Comenzamos con XGBoost debido a que además se brindar buena performance, es un modelo que \"fitea\" considerablemente rápido."
   ]
  },
  {
   "cell_type": "code",
   "execution_count": 202,
   "id": "ee3b7aa3",
   "metadata": {},
   "outputs": [
    {
     "data": {
      "text/plain": [
       "XGBClassifier(base_score=0.5, booster='gbtree', colsample_bylevel=1,\n",
       "              colsample_bynode=1, colsample_bytree=1, eval_metric='logloss',\n",
       "              gamma=0, gpu_id=-1, importance_type='gain',\n",
       "              interaction_constraints='', learning_rate=0.300000012,\n",
       "              max_delta_step=0, max_depth=6, min_child_weight=1, missing=nan,\n",
       "              monotone_constraints='()', n_estimators=100, n_jobs=-1,\n",
       "              num_parallel_tree=1, random_state=0, reg_alpha=0, reg_lambda=1,\n",
       "              scale_pos_weight=1, subsample=1, tree_method='exact',\n",
       "              use_label_encoder=False, validate_parameters=1, verbosity=None)"
      ]
     },
     "execution_count": 202,
     "metadata": {},
     "output_type": "execute_result"
    }
   ],
   "source": [
    "XB_cls = XGBClassifier( n_jobs = -1,use_label_encoder = False,eval_metric='logloss')\n",
    "XB_cls.fit(X_train,y_train)"
   ]
  },
  {
   "cell_type": "code",
   "execution_count": 184,
   "id": "a8ca67e5",
   "metadata": {},
   "outputs": [
    {
     "data": {
      "image/png": "[encoded data removed]",
      "text/plain": [
       "<Figure size 432x288 with 1 Axes>"
      ]
     },
     "metadata": {
      "needs_background": "light"
     },
     "output_type": "display_data"
    },
    {
     "name": "stdout",
     "output_type": "stream",
     "text": [
      "AUC= 0.7553772848455633\n"
     ]
    }
   ],
   "source": [
    "y_pred_proba = XB_cls.predict_proba(X_test)\n",
    "fpr_log,tpr_log,thr_log = roc_curve(y_test, y_pred_proba[:,1], pos_label = 1)\n",
    "df_roc_logreg = pd.DataFrame(dict(fpr=fpr_log, tpr=tpr_log, thr = thr_log))\n",
    "\n",
    "plt.axis([0, 1.01, 0, 1.01])\n",
    "plt.xlabel('1 - Specificty')\n",
    "plt.ylabel('TPR / Sensitivity')\n",
    "plt.title('XG Boost')\n",
    "plt.plot(df_roc_logreg['fpr'],df_roc_logreg['tpr'])\n",
    "plt.plot(np.arange(0,1, step =0.01), np.arange(0,1, step =0.01))\n",
    "\n",
    "plt.show()\n",
    "print('AUC=', auc(fpr_log, tpr_log))"
   ]
  },
  {
   "cell_type": "code",
   "execution_count": 185,
   "id": "8606bd18",
   "metadata": {},
   "outputs": [
    {
     "name": "stdout",
     "output_type": "stream",
     "text": [
      "              precision    recall  f1-score   support\n",
      "\n",
      "           0       0.48      0.81      0.60    282512\n",
      "           1       0.83      0.52      0.64    516813\n",
      "\n",
      "    accuracy                           0.62    799325\n",
      "   macro avg       0.66      0.66      0.62    799325\n",
      "weighted avg       0.71      0.62      0.63    799325\n",
      "\n"
     ]
    }
   ],
   "source": [
    "print(classification_report(y_test, XB_cls.predict(X_test)))"
   ]
  },
  {
   "cell_type": "markdown",
   "id": "00efd1eb",
   "metadata": {},
   "source": [
    "Observamos que el modelo proporcionó valores bien distintos a lo que teníamos antes, principalmente por el hecho que el dataset está ahora desbalanceado. "
   ]
  },
  {
   "cell_type": "markdown",
   "id": "64e6f80a",
   "metadata": {},
   "source": [
    "### Random Forest\n"
   ]
  },
  {
   "cell_type": "code",
   "execution_count": 194,
   "id": "69eb79c9",
   "metadata": {},
   "outputs": [
    {
     "data": {
      "text/plain": [
       "RandomForestClassifier(max_depth=9, n_estimators=200, n_jobs=-1)"
      ]
     },
     "execution_count": 194,
     "metadata": {},
     "output_type": "execute_result"
    }
   ],
   "source": [
    "# Random Forest con los mejores parámetros\n",
    "rf = RandomForestClassifier(n_estimators=200,n_jobs=-1,max_depth=9)\n",
    "rf.fit(X_train,y_train)"
   ]
  },
  {
   "cell_type": "code",
   "execution_count": 195,
   "id": "8a83eaca",
   "metadata": {},
   "outputs": [
    {
     "data": {
      "image/png": "[encoded data removed]",
      "text/plain": [
       "<Figure size 432x288 with 1 Axes>"
      ]
     },
     "metadata": {
      "needs_background": "light"
     },
     "output_type": "display_data"
    },
    {
     "name": "stdout",
     "output_type": "stream",
     "text": [
      "AUC= 0.7103625429114392\n"
     ]
    }
   ],
   "source": [
    "y_pred_proba = rf.predict_proba(X_test)\n",
    "fpr_log,tpr_log,thr_log = roc_curve(y_test, y_pred_proba[:,1], pos_label = 1)\n",
    "df_roc_logreg = pd.DataFrame(dict(fpr=fpr_log, tpr=tpr_log, thr = thr_log))\n",
    "\n",
    "plt.axis([0, 1.01, 0, 1.01])\n",
    "plt.xlabel('1 - Specificty')\n",
    "plt.ylabel('TPR / Sensitivity')\n",
    "plt.title('Random Forest')\n",
    "plt.plot(df_roc_logreg['fpr'],df_roc_logreg['tpr'])\n",
    "plt.plot(np.arange(0,1, step =0.01), np.arange(0,1, step =0.01))\n",
    "\n",
    "plt.show()\n",
    "print('AUC=', auc(fpr_log, tpr_log))"
   ]
  },
  {
   "cell_type": "code",
   "execution_count": 196,
   "id": "f4a3513f",
   "metadata": {},
   "outputs": [
    {
     "name": "stdout",
     "output_type": "stream",
     "text": [
      "              precision    recall  f1-score   support\n",
      "\n",
      "           0       0.49      0.69      0.57    282512\n",
      "           1       0.78      0.61      0.69    516813\n",
      "\n",
      "    accuracy                           0.64    799325\n",
      "   macro avg       0.64      0.65      0.63    799325\n",
      "weighted avg       0.68      0.64      0.65    799325\n",
      "\n"
     ]
    }
   ],
   "source": [
    "print(classification_report(y_test, rf.predict(X_test)))"
   ]
  },
  {
   "cell_type": "markdown",
   "id": "408d56a8",
   "metadata": {},
   "source": [
    "Finalmente obtenemos los resultados mostrados arriba. Vemos que _Random Tree_ pero no alcanza al rendimiento de XG Boost."
   ]
  },
  {
   "cell_type": "markdown",
   "id": "edcb6d9c",
   "metadata": {},
   "source": [
    "Cabe destacar que por curiosidad probamos también modelos de redes neuronales (en concreto MLPClassifier de la librería sklearn.neural_network) para saber si quizás podríamos ganar algunos puntos en la performances de los modelos, pero los resultados fueron siempre inferiores a los obtenidos con los modelos de random forest y XGBoost. Por este motivo optamos por no incluir el análisis de los mismos en este informe ya que tampoco forma parte del scope del curso."
   ]
  },
  {
   "cell_type": "markdown",
   "id": "e5510d5d",
   "metadata": {},
   "source": [
    "### Hiperparametrización XGboost"
   ]
  },
  {
   "cell_type": "code",
   "execution_count": 211,
   "id": "46a12de3",
   "metadata": {},
   "outputs": [],
   "source": [
    "def objective(trial):\n",
    "    \n",
    "    booster = trial.suggest_categorical(\"booster\", [\"gbtree\", \n",
    "                                            \"dart\",\n",
    "                                           ])\n",
    "    reg_lambda = trial.suggest_float(\"lambda\", 1e-8, 1.0, log=True)\n",
    "    alpha = trial.suggest_float(\"alpha\", 1e-8, 1.0, log=True)\n",
    "    subsample =  trial.suggest_float(\"subsample\", 0.2, 1.0)\n",
    "    colsample_bytree = trial.suggest_float(\"colsample_bytree\", 0.2, 1.0)\n",
    "    max_depth = trial.suggest_int(\"max_depth\", 4, 12, step=2)\n",
    "    min_child_weight = trial.suggest_int(\"min_child_weight\", 1, 10)\n",
    "    eta = trial.suggest_float(\"eta\", 1e-8, 1.0, log=True)\n",
    "    gamma = trial.suggest_float(\"gamma\", 1e-8, 1.0, log=True)\n",
    "    grow_policy = trial.suggest_categorical(\"grow_policy\", [\"depthwise\", \"lossguide\"])\n",
    "\n",
    "\n",
    "#     if param[\"booster\"] == \"dart\":\n",
    "#         param[\"sample_type\"] = trial.suggest_categorical(\"sample_type\", [\"uniform\", \"weighted\"])\n",
    "#         param[\"normalize_type\"] = trial.suggest_categorical(\"normalize_type\", [\"tree\", \"forest\"])\n",
    "#         param[\"rate_drop\"] = trial.suggest_float(\"rate_drop\", 1e-8, 1.0, log=True)\n",
    "#         param[\"skip_drop\"] = trial.suggest_float(\"skip_drop\", 1e-8, 1.0, log=True)\n",
    "\n",
    "    xgb = XGBClassifier(boster = booster,\n",
    "                       reg_lambda = reg_lambda,\n",
    "                       alpha = alpha,\n",
    "                       subsample = subsample,\n",
    "                       colsample_bytree = colsample_bytree,\n",
    "                       max_depth = max_depth,\n",
    "                       min_child_weight = min_child_weight,\n",
    "                       eta = eta,\n",
    "                       gamma = gamma,\n",
    "                       grow_policy = grow_policy,\n",
    "                       use_label_encoder=False)\n",
    "    xgb.fit(X_train_, y_train_)\n",
    "\n",
    "    y_pred = xgb.predict_proba(X_valid)\n",
    "    fpr_log,tpr_log,thr_log = roc_curve(y_valid, y_pred[:,1], pos_label = 1)\n",
    "\n",
    "    return auc(fpr_log, tpr_log)\n"
   ]
  },
  {
   "cell_type": "code",
   "execution_count": 98,
   "id": "02359163",
   "metadata": {},
   "outputs": [],
   "source": [
    "#if __name__ == \"__main__\":\n",
    "#    study = optuna.create_study(direction=\"maximize\")\n",
    "#    study.enqueue_trial({'boster':\"gbtree\",\n",
    "#                         'reg_lambda':1,\n",
    "#                         \"alpha\":0,\n",
    "#                         \"subsample\":1,\n",
    "#                         \"colsample_bytree\":1,\n",
    "#                         \"max_depth\":6,\n",
    "#                         \"min_child_weight\":1,\n",
    "#                         \"eta\":0.3,\n",
    "#                         \"gamma\":0,\n",
    "#                         \"grow_policy\":\"depthwise\"\n",
    "#                        })\n",
    "#    study.optimize(objective, n_trials=54, timeout=6000,\n",
    "#                   n_jobs = -1\n",
    "#                  )\n",
    "#\n",
    "#    print(\"Number of finished trials: \", len(study.trials))\n",
    "#    print(\"Best trial:\")\n",
    "#    trial = study.best_trial\n",
    "\n",
    "#    print(\"  Value: {}\".format(trial.value))\n",
    "#    print(\"  Params: \")\n",
    "#    for key, value in trial.params.items():\n",
    "#        print(\"    {}: {}\".format(key, value))"
   ]
  },
  {
   "cell_type": "code",
   "execution_count": 213,
   "id": "8361059e",
   "metadata": {},
   "outputs": [
    {
     "data": {
      "text/plain": [
       "{'booster': 'gbtree',\n",
       " 'lambda': 0.010343969414485564,\n",
       " 'alpha': 0.011257200412481148,\n",
       " 'subsample': 0.972242063333711,\n",
       " 'colsample_bytree': 0.42468674880393165,\n",
       " 'max_depth': 10,\n",
       " 'min_child_weight': 8,\n",
       " 'eta': 0.18098818005430026,\n",
       " 'gamma': 0.01284468421155994,\n",
       " 'grow_policy': 'lossguide'}"
      ]
     },
     "execution_count": 213,
     "metadata": {},
     "output_type": "execute_result"
    }
   ],
   "source": [
    "study.best_trial.params"
   ]
  },
  {
   "cell_type": "code",
   "execution_count": 63,
   "id": "ffe0e45f",
   "metadata": {},
   "outputs": [
    {
     "data": {
      "text/plain": [
       "XGBClassifier(alpha=0.011257200412481148, base_score=0.5, booster='gbtree',\n",
       "              colsample_bylevel=1, colsample_bynode=1,\n",
       "              colsample_bytree=0.42468674880393165, eta=0.18098818005430026,\n",
       "              eval_metric='logloss', gamma=0.01284468421155994, gpu_id=-1,\n",
       "              grow_policy='lossguide', importance_type='gain',\n",
       "              interaction_constraints='', learning_rate=0.180988178,\n",
       "              max_delta_step=0, max_depth=10, min_child_weight=8, missing=nan,\n",
       "              monotone_constraints='()', n_estimators=100, n_jobs=4,\n",
       "              num_parallel_tree=1, random_state=0, reg_alpha=0.0112572005,\n",
       "              reg_lambda=0.010343969414485564, scale_pos_weight=1,\n",
       "              subsample=0.972242063333711, tree_method='exact',\n",
       "              use_label_encoder=False, validate_parameters=1, ...)"
      ]
     },
     "execution_count": 63,
     "metadata": {},
     "output_type": "execute_result"
    }
   ],
   "source": [
    "XB_cls = XGBClassifier( booster= \"gbtree\",\n",
    "                        reg_lambda= 0.010343969414485564,\n",
    "                        alpha= 0.011257200412481148,\n",
    "                        subsample= 0.972242063333711,\n",
    "                        colsample_bytree= 0.42468674880393165,\n",
    "                        max_depth= 10,\n",
    "                        min_child_weight= 8,\n",
    "                        eta= 0.18098818005430026,\n",
    "                        gamma= 0.01284468421155994,\n",
    "                        grow_policy= \"lossguide\",\n",
    "                        use_label_encoder=False,\n",
    "                        eval_metric='logloss'\n",
    "                      )\n",
    "\n",
    "XB_cls.fit(X_train,y_train)"
   ]
  },
  {
   "cell_type": "code",
   "execution_count": 215,
   "id": "23e93a12",
   "metadata": {},
   "outputs": [
    {
     "data": {
      "image/png": "[encoded data removed]",
      "text/plain": [
       "<Figure size 432x288 with 1 Axes>"
      ]
     },
     "metadata": {
      "needs_background": "light"
     },
     "output_type": "display_data"
    },
    {
     "name": "stdout",
     "output_type": "stream",
     "text": [
      "AUC= 0.7569427668966431\n"
     ]
    }
   ],
   "source": [
    "y_pred_proba = XB_cls.predict_proba(X_test)\n",
    "fpr_log,tpr_log,thr_log = roc_curve(y_test, y_pred_proba[:,1], pos_label = 1)\n",
    "df_roc_logreg = pd.DataFrame(dict(fpr=fpr_log, tpr=tpr_log, thr = thr_log))\n",
    "\n",
    "plt.axis([0, 1.01, 0, 1.01])\n",
    "plt.xlabel('1 - Specificty')\n",
    "plt.ylabel('TPR / Sensitivity')\n",
    "plt.title('XG Boost')\n",
    "plt.plot(df_roc_logreg['fpr'],df_roc_logreg['tpr'])\n",
    "plt.plot(np.arange(0,1, step =0.01), np.arange(0,1, step =0.01))\n",
    "\n",
    "plt.show()\n",
    "print('AUC=', auc(fpr_log, tpr_log))"
   ]
  },
  {
   "cell_type": "code",
   "execution_count": 64,
   "id": "90847095",
   "metadata": {},
   "outputs": [
    {
     "name": "stdout",
     "output_type": "stream",
     "text": [
      "              precision    recall  f1-score   support\n",
      "\n",
      "           0       0.48      0.83      0.60    282512\n",
      "           1       0.84      0.50      0.63    516813\n",
      "\n",
      "    accuracy                           0.62    799325\n",
      "   macro avg       0.66      0.66      0.62    799325\n",
      "weighted avg       0.71      0.62      0.62    799325\n",
      "\n"
     ]
    }
   ],
   "source": [
    "print(classification_report(y_test, XB_cls.predict(X_test)))"
   ]
  },
  {
   "cell_type": "code",
   "execution_count": 68,
   "id": "84c4e4bb",
   "metadata": {},
   "outputs": [
    {
     "name": "stdout",
     "output_type": "stream",
     "text": [
      "              precision    recall  f1-score   support\n",
      "\n",
      "           0       0.68      0.46      0.55    282512\n",
      "           1       0.75      0.88      0.81    516813\n",
      "\n",
      "    accuracy                           0.73    799325\n",
      "   macro avg       0.71      0.67      0.68    799325\n",
      "weighted avg       0.72      0.73      0.72    799325\n",
      "\n"
     ]
    }
   ],
   "source": [
    "print(classification_report(y_test, XB_cls.predict_proba(X_test)[:,1]>.215))"
   ]
  },
  {
   "cell_type": "markdown",
   "id": "fbc79e23-f06d-4e18-b89d-c468f3a1c031",
   "metadata": {},
   "source": [
    "Manipulando el umbral, vamos que podemos recuperar la precisión de 88% en el _recall_ de casos positivos, mientras el _recall_ de los casos negativos todavía es bajo, 46%, pero 3% mejor que lo que teníamos antes. Por lo tanto, vemos una pequeña mejora agregando las informaciones de altitud y temperatura.\n",
    "\n",
    "Miremos la importáncia de las features."
   ]
  },
  {
   "cell_type": "code",
   "execution_count": 228,
   "id": "8b78a77d",
   "metadata": {},
   "outputs": [],
   "source": [
    "shap_X_test = pd.get_dummies(pd.DataFrame(X_test.todense()), drop_first = True)"
   ]
  },
  {
   "cell_type": "code",
   "execution_count": 229,
   "id": "f131b784",
   "metadata": {},
   "outputs": [
    {
     "data": {
      "text/plain": [
       "(799325, 30)"
      ]
     },
     "execution_count": 229,
     "metadata": {},
     "output_type": "execute_result"
    }
   ],
   "source": [
    "shap_X_test.shape"
   ]
  },
  {
   "cell_type": "code",
   "execution_count": 237,
   "id": "a576a434",
   "metadata": {},
   "outputs": [],
   "source": [
    "for i in range(5,30):\n",
    "          shap_X_test[i] =  shap_X_test[i].astype(\"category\")"
   ]
  },
  {
   "cell_type": "code",
   "execution_count": 241,
   "id": "1045da4e",
   "metadata": {},
   "outputs": [],
   "source": [
    "features_names =['T2M_MIN','T2M_MAX','PRECTOTCORR','ALT','Densidad_Mun','FEBRE_1.0','MIALGIA_1.0','CEFALEIA_1.0',\n",
    "                 'EXANTEMA_1.0','VOMITO_1.0','NAUSEA_1.0','DOR_COSTAS_1.0','CONJUNTVIT_1.0','ARTRITE_1.0',\n",
    "                 'ARTRALGIA_1.0','PETEQUIA_N_1.0','LEUCOPENIA_1.0','LACO_1.0','DOR_RETRO_1.0','MES_NOT_agosto',\n",
    "                 'MES_NOT_diciembre','MES_NOT_enero','MES_NOT_febrero','MES_NOT_julio','MES_NOT_junio',\n",
    "                 'MES_NOT_marzo','MES_NOT_mayo','MES_NOT_noviembre','MES_NOT_octubre','MES_NOT_septiembre']"
   ]
  },
  {
   "cell_type": "code",
   "execution_count": 242,
   "id": "d6763d5b",
   "metadata": {},
   "outputs": [],
   "source": [
    "shap_X_test.columns = features_names"
   ]
  },
  {
   "cell_type": "code",
   "execution_count": 243,
   "id": "675859a0",
   "metadata": {},
   "outputs": [
    {
     "name": "stderr",
     "output_type": "stream",
     "text": [
      "ntree_limit is deprecated, use `iteration_range` or model slicing instead.\n"
     ]
    },
    {
     "data": {
      "text/plain": [
       "6.6638393"
      ]
     },
     "execution_count": 243,
     "metadata": {},
     "output_type": "execute_result"
    }
   ],
   "source": [
    "import shap\n",
    "pred = XB_cls.predict_proba(X_test)[:,1]>.5\n",
    "explainer = shap.TreeExplainer(XB_cls)\n",
    "shap_values = explainer.shap_values(X = X_test, y = y_test.astype(\"category\"))\n",
    "np.abs(shap_values.sum(1) + explainer.expected_value - pred).max()\n"
   ]
  },
  {
   "cell_type": "code",
   "execution_count": 244,
   "id": "973968d0",
   "metadata": {},
   "outputs": [
    {
     "data": {
      "image/png": "[encoded data removed]",
      "text/plain": [
       "<Figure size 576x684 with 2 Axes>"
      ]
     },
     "metadata": {
      "needs_background": "light"
     },
     "output_type": "display_data"
    }
   ],
   "source": [
    "shap.summary_plot(shap_values, shap_X_test, features_names)"
   ]
  },
  {
   "cell_type": "code",
   "execution_count": 245,
   "id": "7cdfdead",
   "metadata": {},
   "outputs": [
    {
     "data": {
      "image/png": "[encoded data removed]",
      "text/plain": [
       "<Figure size 576x770.4 with 1 Axes>"
      ]
     },
     "metadata": {
      "needs_background": "light"
     },
     "output_type": "display_data"
    }
   ],
   "source": [
    "shap.summary_plot(shap_values, features=X_test, plot_type=\"bar\", feature_names = features_names, max_display=X.shape[1])"
   ]
  },
  {
   "cell_type": "markdown",
   "id": "ebd76e4f-734f-4ba3-909c-cfddca289fd7",
   "metadata": {},
   "source": [
    "Como se puede apreciar, las variables de densidad poblacional, altura y los síntomas más comunes son las que mas aportan a nuestro modelo.\n",
    "\n",
    "En el caso de la variable altura, en una primera instancia pensamos que quizás la especie de mosquito asociada al Dengue (Aedes aegypti) no habitaría en regiones altas. Pero realizando un poco de investigación pudimos comprobar que esta especie habita inlcusive hasta los 2200 msnm. Esta altura es considerablemente superior a la media de los monucipios observados.\n",
    "\n",
    "Fuentes:\n",
    "\n",
    "https://www.scielo.sa.cr/scielo.php?script=sci_arttext&pid=S0034-77442010000100017 https://www.minsalud.gov.co/salud/publica/PET/Paginas/dengue.aspx#:~:text=Los%20mosquitos%20del%20dengue%20se,y%20que%20puede%20almacenar%20agua.\n",
    "\n",
    "Siguen teniendo relevancia relativa los síntomas más comunes del Dengue: Fiebre, dolor retro ocular, sarpullido (exantema) y dolor de cabeza. Asimismo las temperaturas mínimas y máximos podrían justificar su aporte porque explican la cantidad de mosquitos que puede haber (a mayor temperatura, mayor reproducción de mosquitos). Idem las precipitaciones (prectotcorr) pero en menor medida.\n",
    "Síntomas poco relacionados con el dengue como conjutivitis o inflamación de articulaciones (más relacionada con chikungunya) tienen un aporte bastante inferior al resto."
   ]
  },
  {
   "cell_type": "markdown",
   "id": "a6bce647-6e39-4e87-8bf4-9ddc992d0395",
   "metadata": {},
   "source": [
    "## Exportando el modelo final\n",
    "\n",
    "Vamos usar la biblioteca pickle para exportar el modelo final."
   ]
  },
  {
   "cell_type": "code",
   "execution_count": 69,
   "id": "7ce680b6-f855-4359-83b1-7889589f1154",
   "metadata": {},
   "outputs": [],
   "source": [
    "with open('model.pkl','wb') as files:\n",
    "    pickle.dump(XB_cls,files)"
   ]
  },
  {
   "cell_type": "markdown",
   "id": "5f25c5e9",
   "metadata": {},
   "source": [
    "# Conlusión final\n",
    "\n",
    "Al iniciar este trabajo, lo hicimos con la motivación de encontrar un modelo que sea de ayuda al determinar si una persona que llega a una institución médica con la sospecha de haber contraído el virus del Dengue o Chikungunya debería continuar con estudios más específicos o si dicho diagnóstico podría ser descartado inmediatamente. Como comentábamos anteriormente esto podría ayudar a reducir en gran medida el número de testeos realizados y por lo tanto ayudar a prevenir que los centros de testeo se sobrecarguen innecesariamente.\n",
    "\n",
    "En un primer análisis pudimos observar que el objetivo no iba a ser fácil de cumplir. En primera instancia nos encontramos con la dificultad de que ambas enfermedades tienen muchos síntomas en común (además de que son síntomas comunes con otras enfermedades también), esto hace que sea difícil predecir si la enfermedad se trata potencialmente de Dengue o Chikungunya. Luego, nos encontramos con otra dificultad, en este caso una dificultad que parece ser una constante en cada trabajo que hemos realizado a lo largo del curso, y es la falta de datos o \"datos de calidad\". En este caso, a priori, parecía que disponíamos de suficientes datos para ambas enfermedades, pero al analizarlos con detenimiento notamos que para el caso de Chikungunya, los mismos no eran útiles por tener demasiados valores incompletos. Esto nos llevó a tener que desestimar parte de nuestros objetivos iniciales y enfocarnos solo en una de las enfermedades, el Dengue.\n",
    "\n",
    "Una vez determinados los nuevos objetivos de nuestro trabajo, avanzamos y llegamos a resultados \"razonables\" que posiblemente serían de ayuda para descartar algunos casos en una primera instancia, pero no consideramos que esto fuera suficiente. Realmente esperábamos obtener mejores predicciones. Fue este el motivo que nos impulsó a buscar datos \"afuera\", datos que no pertenecían al dataset original pero que sospechábamos que podrían agregar señal a nuestros modelos. Finalmente, y luego de múltiples pruebas y errores logramos dar con datos que nos ayudaron a alcanzar métricas más cercanas a las que buscábamos en un principio. Somos conscientes de que esto fue a costa de resignar simplicidad en la estructura de los datos y requerir de modelos más complejos.\n",
    "\n",
    "Nos enfocamos en mejorar la métrica _recall_, dado que la premisa es que ningún caso positivo pase desapercibido. Esto es con el fin de prevenir que una persona se descuide de contraer por segunda vez el virus, lo que puede derivar en una enfermedad más grave. El modelo final alcanzado tiene una especificidad de ~90 % para los casos positivos. Si bien en este porcentaje está incluido un número de falsos positivos que serán testeados innecesariamente, generando un costo económico al Estado, hay baja probabilidad de que una persona infectada no sea diagnosticada, lo que significará un gran impacto en la medicina preventiva de Brasil."
   ]
  },
  {
   "cell_type": "code",
   "execution_count": null,
   "id": "3151dbfd",
   "metadata": {},
   "outputs": [],
   "source": []
  }
 ],
 "metadata": {
  "kernelspec": {
   "display_name": "Python 3 (ipykernel)",
   "language": "python",
   "name": "python3"
  },
  "language_info": {
   "codemirror_mode": {
    "name": "ipython",
    "version": 3
   },
   "file_extension": ".py",
   "mimetype": "text/x-python",
   "name": "python",
   "nbconvert_exporter": "python",
   "pygments_lexer": "ipython3",
   "version": "3.7.11"
  }
 },
 "nbformat": 4,
 "nbformat_minor": 5
}
